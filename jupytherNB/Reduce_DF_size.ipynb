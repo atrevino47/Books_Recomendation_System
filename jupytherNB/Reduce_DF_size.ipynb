{
 "cells": [
  {
   "cell_type": "code",
   "execution_count": 1,
   "metadata": {},
   "outputs": [],
   "source": [
    "import pandas as pd"
   ]
  },
  {
   "cell_type": "code",
   "execution_count": 59,
   "metadata": {},
   "outputs": [],
   "source": [
    "reviews_wBooks_data = pd.read_parquet(\"c:/Users/adria/Documents/MyPortfolio/Book_Recommendation_System/Resources/DataFrames/reviews_wBooks_data.parquet\")\n",
    "\n",
    "books_data = pd.read_parquet(\"c:/Users/adria/Documents/MyPortfolio/Book_Recommendation_System/Resources/DataFrames/books_data.parquet\")\n",
    "\n",
    "df_ratings_books_processed = pd.read_parquet(\n",
    "    \"c:/Users/adria/Documents/MyPortfolio/Book_Recommendation_System/Resources/DataFrames/SentimentAnalysis/200plusRatingsPerUser_60plusRatingsPerBook/df_ratings_books_processed.parquet\"\n",
    ")\n",
    "\n",
    "df_books_processed = pd.read_parquet(\n",
    "    \"c:/Users/adria/Documents/MyPortfolio/Book_Recommendation_System/Resources/DataFrames/SentimentAnalysis/200plusRatingsPerUser_60plusRatingsPerBook/df_books_processed.parquet\"\n",
    ")"
   ]
  },
  {
   "cell_type": "code",
   "execution_count": 45,
   "metadata": {},
   "outputs": [
    {
     "data": {
      "text/plain": [
       "Index(['title', 'review_score', 'authors', 'genre'], dtype='object')"
      ]
     },
     "execution_count": 45,
     "metadata": {},
     "output_type": "execute_result"
    }
   ],
   "source": [
    "reviews_wBooks_data.columns"
   ]
  },
  {
   "cell_type": "code",
   "execution_count": 46,
   "metadata": {},
   "outputs": [
    {
     "data": {
      "text/plain": [
       "Index(['Title', 'description', 'authors', 'image', 'previewLink', 'publisher',\n",
       "       'publishedDate', 'infoLink', 'categories', 'ratingsCount'],\n",
       "      dtype='object')"
      ]
     },
     "execution_count": 46,
     "metadata": {},
     "output_type": "execute_result"
    }
   ],
   "source": [
    "books_data.columns"
   ]
  },
  {
   "cell_type": "code",
   "execution_count": 47,
   "metadata": {},
   "outputs": [
    {
     "data": {
      "text/plain": [
       "Index(['Id', 'roberta_neg', 'roberta_neu', 'roberta_pos', 'book_id', 'title',\n",
       "       'user_id', 'profileName', 'review_score', 'review_text',\n",
       "       'roberta_compound', 'description', 'authors', 'image', 'previewLink',\n",
       "       'publisher', 'infoLink', 'genre', 'publication_year'],\n",
       "      dtype='object')"
      ]
     },
     "execution_count": 47,
     "metadata": {},
     "output_type": "execute_result"
    }
   ],
   "source": [
    "df_ratings_books_processed.columns"
   ]
  },
  {
   "cell_type": "code",
   "execution_count": 48,
   "metadata": {},
   "outputs": [
    {
     "data": {
      "text/plain": [
       "Index(['book_id', 'title', 'description', 'authors', 'image', 'previewLink',\n",
       "       'publisher', 'infoLink', 'genre', 'publication_year'],\n",
       "      dtype='object')"
      ]
     },
     "execution_count": 48,
     "metadata": {},
     "output_type": "execute_result"
    }
   ],
   "source": [
    "df_books_processed.columns"
   ]
  },
  {
   "cell_type": "code",
   "execution_count": 49,
   "metadata": {},
   "outputs": [
    {
     "name": "stdout",
     "output_type": "stream",
     "text": [
      "91.5528564453125 MB\n",
      "16.20526123046875 MB\n",
      "1.7426223754882812 MB\n",
      "0.008457183837890625 MB\n"
     ]
    }
   ],
   "source": [
    "\n",
    "print(reviews_wBooks_data.memory_usage().sum() / (1024 * 1024), \"MB\")\n",
    "print(books_data.memory_usage().sum() / (1024 * 1024), \"MB\")\n",
    "print(df_ratings_books_processed.memory_usage().sum() / (1024 * 1024), \"MB\")\n",
    "print(df_books_processed.memory_usage().sum() / (1024 * 1024), \"MB\")\n",
    "\n"
   ]
  },
  {
   "cell_type": "markdown",
   "metadata": {},
   "source": [
    "# Books_data"
   ]
  },
  {
   "cell_type": "code",
   "execution_count": 60,
   "metadata": {},
   "outputs": [],
   "source": [
    "books_data.rename(columns={\"Title\": \"title\", \"categories\": \"genre\"}, inplace=True)\n"
   ]
  },
  {
   "cell_type": "code",
   "execution_count": null,
   "metadata": {},
   "outputs": [],
   "source": []
  },
  {
   "cell_type": "markdown",
   "metadata": {},
   "source": [
    "# Review_wBooks_data"
   ]
  },
  {
   "cell_type": "code",
   "execution_count": 61,
   "metadata": {},
   "outputs": [],
   "source": [
    "grouped_df = (\n",
    "    reviews_wBooks_data.groupby(\"title\")\n",
    "    .agg({\"title\": \"count\", \"review_score\": \"mean\"})\n",
    "    .rename(columns={\"title\": \"title_Count\", \"review_score\": \"average_review_score\"})\n",
    "    .reset_index()\n",
    ")\n",
    "\n",
    "# Merge the aggregated data back to the original DataFrame\n",
    "reviews_wBooks_data = pd.merge(reviews_wBooks_data, grouped_df, on=\"title\")\n",
    "\n",
    "# Top 10 Titles by Count and Average Score Data Frame\n",
    "top_titles_10 = (\n",
    "    reviews_wBooks_data.groupby(\"title\")\n",
    "    .agg({\"review_score\": [\"count\", \"mean\"]})\n",
    "    .reset_index()\n",
    ")\n",
    "top_titles_10.columns = [\"title\", \"Count\", \"Average_Score\"]\n",
    "top_titles_10 = top_titles_10.sort_values(by=\"Count\", ascending=False).head(10)\n",
    "\n",
    "# Prepare DataFrame for map\n",
    "top_titles_12 = (\n",
    "    reviews_wBooks_data.groupby(\"title\")\n",
    "    .agg({\"review_score\": [\"count\", \"mean\"]})\n",
    "    .reset_index()\n",
    ")\n",
    "top_titles_12.columns = [\"title\", \"Count\", \"Average_Score\"]\n",
    "top_titles_12 = top_titles_12.sort_values(by=\"Count\", ascending=False).head(12)\n",
    "top_titles_12.reset_index(inplace=True)\n",
    "\n",
    "merged_df = pd.merge(\n",
    "    top_titles_12,\n",
    "    books_data[[\"title\", \"authors\", \"image\", \"publishedDate\"]],\n",
    "    on=\"title\",\n",
    "    how=\"inner\",\n",
    ")\n",
    "# merged_df = merged_df.dropna()\n",
    "merged_df.reset_index(inplace=True)\n",
    "\n",
    "authors_df = pd.read_parquet(\"c:/Users/adria/Documents/MyPortfolio/Book_Recommendation_System/Resources/DataFrames/GenericDF/authors_df.parquet\")\n",
    "\n",
    "# Merge with locations with books df\n",
    "merged_df_withloc = pd.merge(\n",
    "    merged_df,\n",
    "    authors_df[[\"authors\", \"lanlon\", \"place_of_birth\", \"country\"]],\n",
    "    on=\"authors\",\n",
    "    how=\"inner\",\n",
    ")\n",
    "\n",
    "# Separate latitude and longitude\n",
    "merged_df_withloc[[\"latitude\", \"longitude\"]] = (\n",
    "    merged_df_withloc[\"lanlon\"].str.split(\", \", expand=True).astype(float) # Done\n",
    "\n",
    ")\n",
    "\n",
    "# // TODO: Search for a better way to filter the data or outright remove it later\n",
    "reviews_wBooks_data = reviews_wBooks_data[reviews_wBooks_data[\"authors\"] != \"NoAuthor\"]\n",
    "reviews_wBooks_data = reviews_wBooks_data[reviews_wBooks_data[\"genre\"] != \"NoGenre\"]\n",
    "\n",
    "top_genres = reviews_wBooks_data[\"genre\"].value_counts().nlargest(3).index\n",
    "df_top_genres = reviews_wBooks_data[reviews_wBooks_data[\"genre\"].isin(top_genres)]\n",
    "\n",
    "# Step 2: For each top genre, filter by top 10 authors\n",
    "top_authors_by_genre = (\n",
    "    df_top_genres.groupby(\"genre\")[\"authors\"]\n",
    "    .value_counts()\n",
    "    .groupby(\"genre\", group_keys=False)\n",
    "    .nlargest(3)\n",
    "    .index.get_level_values(\"authors\")\n",
    ")\n",
    "\n",
    "df_final_0 = df_top_genres[df_top_genres[\"authors\"].isin(top_authors_by_genre)]\n",
    "\n",
    "title_mapping = {\n",
    "    \"The Hobbit; Or, There and Back Again\": \"The Hobbit\",\n",
    "    \"The Hobbitt, or there and back again; illustrated by the author.\": \"The Hobbit\",\n",
    "    \"The Hobbit or There and Back Again\": \"The Hobbit\",\n",
    "    \"The Hobbit There and Back Again\": \"The Hobbit\",\n",
    "}\n",
    "# df_final[\"grouped_title\"] = (\n",
    "#     df_final[\"title\"].map(title_mapping).fillna(df_final[\"title\"])\n",
    "# )\n",
    "df_final = df_final_0.copy()\n",
    "df_final.loc[:, \"grouped_title\"] = (\n",
    "    df_final[\"title\"].map(title_mapping).fillna(df_final[\"title\"])\n",
    ")\n",
    "\n",
    "# Perform groupby operation on \"grouped_title\" and calculate the mean of \"review_score\"\n",
    "df_final_grouped = (\n",
    "    df_final.groupby([\"genre\", \"authors\", \"grouped_title\"])\n",
    "    .agg({\"review_score\": \"mean\", \"grouped_title\": \"count\"})\n",
    "    .rename(\n",
    "        columns={\n",
    "            \"grouped_title\": \"title_Count\",\n",
    "            \"review_score\": \"average_review_score\",\n",
    "        }\n",
    "    )\n",
    "    .reset_index()\n",
    ")"
   ]
  },
  {
   "cell_type": "code",
   "execution_count": 63,
   "metadata": {},
   "outputs": [],
   "source": [
    "df_ratings_map = merged_df_withloc.to_parquet(\"c:/Users/adria/Documents/MyPortfolio/Book_Recommendation_System/Resources/DataFrames/df_ratings_map.parquet\")\n",
    "df_graph1 = top_titles_10.to_parquet(\"c:/Users/adria/Documents/MyPortfolio/Book_Recommendation_System/Resources/DataFrames/df_ratings_top10.parquet\")\n",
    "df_graph4 = df_final_grouped.to_parquet(\"c:/Users/adria/Documents/MyPortfolio/Book_Recommendation_System/Resources/DataFrames/df_final_grouped.parquet\")"
   ]
  },
  {
   "cell_type": "code",
   "execution_count": 53,
   "metadata": {},
   "outputs": [
    {
     "data": {
      "text/plain": [
       "0.00030517578125"
      ]
     },
     "execution_count": 53,
     "metadata": {},
     "output_type": "execute_result"
    }
   ],
   "source": [
    "top_titles_10.memory_usage().sum() / (1024 * 1024)"
   ]
  },
  {
   "cell_type": "code",
   "execution_count": 62,
   "metadata": {},
   "outputs": [
    {
     "data": {
      "text/html": [
       "<div>\n",
       "<style scoped>\n",
       "    .dataframe tbody tr th:only-of-type {\n",
       "        vertical-align: middle;\n",
       "    }\n",
       "\n",
       "    .dataframe tbody tr th {\n",
       "        vertical-align: top;\n",
       "    }\n",
       "\n",
       "    .dataframe thead th {\n",
       "        text-align: right;\n",
       "    }\n",
       "</style>\n",
       "<table border=\"1\" class=\"dataframe\">\n",
       "  <thead>\n",
       "    <tr style=\"text-align: right;\">\n",
       "      <th></th>\n",
       "      <th>level_0</th>\n",
       "      <th>index</th>\n",
       "      <th>title</th>\n",
       "      <th>Count</th>\n",
       "      <th>Average_Score</th>\n",
       "      <th>authors</th>\n",
       "      <th>image</th>\n",
       "      <th>publishedDate</th>\n",
       "      <th>lanlon</th>\n",
       "      <th>place_of_birth</th>\n",
       "      <th>country</th>\n",
       "      <th>latitude</th>\n",
       "      <th>longitude</th>\n",
       "    </tr>\n",
       "  </thead>\n",
       "  <tbody>\n",
       "    <tr>\n",
       "      <th>0</th>\n",
       "      <td>0</td>\n",
       "      <td>166774</td>\n",
       "      <td>The Hobbit</td>\n",
       "      <td>22023</td>\n",
       "      <td>4.657131</td>\n",
       "      <td>['J. R. R. Tolkien']</td>\n",
       "      <td>http://books.google.com/books/content?id=LLSpn...</td>\n",
       "      <td>2012</td>\n",
       "      <td>-29.082899, 26.159786</td>\n",
       "      <td>Bloemfontein</td>\n",
       "      <td>South Africa</td>\n",
       "      <td>-29.082899</td>\n",
       "      <td>26.159786</td>\n",
       "    </tr>\n",
       "    <tr>\n",
       "      <th>1</th>\n",
       "      <td>1</td>\n",
       "      <td>123882</td>\n",
       "      <td>Pride and Prejudice</td>\n",
       "      <td>20371</td>\n",
       "      <td>4.527662</td>\n",
       "      <td>['Jane Austen']</td>\n",
       "      <td>http://books.google.com/books/content?id=xVeMC...</td>\n",
       "      <td>1995-01-01</td>\n",
       "      <td>51.229223, -1.220092</td>\n",
       "      <td>Steventon, Basingstoke</td>\n",
       "      <td>UK</td>\n",
       "      <td>51.229223</td>\n",
       "      <td>-1.220092</td>\n",
       "    </tr>\n",
       "    <tr>\n",
       "      <th>2</th>\n",
       "      <td>11</td>\n",
       "      <td>119511</td>\n",
       "      <td>Persuasion</td>\n",
       "      <td>5498</td>\n",
       "      <td>4.386686</td>\n",
       "      <td>['Jane Austen']</td>\n",
       "      <td>http://books.google.com/books/content?id=3zsVA...</td>\n",
       "      <td>1899</td>\n",
       "      <td>51.229223, -1.220092</td>\n",
       "      <td>Steventon, Basingstoke</td>\n",
       "      <td>UK</td>\n",
       "      <td>51.229223</td>\n",
       "      <td>-1.220092</td>\n",
       "    </tr>\n",
       "    <tr>\n",
       "      <th>3</th>\n",
       "      <td>3</td>\n",
       "      <td>210378</td>\n",
       "      <td>Wuthering Heights</td>\n",
       "      <td>10780</td>\n",
       "      <td>4.053711</td>\n",
       "      <td>['Emily Bronte']</td>\n",
       "      <td>http://books.google.com/books/content?id=b3ctQ...</td>\n",
       "      <td>None</td>\n",
       "      <td>53.790707, -1.846649</td>\n",
       "      <td>Thornton, Bradford</td>\n",
       "      <td>UK</td>\n",
       "      <td>53.790707</td>\n",
       "      <td>-1.846649</td>\n",
       "    </tr>\n",
       "    <tr>\n",
       "      <th>4</th>\n",
       "      <td>4</td>\n",
       "      <td>164672</td>\n",
       "      <td>The Giver</td>\n",
       "      <td>7644</td>\n",
       "      <td>4.273417</td>\n",
       "      <td>['Lois Lowry']</td>\n",
       "      <td>http://books.google.com/books/content?id=Io57o...</td>\n",
       "      <td>2014-07-01</td>\n",
       "      <td>21.314281, -157.851258</td>\n",
       "      <td>Honolulu, Hawái</td>\n",
       "      <td>USA</td>\n",
       "      <td>21.314281</td>\n",
       "      <td>-157.851258</td>\n",
       "    </tr>\n",
       "    <tr>\n",
       "      <th>5</th>\n",
       "      <td>5</td>\n",
       "      <td>67539</td>\n",
       "      <td>Great Expectations</td>\n",
       "      <td>7421</td>\n",
       "      <td>4.089880</td>\n",
       "      <td>['Charles Dickens']</td>\n",
       "      <td>http://books.google.com/books/content?id=CV2ZQ...</td>\n",
       "      <td>2003-01-30</td>\n",
       "      <td>50.813335, -1.086365</td>\n",
       "      <td>Landport, Portsmouth</td>\n",
       "      <td>UK</td>\n",
       "      <td>50.813335</td>\n",
       "      <td>-1.086365</td>\n",
       "    </tr>\n",
       "    <tr>\n",
       "      <th>6</th>\n",
       "      <td>6</td>\n",
       "      <td>70372</td>\n",
       "      <td>Harry Potter and The Sorcerer's Stone</td>\n",
       "      <td>6796</td>\n",
       "      <td>4.739258</td>\n",
       "      <td>['J. K. Rowling']</td>\n",
       "      <td>http://books.google.com/books/content?id=HksgD...</td>\n",
       "      <td>2014-01-09</td>\n",
       "      <td>51.541983, -2.414024</td>\n",
       "      <td>Yate, Bristol</td>\n",
       "      <td>UK</td>\n",
       "      <td>51.541983</td>\n",
       "      <td>-2.414024</td>\n",
       "    </tr>\n",
       "    <tr>\n",
       "      <th>7</th>\n",
       "      <td>8</td>\n",
       "      <td>26051</td>\n",
       "      <td>Brave New World</td>\n",
       "      <td>6312</td>\n",
       "      <td>4.235266</td>\n",
       "      <td>['Aldous Huxley']</td>\n",
       "      <td>http://books.google.com/books/content?id=kKh5D...</td>\n",
       "      <td>2008-12-26</td>\n",
       "      <td>51.193015, -0.612654</td>\n",
       "      <td>Godalming</td>\n",
       "      <td>UK</td>\n",
       "      <td>51.193015</td>\n",
       "      <td>-0.612654</td>\n",
       "    </tr>\n",
       "    <tr>\n",
       "      <th>8</th>\n",
       "      <td>9</td>\n",
       "      <td>102197</td>\n",
       "      <td>Mere Christianity</td>\n",
       "      <td>6053</td>\n",
       "      <td>4.469684</td>\n",
       "      <td>['C. S. Lewis']</td>\n",
       "      <td>http://books.google.com/books/content?id=OF-YS...</td>\n",
       "      <td>2009-06-02</td>\n",
       "      <td>54.595004, -5.922083</td>\n",
       "      <td>Belfast</td>\n",
       "      <td>UK</td>\n",
       "      <td>54.595004</td>\n",
       "      <td>-5.922083</td>\n",
       "    </tr>\n",
       "    <tr>\n",
       "      <th>9</th>\n",
       "      <td>10</td>\n",
       "      <td>175925</td>\n",
       "      <td>The Picture of Dorian Gray</td>\n",
       "      <td>5883</td>\n",
       "      <td>4.272140</td>\n",
       "      <td>['Óscar Wilde']</td>\n",
       "      <td>http://books.google.com/books/content?id=s3xej...</td>\n",
       "      <td>2016-01-24</td>\n",
       "      <td>53.342877, -6.249795</td>\n",
       "      <td>Westland Row, Dublin</td>\n",
       "      <td>Irland</td>\n",
       "      <td>53.342877</td>\n",
       "      <td>-6.249795</td>\n",
       "    </tr>\n",
       "  </tbody>\n",
       "</table>\n",
       "</div>"
      ],
      "text/plain": [
       "   level_0   index                                  title  Count  \\\n",
       "0        0  166774                             The Hobbit  22023   \n",
       "1        1  123882                    Pride and Prejudice  20371   \n",
       "2       11  119511                             Persuasion   5498   \n",
       "3        3  210378                      Wuthering Heights  10780   \n",
       "4        4  164672                              The Giver   7644   \n",
       "5        5   67539                     Great Expectations   7421   \n",
       "6        6   70372  Harry Potter and The Sorcerer's Stone   6796   \n",
       "7        8   26051                        Brave New World   6312   \n",
       "8        9  102197                      Mere Christianity   6053   \n",
       "9       10  175925             The Picture of Dorian Gray   5883   \n",
       "\n",
       "   Average_Score               authors  \\\n",
       "0       4.657131  ['J. R. R. Tolkien']   \n",
       "1       4.527662       ['Jane Austen']   \n",
       "2       4.386686       ['Jane Austen']   \n",
       "3       4.053711      ['Emily Bronte']   \n",
       "4       4.273417        ['Lois Lowry']   \n",
       "5       4.089880   ['Charles Dickens']   \n",
       "6       4.739258     ['J. K. Rowling']   \n",
       "7       4.235266     ['Aldous Huxley']   \n",
       "8       4.469684       ['C. S. Lewis']   \n",
       "9       4.272140       ['Óscar Wilde']   \n",
       "\n",
       "                                               image publishedDate  \\\n",
       "0  http://books.google.com/books/content?id=LLSpn...          2012   \n",
       "1  http://books.google.com/books/content?id=xVeMC...    1995-01-01   \n",
       "2  http://books.google.com/books/content?id=3zsVA...          1899   \n",
       "3  http://books.google.com/books/content?id=b3ctQ...          None   \n",
       "4  http://books.google.com/books/content?id=Io57o...    2014-07-01   \n",
       "5  http://books.google.com/books/content?id=CV2ZQ...    2003-01-30   \n",
       "6  http://books.google.com/books/content?id=HksgD...    2014-01-09   \n",
       "7  http://books.google.com/books/content?id=kKh5D...    2008-12-26   \n",
       "8  http://books.google.com/books/content?id=OF-YS...    2009-06-02   \n",
       "9  http://books.google.com/books/content?id=s3xej...    2016-01-24   \n",
       "\n",
       "                   lanlon          place_of_birth       country   latitude  \\\n",
       "0   -29.082899, 26.159786            Bloemfontein  South Africa -29.082899   \n",
       "1    51.229223, -1.220092  Steventon, Basingstoke            UK  51.229223   \n",
       "2    51.229223, -1.220092  Steventon, Basingstoke            UK  51.229223   \n",
       "3    53.790707, -1.846649      Thornton, Bradford            UK  53.790707   \n",
       "4  21.314281, -157.851258         Honolulu, Hawái           USA  21.314281   \n",
       "5    50.813335, -1.086365    Landport, Portsmouth            UK  50.813335   \n",
       "6    51.541983, -2.414024           Yate, Bristol            UK  51.541983   \n",
       "7    51.193015, -0.612654               Godalming            UK  51.193015   \n",
       "8    54.595004, -5.922083                 Belfast            UK  54.595004   \n",
       "9    53.342877, -6.249795    Westland Row, Dublin        Irland  53.342877   \n",
       "\n",
       "    longitude  \n",
       "0   26.159786  \n",
       "1   -1.220092  \n",
       "2   -1.220092  \n",
       "3   -1.846649  \n",
       "4 -157.851258  \n",
       "5   -1.086365  \n",
       "6   -2.414024  \n",
       "7   -0.612654  \n",
       "8   -5.922083  \n",
       "9   -6.249795  "
      ]
     },
     "execution_count": 62,
     "metadata": {},
     "output_type": "execute_result"
    }
   ],
   "source": [
    "merged_df_withloc"
   ]
  },
  {
   "cell_type": "code",
   "execution_count": null,
   "metadata": {},
   "outputs": [],
   "source": []
  }
 ],
 "metadata": {
  "kernelspec": {
   "display_name": "python_base",
   "language": "python",
   "name": "python3"
  },
  "language_info": {
   "codemirror_mode": {
    "name": "ipython",
    "version": 3
   },
   "file_extension": ".py",
   "mimetype": "text/x-python",
   "name": "python",
   "nbconvert_exporter": "python",
   "pygments_lexer": "ipython3",
   "version": "3.10.13"
  }
 },
 "nbformat": 4,
 "nbformat_minor": 2
}
