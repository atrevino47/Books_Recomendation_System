{
 "cells": [
  {
   "cell_type": "markdown",
   "metadata": {},
   "source": [
    "# Import Libraries"
   ]
  },
  {
   "cell_type": "code",
   "execution_count": 4,
   "metadata": {},
   "outputs": [],
   "source": [
    "import pandas as pd\n",
    "import numpy as np\n",
    "import matplotlib.pyplot as plt\n",
    "import seaborn as sns\n",
    "import warnings\n",
    "warnings.filterwarnings('ignore')\n",
    "import gzip\n",
    "import json\n",
    "import re\n",
    "import os\n",
    "from tqdm import tqdm\n",
    "import requests\n",
    "from io import BytesIO\n",
    "from pickle import dump, load\n",
    "from bs4 import BeautifulSoup\n",
    "from sklearn.feature_extraction.text import TfidfVectorizer\n",
    "from sklearn.metrics.pairwise import cosine_similarity\n",
    "from sklearn.preprocessing import MinMaxScaler\n",
    "from sklearn.linear_model import LogisticRegression\n",
    "from sklearn.tree import DecisionTreeClassifier, DecisionTreeRegressor\n",
    "from sklearn.ensemble import RandomForestClassifier\n",
    "from sklearn.multiclass import OneVsRestClassifier\n",
    "from sklearn.model_selection import GridSearchCV\n",
    "from sklearn.metrics import precision_score, mean_squared_error\n",
    "from sklearn.model_selection import train_test_split\n",
    "from sklearn.metrics import ConfusionMatrixDisplay\n",
    "from sklearn import preprocessing\n",
    "from sklearn.metrics import pairwise_distances\n",
    "import scipy.sparse\n",
    "from scipy.sparse import hstack\n",
    "from scipy import stats\n",
    "from scipy.sparse import coo_matrix\n",
    "from surprise import Reader, Dataset\n",
    "from surprise import SVD, model_selection, accuracy\n",
    "from PIL import Image\n",
    "from tensorflow.keras.preprocessing.image import load_img\n",
    "from tensorflow.keras.preprocessing.image import img_to_array\n",
    "from tensorflow.keras.applications.vgg16 import preprocess_input\n",
    "from tensorflow.keras.applications.vgg16 import VGG16\n",
    "from tensorflow.keras.models import Model\n"
   ]
  },
  {
   "cell_type": "markdown",
   "metadata": {},
   "source": [
    "# Load Data"
   ]
  },
  {
   "cell_type": "code",
   "execution_count": 92,
   "metadata": {},
   "outputs": [],
   "source": [
    "df_ratings = pd.read_parquet(\"C:/Users/adria/Documents/Projects/Books/Resources/DataFrames/SentimentAnalysis/200plusRatingsPerUser_60plusRatingsPerBook/results_df.parquet\")"
   ]
  },
  {
   "cell_type": "code",
   "execution_count": 93,
   "metadata": {},
   "outputs": [],
   "source": [
    "df_ratings.rename(columns={'User_id':'user_id'}, inplace=True)"
   ]
  },
  {
   "cell_type": "code",
   "execution_count": 97,
   "metadata": {},
   "outputs": [
    {
     "data": {
      "text/html": [
       "<div>\n",
       "<style scoped>\n",
       "    .dataframe tbody tr th:only-of-type {\n",
       "        vertical-align: middle;\n",
       "    }\n",
       "\n",
       "    .dataframe tbody tr th {\n",
       "        vertical-align: top;\n",
       "    }\n",
       "\n",
       "    .dataframe thead th {\n",
       "        text-align: right;\n",
       "    }\n",
       "</style>\n",
       "<table border=\"1\" class=\"dataframe\">\n",
       "  <thead>\n",
       "    <tr style=\"text-align: right;\">\n",
       "      <th></th>\n",
       "      <th>Id</th>\n",
       "      <th>roberta_neg</th>\n",
       "      <th>roberta_neu</th>\n",
       "      <th>roberta_pos</th>\n",
       "      <th>book_id</th>\n",
       "      <th>title</th>\n",
       "      <th>user_id</th>\n",
       "      <th>profileName</th>\n",
       "      <th>review_score</th>\n",
       "      <th>review_text</th>\n",
       "    </tr>\n",
       "  </thead>\n",
       "  <tbody>\n",
       "  </tbody>\n",
       "</table>\n",
       "</div>"
      ],
      "text/plain": [
       "Empty DataFrame\n",
       "Columns: [Id, roberta_neg, roberta_neu, roberta_pos, book_id, title, user_id, profileName, review_score, review_text]\n",
       "Index: []"
      ]
     },
     "execution_count": 97,
     "metadata": {},
     "output_type": "execute_result"
    }
   ],
   "source": [
    "df_ratings[df_ratings['title'].str.contains('Harry', case=False, na=False)]"
   ]
  },
  {
   "cell_type": "code",
   "execution_count": 100,
   "metadata": {},
   "outputs": [
    {
     "data": {
      "text/plain": [
       "Index(['Id', 'roberta_neg', 'roberta_neu', 'roberta_pos', 'book_id', 'title',\n",
       "       'user_id', 'profileName', 'review_score', 'review_text'],\n",
       "      dtype='object')"
      ]
     },
     "execution_count": 100,
     "metadata": {},
     "output_type": "execute_result"
    }
   ],
   "source": [
    "df_ratings.columns"
   ]
  },
  {
   "cell_type": "code",
   "execution_count": 106,
   "metadata": {},
   "outputs": [],
   "source": [
    "df_books = pd.read_parquet('C:/Users/adria/Documents/Projects/Books/Resources/DataFrames/filtered_books_data115.parquet')"
   ]
  },
  {
   "cell_type": "code",
   "execution_count": 98,
   "metadata": {},
   "outputs": [
    {
     "data": {
      "text/html": [
       "<div>\n",
       "<style scoped>\n",
       "    .dataframe tbody tr th:only-of-type {\n",
       "        vertical-align: middle;\n",
       "    }\n",
       "\n",
       "    .dataframe tbody tr th {\n",
       "        vertical-align: top;\n",
       "    }\n",
       "\n",
       "    .dataframe thead th {\n",
       "        text-align: right;\n",
       "    }\n",
       "</style>\n",
       "<table border=\"1\" class=\"dataframe\">\n",
       "  <thead>\n",
       "    <tr style=\"text-align: right;\">\n",
       "      <th></th>\n",
       "      <th>book_id</th>\n",
       "      <th>title</th>\n",
       "      <th>description</th>\n",
       "      <th>authors</th>\n",
       "      <th>image</th>\n",
       "      <th>previewLink</th>\n",
       "      <th>publisher</th>\n",
       "      <th>publishedDate</th>\n",
       "      <th>infoLink</th>\n",
       "      <th>genre</th>\n",
       "    </tr>\n",
       "  </thead>\n",
       "  <tbody>\n",
       "  </tbody>\n",
       "</table>\n",
       "</div>"
      ],
      "text/plain": [
       "Empty DataFrame\n",
       "Columns: [book_id, title, description, authors, image, previewLink, publisher, publishedDate, infoLink, genre]\n",
       "Index: []"
      ]
     },
     "execution_count": 98,
     "metadata": {},
     "output_type": "execute_result"
    }
   ],
   "source": [
    "df_books.head(0)"
   ]
  },
  {
   "cell_type": "code",
   "execution_count": 105,
   "metadata": {},
   "outputs": [
    {
     "data": {
      "text/html": [
       "<div>\n",
       "<style scoped>\n",
       "    .dataframe tbody tr th:only-of-type {\n",
       "        vertical-align: middle;\n",
       "    }\n",
       "\n",
       "    .dataframe tbody tr th {\n",
       "        vertical-align: top;\n",
       "    }\n",
       "\n",
       "    .dataframe thead th {\n",
       "        text-align: right;\n",
       "    }\n",
       "</style>\n",
       "<table border=\"1\" class=\"dataframe\">\n",
       "  <thead>\n",
       "    <tr style=\"text-align: right;\">\n",
       "      <th></th>\n",
       "      <th>Id</th>\n",
       "      <th>roberta_neg</th>\n",
       "      <th>roberta_neu</th>\n",
       "      <th>roberta_pos</th>\n",
       "      <th>title</th>\n",
       "      <th>user_id</th>\n",
       "      <th>profileName</th>\n",
       "      <th>review_score</th>\n",
       "      <th>review_text</th>\n",
       "    </tr>\n",
       "  </thead>\n",
       "  <tbody>\n",
       "  </tbody>\n",
       "</table>\n",
       "</div>"
      ],
      "text/plain": [
       "Empty DataFrame\n",
       "Columns: [Id, roberta_neg, roberta_neu, roberta_pos, title, user_id, profileName, review_score, review_text]\n",
       "Index: []"
      ]
     },
     "execution_count": 105,
     "metadata": {},
     "output_type": "execute_result"
    }
   ],
   "source": [
    "desired_columns = ['Id', 'roberta_neg', 'roberta_neu', 'roberta_pos', 'title',\n",
    "       'user_id', 'profileName', 'review_score', 'review_text']\n",
    "df_ratings_copy = df_ratings[desired_columns].copy()\n",
    "df_ratings_copy.head(0)"
   ]
  },
  {
   "cell_type": "code",
   "execution_count": 110,
   "metadata": {},
   "outputs": [
    {
     "data": {
      "text/html": [
       "<div>\n",
       "<style scoped>\n",
       "    .dataframe tbody tr th:only-of-type {\n",
       "        vertical-align: middle;\n",
       "    }\n",
       "\n",
       "    .dataframe tbody tr th {\n",
       "        vertical-align: top;\n",
       "    }\n",
       "\n",
       "    .dataframe thead th {\n",
       "        text-align: right;\n",
       "    }\n",
       "</style>\n",
       "<table border=\"1\" class=\"dataframe\">\n",
       "  <thead>\n",
       "    <tr style=\"text-align: right;\">\n",
       "      <th></th>\n",
       "      <th>Id</th>\n",
       "      <th>roberta_neg</th>\n",
       "      <th>roberta_neu</th>\n",
       "      <th>roberta_pos</th>\n",
       "      <th>title</th>\n",
       "      <th>user_id</th>\n",
       "      <th>profileName</th>\n",
       "      <th>review_score</th>\n",
       "      <th>review_text</th>\n",
       "      <th>book_id</th>\n",
       "    </tr>\n",
       "  </thead>\n",
       "  <tbody>\n",
       "    <tr>\n",
       "      <th>0</th>\n",
       "      <td>1747</td>\n",
       "      <td>0.004265</td>\n",
       "      <td>0.053986</td>\n",
       "      <td>0.941749</td>\n",
       "      <td>The Scarlet Letter A Romance</td>\n",
       "      <td>AUM3YMZ0YRJE0</td>\n",
       "      <td>Robert J. Crawford</td>\n",
       "      <td>5.0</td>\n",
       "      <td>WHen I finally started reading this classic, I...</td>\n",
       "      <td>B000N6DDJQ</td>\n",
       "    </tr>\n",
       "    <tr>\n",
       "      <th>1</th>\n",
       "      <td>1807</td>\n",
       "      <td>0.011064</td>\n",
       "      <td>0.125440</td>\n",
       "      <td>0.863495</td>\n",
       "      <td>The Scarlet Letter A Romance</td>\n",
       "      <td>AMKZHBOK7VMQR</td>\n",
       "      <td>R. J. Marsella</td>\n",
       "      <td>5.0</td>\n",
       "      <td>Hawthorne wrote a masterful work of historical...</td>\n",
       "      <td>B000N6DDJQ</td>\n",
       "    </tr>\n",
       "    <tr>\n",
       "      <th>2</th>\n",
       "      <td>1820</td>\n",
       "      <td>0.118758</td>\n",
       "      <td>0.562613</td>\n",
       "      <td>0.318629</td>\n",
       "      <td>The Scarlet Letter A Romance</td>\n",
       "      <td>AWLFVCT9128JV</td>\n",
       "      <td>Dave_42 \"Dave_42\"</td>\n",
       "      <td>4.0</td>\n",
       "      <td>I don't suppose anything can ruin a book more ...</td>\n",
       "      <td>B000N6DDJQ</td>\n",
       "    </tr>\n",
       "    <tr>\n",
       "      <th>3</th>\n",
       "      <td>1829</td>\n",
       "      <td>0.542925</td>\n",
       "      <td>0.406122</td>\n",
       "      <td>0.050953</td>\n",
       "      <td>The Scarlet Letter A Romance</td>\n",
       "      <td>ABN5K7K1TM1QA</td>\n",
       "      <td>Dennis Littrell</td>\n",
       "      <td>5.0</td>\n",
       "      <td>\"All have sinned and fall short of the glory o...</td>\n",
       "      <td>B000N6DDJQ</td>\n",
       "    </tr>\n",
       "    <tr>\n",
       "      <th>4</th>\n",
       "      <td>1830</td>\n",
       "      <td>0.360523</td>\n",
       "      <td>0.539366</td>\n",
       "      <td>0.100111</td>\n",
       "      <td>The Scarlet Letter A Romance</td>\n",
       "      <td>A3IKBHODOTYYHM</td>\n",
       "      <td>fra7299 \"fra7299\"</td>\n",
       "      <td>4.0</td>\n",
       "      <td>I think the many readers who were forced to pa...</td>\n",
       "      <td>B000N6DDJQ</td>\n",
       "    </tr>\n",
       "    <tr>\n",
       "      <th>...</th>\n",
       "      <td>...</td>\n",
       "      <td>...</td>\n",
       "      <td>...</td>\n",
       "      <td>...</td>\n",
       "      <td>...</td>\n",
       "      <td>...</td>\n",
       "      <td>...</td>\n",
       "      <td>...</td>\n",
       "      <td>...</td>\n",
       "      <td>...</td>\n",
       "    </tr>\n",
       "    <tr>\n",
       "      <th>13837</th>\n",
       "      <td>2978030</td>\n",
       "      <td>0.163704</td>\n",
       "      <td>0.662723</td>\n",
       "      <td>0.173573</td>\n",
       "      <td>The Hobbit or There and Back Again</td>\n",
       "      <td>A21W6PCDZWG15R</td>\n",
       "      <td>J C E Hitchcock</td>\n",
       "      <td>4.0</td>\n",
       "      <td>This book tells of the hobbit Bilbo Baggins an...</td>\n",
       "      <td>B000Q032UY</td>\n",
       "    </tr>\n",
       "    <tr>\n",
       "      <th>13838</th>\n",
       "      <td>2978032</td>\n",
       "      <td>0.006546</td>\n",
       "      <td>0.074743</td>\n",
       "      <td>0.918711</td>\n",
       "      <td>The Hobbit or There and Back Again</td>\n",
       "      <td>A2C27IQUH9N1Z</td>\n",
       "      <td>audrey</td>\n",
       "      <td>5.0</td>\n",
       "      <td>This review discusses the graphic novel of Tol...</td>\n",
       "      <td>B000Q032UY</td>\n",
       "    </tr>\n",
       "    <tr>\n",
       "      <th>13839</th>\n",
       "      <td>2978035</td>\n",
       "      <td>0.118400</td>\n",
       "      <td>0.510296</td>\n",
       "      <td>0.371304</td>\n",
       "      <td>The Hobbit or There and Back Again</td>\n",
       "      <td>A1D2C0WDCSHUWZ</td>\n",
       "      <td>E. A Solinas \"ea_solinas\"</td>\n",
       "      <td>5.0</td>\n",
       "      <td>The face of literature changed forever with th...</td>\n",
       "      <td>B000Q032UY</td>\n",
       "    </tr>\n",
       "    <tr>\n",
       "      <th>13840</th>\n",
       "      <td>2978087</td>\n",
       "      <td>0.002854</td>\n",
       "      <td>0.016767</td>\n",
       "      <td>0.980378</td>\n",
       "      <td>The Hobbit or There and Back Again</td>\n",
       "      <td>AFYYHRPSFBLWS</td>\n",
       "      <td>Ash Ryan</td>\n",
       "      <td>4.0</td>\n",
       "      <td>Very well written, which makes the story seem ...</td>\n",
       "      <td>B000Q032UY</td>\n",
       "    </tr>\n",
       "    <tr>\n",
       "      <th>13841</th>\n",
       "      <td>2978094</td>\n",
       "      <td>0.005726</td>\n",
       "      <td>0.053745</td>\n",
       "      <td>0.940529</td>\n",
       "      <td>The Hobbit or There and Back Again</td>\n",
       "      <td>AQZH7YTWQPOBE</td>\n",
       "      <td>Enjolras</td>\n",
       "      <td>5.0</td>\n",
       "      <td>The Hobbit has always held a special place in ...</td>\n",
       "      <td>B000Q032UY</td>\n",
       "    </tr>\n",
       "  </tbody>\n",
       "</table>\n",
       "<p>13842 rows × 10 columns</p>\n",
       "</div>"
      ],
      "text/plain": [
       "            Id  roberta_neg  roberta_neu  roberta_pos  \\\n",
       "0         1747     0.004265     0.053986     0.941749   \n",
       "1         1807     0.011064     0.125440     0.863495   \n",
       "2         1820     0.118758     0.562613     0.318629   \n",
       "3         1829     0.542925     0.406122     0.050953   \n",
       "4         1830     0.360523     0.539366     0.100111   \n",
       "...        ...          ...          ...          ...   \n",
       "13837  2978030     0.163704     0.662723     0.173573   \n",
       "13838  2978032     0.006546     0.074743     0.918711   \n",
       "13839  2978035     0.118400     0.510296     0.371304   \n",
       "13840  2978087     0.002854     0.016767     0.980378   \n",
       "13841  2978094     0.005726     0.053745     0.940529   \n",
       "\n",
       "                                    title         user_id  \\\n",
       "0            The Scarlet Letter A Romance   AUM3YMZ0YRJE0   \n",
       "1            The Scarlet Letter A Romance   AMKZHBOK7VMQR   \n",
       "2            The Scarlet Letter A Romance   AWLFVCT9128JV   \n",
       "3            The Scarlet Letter A Romance   ABN5K7K1TM1QA   \n",
       "4            The Scarlet Letter A Romance  A3IKBHODOTYYHM   \n",
       "...                                   ...             ...   \n",
       "13837  The Hobbit or There and Back Again  A21W6PCDZWG15R   \n",
       "13838  The Hobbit or There and Back Again   A2C27IQUH9N1Z   \n",
       "13839  The Hobbit or There and Back Again  A1D2C0WDCSHUWZ   \n",
       "13840  The Hobbit or There and Back Again   AFYYHRPSFBLWS   \n",
       "13841  The Hobbit or There and Back Again   AQZH7YTWQPOBE   \n",
       "\n",
       "                     profileName  review_score  \\\n",
       "0             Robert J. Crawford           5.0   \n",
       "1                 R. J. Marsella           5.0   \n",
       "2              Dave_42 \"Dave_42\"           4.0   \n",
       "3                Dennis Littrell           5.0   \n",
       "4              fra7299 \"fra7299\"           4.0   \n",
       "...                          ...           ...   \n",
       "13837            J C E Hitchcock           4.0   \n",
       "13838                     audrey           5.0   \n",
       "13839  E. A Solinas \"ea_solinas\"           5.0   \n",
       "13840                   Ash Ryan           4.0   \n",
       "13841                   Enjolras           5.0   \n",
       "\n",
       "                                             review_text     book_id  \n",
       "0      WHen I finally started reading this classic, I...  B000N6DDJQ  \n",
       "1      Hawthorne wrote a masterful work of historical...  B000N6DDJQ  \n",
       "2      I don't suppose anything can ruin a book more ...  B000N6DDJQ  \n",
       "3      \"All have sinned and fall short of the glory o...  B000N6DDJQ  \n",
       "4      I think the many readers who were forced to pa...  B000N6DDJQ  \n",
       "...                                                  ...         ...  \n",
       "13837  This book tells of the hobbit Bilbo Baggins an...  B000Q032UY  \n",
       "13838  This review discusses the graphic novel of Tol...  B000Q032UY  \n",
       "13839  The face of literature changed forever with th...  B000Q032UY  \n",
       "13840  Very well written, which makes the story seem ...  B000Q032UY  \n",
       "13841  The Hobbit has always held a special place in ...  B000Q032UY  \n",
       "\n",
       "[13842 rows x 10 columns]"
      ]
     },
     "execution_count": 110,
     "metadata": {},
     "output_type": "execute_result"
    }
   ],
   "source": [
    "df_ratings_copy = pd.merge(df_ratings_copy, df_books[['title', 'book_id']], on='title', how='inner')\n",
    "df_ratings_copy"
   ]
  },
  {
   "cell_type": "code",
   "execution_count": 111,
   "metadata": {},
   "outputs": [
    {
     "data": {
      "text/plain": [
       "115"
      ]
     },
     "execution_count": 111,
     "metadata": {},
     "output_type": "execute_result"
    }
   ],
   "source": [
    "df_ratings_copy.book_id.nunique()"
   ]
  },
  {
   "cell_type": "markdown",
   "metadata": {},
   "source": [
    "# Pre-Processing Data"
   ]
  },
  {
   "cell_type": "markdown",
   "metadata": {},
   "source": [
    "*Process Publishing Date that lacks format*"
   ]
  },
  {
   "cell_type": "code",
   "execution_count": 142,
   "metadata": {},
   "outputs": [
    {
     "name": "stdout",
     "output_type": "stream",
     "text": [
      "<class 'pandas.core.frame.DataFrame'>\n",
      "RangeIndex: 115 entries, 0 to 114\n",
      "Data columns (total 10 columns):\n",
      " #   Column            Non-Null Count  Dtype \n",
      "---  ------            --------------  ----- \n",
      " 0   book_id           115 non-null    object\n",
      " 1   title             115 non-null    object\n",
      " 2   description       99 non-null     object\n",
      " 3   authors           105 non-null    object\n",
      " 4   image             99 non-null     object\n",
      " 5   previewLink       107 non-null    object\n",
      " 6   publisher         91 non-null     object\n",
      " 7   infoLink          107 non-null    object\n",
      " 8   genre             89 non-null     object\n",
      " 9   publication_year  115 non-null    int32 \n",
      "dtypes: int32(1), object(9)\n",
      "memory usage: 8.7+ KB\n"
     ]
    }
   ],
   "source": [
    "df_books_copy = df_books.copy()\n",
    "\n",
    "df_books_copy.publishedDate = df_books_copy.publishedDate.apply(lambda x: x + '-01-01' if isinstance(x, str) and len(x) == 4 else x)\n",
    "df_books_copy.publishedDate = df_books_copy.publishedDate.apply(lambda x: x + '-01' if isinstance(x, str) and len(x) == 7 else x)\n",
    "\n",
    "\n",
    "df_books_copy.publishedDate = pd.to_datetime(df_books_copy.publishedDate, errors='coerce')\n",
    "df_books_copy['publication_year'] = df_books_copy['publishedDate'].dt.year\n",
    "\n",
    "median_publication_year = df_books_copy['publication_year'].median()\n",
    "df_books_copy['publication_year'] = df_books_copy['publication_year'].fillna(median_publication_year).astype(int)\n",
    "\n",
    "df_books_copy = df_books_copy.drop('publishedDate', axis=1)\n",
    "\n",
    "df_books_copy.info(0)"
   ]
  },
  {
   "cell_type": "code",
   "execution_count": 144,
   "metadata": {},
   "outputs": [
    {
     "data": {
      "text/html": [
       "<div>\n",
       "<style scoped>\n",
       "    .dataframe tbody tr th:only-of-type {\n",
       "        vertical-align: middle;\n",
       "    }\n",
       "\n",
       "    .dataframe tbody tr th {\n",
       "        vertical-align: top;\n",
       "    }\n",
       "\n",
       "    .dataframe thead th {\n",
       "        text-align: right;\n",
       "    }\n",
       "</style>\n",
       "<table border=\"1\" class=\"dataframe\">\n",
       "  <thead>\n",
       "    <tr style=\"text-align: right;\">\n",
       "      <th></th>\n",
       "      <th>book_id</th>\n",
       "      <th>title</th>\n",
       "      <th>description</th>\n",
       "      <th>authors</th>\n",
       "      <th>image</th>\n",
       "      <th>previewLink</th>\n",
       "      <th>publisher</th>\n",
       "      <th>infoLink</th>\n",
       "      <th>genre</th>\n",
       "      <th>publication_year</th>\n",
       "    </tr>\n",
       "  </thead>\n",
       "  <tbody>\n",
       "  </tbody>\n",
       "</table>\n",
       "</div>"
      ],
      "text/plain": [
       "Empty DataFrame\n",
       "Columns: [book_id, title, description, authors, image, previewLink, publisher, infoLink, genre, publication_year]\n",
       "Index: []"
      ]
     },
     "execution_count": 144,
     "metadata": {},
     "output_type": "execute_result"
    }
   ],
   "source": [
    "df_books_copy.head(0)"
   ]
  },
  {
   "cell_type": "code",
   "execution_count": 226,
   "metadata": {},
   "outputs": [
    {
     "name": "stdout",
     "output_type": "stream",
     "text": [
      "<class 'pandas.core.frame.DataFrame'>\n",
      "RangeIndex: 13842 entries, 0 to 13841\n",
      "Data columns (total 10 columns):\n",
      " #   Column        Non-Null Count  Dtype  \n",
      "---  ------        --------------  -----  \n",
      " 0   Id            13842 non-null  int64  \n",
      " 1   roberta_neg   13842 non-null  float32\n",
      " 2   roberta_neu   13842 non-null  float32\n",
      " 3   roberta_pos   13842 non-null  float32\n",
      " 4   book_id       13842 non-null  object \n",
      " 5   title         13842 non-null  object \n",
      " 6   user_id       13842 non-null  object \n",
      " 7   profileName   13842 non-null  object \n",
      " 8   review_score  13842 non-null  float64\n",
      " 9   review_text   13842 non-null  object \n",
      "dtypes: float32(3), float64(1), int64(1), object(5)\n",
      "memory usage: 919.3+ KB\n"
     ]
    }
   ],
   "source": [
    "df_ratings_copy.info(0)"
   ]
  },
  {
   "cell_type": "code",
   "execution_count": 227,
   "metadata": {},
   "outputs": [],
   "source": [
    "# Function to process Data\n",
    "\n",
    "def preprocess_numeric_data(dataframe, df_name):\n",
    "  if df_name == 'df_books_copy': # Process Data only for books DataFrame\n",
    "    # Only publishedDate needs to be processed as numeric. \n",
    "    dataframe.publishedDate = dataframe.publishedDate.apply(lambda x: x + '-01-01' if isinstance(x, str) and len(x) == 4 else x)\n",
    "    dataframe.publishedDate = dataframe.publishedDate.apply(lambda x: x + '-01' if isinstance(x, str) and len(x) == 7 else x)\n",
    "    dataframe.publishedDate = pd.to_datetime(dataframe.publishedDate, errors='coerce')\n",
    "    dataframe['publication_year'] = dataframe['publishedDate'].dt.year\n",
    "    median_publication_year = dataframe['publication_year'].median()\n",
    "    dataframe['publication_year'] = dataframe['publication_year'].fillna(median_publication_year).astype(int)\n",
    "    dataframe = dataframe.drop('publishedDate', axis=1)\n",
    "\n",
    "  elif df_name == 'df_ratings_copy': # Process Data only for users Data Base df_ratings_copy\n",
    "    # Only review_score to be processed from float64 to int32. \n",
    "    dataframe['review_score'] = dataframe['review_score'].astype(int)\n",
    "\n",
    "  return dataframe\n",
    "\n",
    "def preprocess_text_data(dataframe, df_name):\n",
    "  dataframe[\"book_id\"] = dataframe[\"book_id\"].astype(str)\n",
    "  if df_name == 'df_books_numeric_mod':\n",
    "    # dataframe[\"title\"] = dataframe[\"title\"].str.replace(\"[^a-zA-Z0-9 ]\", \"\", regex=True)\n",
    "    # dataframe[\"title\"] = dataframe[\"title\"].str.lower()\n",
    "    # dataframe[\"title\"] = dataframe[\"title\"].str.replace(\"\\s+\", \" \", regex=True)\n",
    "    # dataframe = dataframe[dataframe[\"title\"].str.len() > 0]\n",
    "    \n",
    "    dataframe[\"description\"] = dataframe[\"description\"].str.replace(\"[^a-zA-Z0-9 ]\", \"\", regex=True)\n",
    "    dataframe[\"description\"] = dataframe[\"description\"].str.lower()\n",
    "    dataframe[\"description\"] = dataframe[\"description\"].str.replace(\"\\s+\", \" \", regex=True)\n",
    "    dataframe['description'] = dataframe['description'].fillna('no description')\n",
    "\n",
    "\n",
    "    dataframe[\"publisher\"] = dataframe[\"publisher\"].str.replace(\"[^a-zA-Z0-9 ]\", \"\", regex=True)\n",
    "    dataframe[\"publisher\"] = dataframe[\"publisher\"].str.lower()\n",
    "    dataframe[\"publisher\"] = dataframe[\"publisher\"].str.replace(\"\\s+\", \" \", regex=True)\n",
    "\n",
    "    # Handling nulls\n",
    "    dataframe['authors'] = dataframe['authors'].fillna('other')\n",
    "    dataframe['publisher'] = dataframe['publisher'].fillna('other')\n",
    "    dataframe['genre'] = dataframe['genre'].fillna('other')\n",
    "    dataframe['image'] = dataframe['image'].fillna('https://www.google.com/url?sa=i&url=https%3A%2F%2Fislandpress.org%2Fbooks%2Fwild-cats&psig=AOvVaw1KOBgRGHa-CM0hMZUhZ968&ust=1700839051074000&source=images&cd=vfe&opi=89978449&ved=0CBEQjRxqFwoTCMCaz6212oIDFQAAAAAdAAAAABAJ')\n",
    "    dataframe['previewLink'] = dataframe['previewLink'].fillna('No Link')\n",
    "    dataframe['infoLink'] = dataframe['infoLink'].fillna('No Link')\n",
    "\n",
    "  elif df_name == 'df_ratings_numeric_mod':\n",
    "    # dataframe[\"title\"] = dataframe[\"title\"].str.replace(\"[^a-zA-Z0-9 ]\", \"\", regex=True)\n",
    "    # dataframe[\"title\"] = dataframe[\"title\"].str.lower()\n",
    "    # dataframe[\"title\"] = dataframe[\"title\"].str.replace(\"\\s+\", \" \", regex=True)\n",
    "    \n",
    "    dataframe[\"profileName\"] = dataframe[\"profileName\"].str.replace(\"[^a-zA-Z0-9 ]\", \"\", regex=True)\n",
    "    dataframe[\"profileName\"] = dataframe[\"profileName\"].str.lower()\n",
    "    dataframe[\"profileName\"] = dataframe[\"profileName\"].str.replace(\"\\s+\", \" \", regex=True)\n",
    "\n",
    "    dataframe[\"review_text\"] = dataframe[\"review_text\"].str.replace(\"[^a-zA-Z0-9 ]\", \"\", regex=True)\n",
    "    dataframe[\"review_text\"] = dataframe[\"review_text\"].str.lower()\n",
    "    dataframe[\"review_text\"] = dataframe[\"review_text\"].str.replace(\"\\s+\", \" \", regex=True)\n",
    "\n",
    "    dataframe[\"user_id\"] = dataframe[\"user_id\"].astype(str)\n",
    "\n",
    "  return dataframe  \n"
   ]
  },
  {
   "cell_type": "code",
   "execution_count": 251,
   "metadata": {},
   "outputs": [],
   "source": [
    "df_books_copy = df_books.copy()\n",
    "df_ratings_copy = df_ratings.copy()\n",
    "df_ratings_copy['roberta_compound'] = - df_ratings_copy.roberta_neg + df_ratings_copy.roberta_neu + df_ratings_copy.roberta_pos\n",
    "\n",
    "df_books_numeric_mod = preprocess_numeric_data(df_books_copy, 'df_books_copy')\n",
    "df_books_processed = preprocess_text_data(df_books_numeric_mod, 'df_books_numeric_mod')\n",
    "df_ratings_numeric_mod = preprocess_numeric_data(df_ratings_copy, 'df_users')\n",
    "df_ratings_processed = preprocess_text_data(df_ratings_numeric_mod, 'df_users_numeric_mod')"
   ]
  },
  {
   "cell_type": "code",
   "execution_count": 252,
   "metadata": {},
   "outputs": [
    {
     "name": "stdout",
     "output_type": "stream",
     "text": [
      "<class 'pandas.core.frame.DataFrame'>\n",
      "RangeIndex: 115 entries, 0 to 114\n",
      "Data columns (total 10 columns):\n",
      " #   Column            Non-Null Count  Dtype \n",
      "---  ------            --------------  ----- \n",
      " 0   book_id           115 non-null    object\n",
      " 1   title             115 non-null    object\n",
      " 2   description       115 non-null    object\n",
      " 3   authors           115 non-null    object\n",
      " 4   image             115 non-null    object\n",
      " 5   previewLink       115 non-null    object\n",
      " 6   publisher         115 non-null    object\n",
      " 7   infoLink          115 non-null    object\n",
      " 8   genre             115 non-null    object\n",
      " 9   publication_year  115 non-null    int32 \n",
      "dtypes: int32(1), object(9)\n",
      "memory usage: 8.7+ KB\n"
     ]
    }
   ],
   "source": [
    "df_books_processed.info(0)"
   ]
  },
  {
   "cell_type": "code",
   "execution_count": 253,
   "metadata": {},
   "outputs": [
    {
     "name": "stdout",
     "output_type": "stream",
     "text": [
      "<class 'pandas.core.frame.DataFrame'>\n",
      "RangeIndex: 13842 entries, 0 to 13841\n",
      "Data columns (total 11 columns):\n",
      " #   Column            Non-Null Count  Dtype  \n",
      "---  ------            --------------  -----  \n",
      " 0   Id                13842 non-null  int64  \n",
      " 1   roberta_neg       13842 non-null  float32\n",
      " 2   roberta_neu       13842 non-null  float32\n",
      " 3   roberta_pos       13842 non-null  float32\n",
      " 4   book_id           13842 non-null  object \n",
      " 5   title             13842 non-null  object \n",
      " 6   user_id           13842 non-null  object \n",
      " 7   profileName       13842 non-null  object \n",
      " 8   review_score      13842 non-null  float64\n",
      " 9   review_text       13842 non-null  object \n",
      " 10  roberta_compound  13842 non-null  float32\n",
      "dtypes: float32(4), float64(1), int64(1), object(5)\n",
      "memory usage: 973.4+ KB\n"
     ]
    }
   ],
   "source": [
    "df_ratings_processed.info(0)\n"
   ]
  },
  {
   "cell_type": "code",
   "execution_count": 254,
   "metadata": {},
   "outputs": [
    {
     "data": {
      "text/html": [
       "<div>\n",
       "<style scoped>\n",
       "    .dataframe tbody tr th:only-of-type {\n",
       "        vertical-align: middle;\n",
       "    }\n",
       "\n",
       "    .dataframe tbody tr th {\n",
       "        vertical-align: top;\n",
       "    }\n",
       "\n",
       "    .dataframe thead th {\n",
       "        text-align: right;\n",
       "    }\n",
       "</style>\n",
       "<table border=\"1\" class=\"dataframe\">\n",
       "  <thead>\n",
       "    <tr style=\"text-align: right;\">\n",
       "      <th></th>\n",
       "      <th>Id</th>\n",
       "      <th>roberta_neg</th>\n",
       "      <th>roberta_neu</th>\n",
       "      <th>roberta_pos</th>\n",
       "      <th>book_id</th>\n",
       "      <th>title</th>\n",
       "      <th>user_id</th>\n",
       "      <th>profileName</th>\n",
       "      <th>review_score</th>\n",
       "      <th>review_text</th>\n",
       "      <th>roberta_compound</th>\n",
       "      <th>description</th>\n",
       "      <th>authors</th>\n",
       "      <th>image</th>\n",
       "      <th>previewLink</th>\n",
       "      <th>publisher</th>\n",
       "      <th>infoLink</th>\n",
       "      <th>genre</th>\n",
       "      <th>publication_year</th>\n",
       "    </tr>\n",
       "  </thead>\n",
       "  <tbody>\n",
       "    <tr>\n",
       "      <th>0</th>\n",
       "      <td>1747</td>\n",
       "      <td>0.004265</td>\n",
       "      <td>0.053986</td>\n",
       "      <td>0.941749</td>\n",
       "      <td>B000N6DDJQ</td>\n",
       "      <td>The Scarlet Letter A Romance</td>\n",
       "      <td>AUM3YMZ0YRJE0</td>\n",
       "      <td>Robert J. Crawford</td>\n",
       "      <td>5.0</td>\n",
       "      <td>WHen I finally started reading this classic, I...</td>\n",
       "      <td>0.99147</td>\n",
       "      <td>no description</td>\n",
       "      <td>other</td>\n",
       "      <td>https://www.google.com/url?sa=i&amp;url=https%3A%2...</td>\n",
       "      <td>No Link</td>\n",
       "      <td>other</td>\n",
       "      <td>No Link</td>\n",
       "      <td>other</td>\n",
       "      <td>2010</td>\n",
       "    </tr>\n",
       "  </tbody>\n",
       "</table>\n",
       "</div>"
      ],
      "text/plain": [
       "     Id  roberta_neg  roberta_neu  roberta_pos     book_id  \\\n",
       "0  1747     0.004265     0.053986     0.941749  B000N6DDJQ   \n",
       "\n",
       "                          title        user_id         profileName  \\\n",
       "0  The Scarlet Letter A Romance  AUM3YMZ0YRJE0  Robert J. Crawford   \n",
       "\n",
       "   review_score                                        review_text  \\\n",
       "0           5.0  WHen I finally started reading this classic, I...   \n",
       "\n",
       "   roberta_compound     description authors  \\\n",
       "0           0.99147  no description   other   \n",
       "\n",
       "                                               image previewLink publisher  \\\n",
       "0  https://www.google.com/url?sa=i&url=https%3A%2...     No Link     other   \n",
       "\n",
       "  infoLink  genre  publication_year  \n",
       "0  No Link  other              2010  "
      ]
     },
     "execution_count": 254,
     "metadata": {},
     "output_type": "execute_result"
    }
   ],
   "source": [
    "desired_columns = ['title', 'description', 'authors', 'image', 'previewLink',\n",
    "       'publisher', 'infoLink', 'genre', 'publication_year']\n",
    "\n",
    "df_ratings_books_processed = pd.merge(df_ratings_processed, df_books_processed[desired_columns], on='title', how='inner')\n",
    "df_ratings_books_processed.head(1)"
   ]
  },
  {
   "cell_type": "markdown",
   "metadata": {},
   "source": [
    "**Save df_ratings_books_processed**"
   ]
  },
  {
   "cell_type": "code",
   "execution_count": 273,
   "metadata": {},
   "outputs": [],
   "source": [
    "df_ratings_books_processed.to_parquet('C:/Users/adria/Documents/Projects/Books/Resources/DataFrames/SentimentAnalysis/200plusRatingsPerUser_60plusRatingsPerBook/df_ratings_books_processed.parquet', index=False)"
   ]
  },
  {
   "cell_type": "code",
   "execution_count": 274,
   "metadata": {},
   "outputs": [],
   "source": [
    "df_books_processed.to_parquet('C:/Users/adria/Documents/Projects/Books/Resources/DataFrames/SentimentAnalysis/200plusRatingsPerUser_60plusRatingsPerBook/df_books_processed.parquet', index=False)"
   ]
  },
  {
   "cell_type": "code",
   "execution_count": 275,
   "metadata": {},
   "outputs": [],
   "source": [
    "df_ratings_processed.to_parquet('C:/Users/adria/Documents/Projects/Books/Resources/DataFrames/SentimentAnalysis/200plusRatingsPerUser_60plusRatingsPerBook/df_ratings_processed.parquet', index=False)"
   ]
  },
  {
   "cell_type": "markdown",
   "metadata": {},
   "source": [
    "### Info about df_ratings_books_processed\n",
    "\n",
    "- number of entries \n",
    "- description\n",
    "- features"
   ]
  },
  {
   "cell_type": "markdown",
   "metadata": {},
   "source": [
    "# SVD Model"
   ]
  },
  {
   "cell_type": "markdown",
   "metadata": {},
   "source": [
    "**With Review Score**"
   ]
  },
  {
   "cell_type": "code",
   "execution_count": 255,
   "metadata": {},
   "outputs": [
    {
     "name": "stdout",
     "output_type": "stream",
     "text": [
      "RMSE: 0.5991\n"
     ]
    },
    {
     "data": {
      "text/plain": [
       "0.59907318486913"
      ]
     },
     "execution_count": 255,
     "metadata": {},
     "output_type": "execute_result"
    }
   ],
   "source": [
    "df_svd = df_ratings_books_processed[['user_id', 'book_id', 'review_score']]\n",
    "reader = Reader(rating_scale=(0, 5))\n",
    "data = Dataset.load_from_df(df_svd, reader)\n",
    "trainset, testset = model_selection.train_test_split(data, test_size=0.30, random_state=42)\n",
    "model = SVD()\n",
    "model.fit(trainset)\n",
    "predictions = model.test(testset)\n",
    "accuracy.rmse(predictions)\n"
   ]
  },
  {
   "cell_type": "markdown",
   "metadata": {},
   "source": [
    "**With Sentiment Analysis**"
   ]
  },
  {
   "cell_type": "code",
   "execution_count": 304,
   "metadata": {},
   "outputs": [
    {
     "name": "stdout",
     "output_type": "stream",
     "text": [
      "RMSE: 0.3051\n"
     ]
    },
    {
     "data": {
      "text/plain": [
       "0.3050629046679383"
      ]
     },
     "execution_count": 304,
     "metadata": {},
     "output_type": "execute_result"
    }
   ],
   "source": [
    "df_svd_SA = df_ratings_books_processed[['user_id', 'book_id', 'roberta_compound']]\n",
    "reader_SA = Reader(rating_scale=(-1, 1))\n",
    "data_SA = Dataset.load_from_df(df_svd_SA, reader_SA)\n",
    "trainset_SA, testset_SA = model_selection.train_test_split(data_SA, test_size=0.30, random_state=42)\n",
    "model_SA = SVD()\n",
    "model_SA.fit(trainset_SA)\n",
    "predictions_SA = model_SA.test(testset_SA)\n",
    "accuracy.rmse(predictions_SA)\n"
   ]
  },
  {
   "cell_type": "markdown",
   "metadata": {},
   "source": [
    "The lower the RSME the better"
   ]
  },
  {
   "cell_type": "code",
   "execution_count": 305,
   "metadata": {},
   "outputs": [],
   "source": [
    "with open('C:/Users/adria/Documents/Projects/Books/Resources/Models/BookRecommendation/model_svd.pkl', 'wb') as p:\n",
    "    dump(model, p)\n",
    "\n",
    "with open('C:/Users/adria/Documents/Projects/Books/Resources/Models/BookRecommendation/model_svd_SA.pkl', 'wb') as p:\n",
    "    dump(model_SA, p)\n",
    "\n"
   ]
  },
  {
   "cell_type": "code",
   "execution_count": 258,
   "metadata": {},
   "outputs": [],
   "source": [
    "def make_clickable(val):\n",
    "    return '<a target=\"_blank\" href=\"{}\">Google Books</a>'.format(val, val)\n",
    "\n",
    "def show_image(val):\n",
    "    return '<a href=\"{}\"><img src=\"{}\" width=60></img></a>'.format(val, val)"
   ]
  },
  {
   "cell_type": "code",
   "execution_count": 301,
   "metadata": {},
   "outputs": [],
   "source": [
    "\n",
    "def recommendation_svd(model_select, reader_select, metric_score):\n",
    "  user_id = str(input('Enter user_id: '))\n",
    "  book_id = set(df_ratings_books_processed[df_ratings_books_processed['user_id']==user_id]['book_id']) # has book ids that have been reviewed\n",
    "\n",
    "  # Group df_ratings_books_processed by the book id. of all the books that haven't been reviewd by the user\n",
    "    # Get the mean of review_score and mean of roberta_compound\n",
    "  # Then merge the df_books_processed to extract 'previewLink', 'image' by 'book_id'\n",
    "\n",
    "  user_books = df_ratings_books_processed[~df_ratings_books_processed['book_id'].isin(book_id)] # has all books that haven't been reviewd\n",
    "  user_books['user_id'] = len(user_books)*[user_id]\n",
    "  user_books.reset_index(drop=True, inplace=True)\n",
    "\n",
    "  df_svd_predict = Dataset.load_from_df(user_books[['user_id', 'book_id', metric_score]], reader_select)\n",
    "  NA, test = model_selection.train_test_split(df_svd_predict, test_size=1.0)\n",
    "  predictions = model_select.test(test)\n",
    "  predictions = [prediction.est for prediction in predictions]\n",
    "  user_books['rating'] = predictions\n",
    "\n",
    "  user_books_grouped = user_books.groupby(\"book_id\").agg({\n",
    "    \"review_score\": \"mean\",\n",
    "    \"roberta_compound\": \"mean\",\n",
    "    'rating':'mean'\n",
    "  }).reset_index()\n",
    "\n",
    "  user_books_merged = pd.merge(user_books_grouped, df_books_processed[['book_id', 'title', 'previewLink', 'image', 'genre', 'publisher', 'authors']].drop_duplicates(), how='inner', on='book_id')\n",
    "\n",
    "  top_50_books_for_user_content = user_books_merged.sort_values(by=['rating'], ascending=False)[:50]\n",
    "  top_50_books_for_user_content.to_csv('top_50_books_for_user_content.csv', index=False)\n",
    "  book_title_liked_by_user = set(df_ratings_books_processed[df_ratings_books_processed['user_id']==user_id].sort_values(by=metric_score, ascending=False)['title'])\n",
    "  print('Books highly rated by given user: \\n')\n",
    "\n",
    "  for count, books in tqdm(enumerate(list(book_title_liked_by_user)[:20])):\n",
    "    print(count+1,'.  ',books)\n",
    "  return top_50_books_for_user_content[['book_id', 'title', 'review_score', 'previewLink', 'image', 'rating']].head(10).style.format({'previewLink': make_clickable, 'image': show_image})\n",
    "\n",
    "\n",
    "# // TODO: Fix titles, like filtering The hobbit\n",
    "# // NOTE: AEGR7IBHUM3R7 User to use for book recommendations "
   ]
  },
  {
   "cell_type": "code",
   "execution_count": 302,
   "metadata": {},
   "outputs": [
    {
     "name": "stdout",
     "output_type": "stream",
     "text": [
      "Books highly rated by given user: \n",
      "\n"
     ]
    },
    {
     "name": "stderr",
     "output_type": "stream",
     "text": [
      "20it [00:00, ?it/s]"
     ]
    },
    {
     "name": "stdout",
     "output_type": "stream",
     "text": [
      "1 .   Fahrenheit 451\n",
      "2 .   Fahrenheit 451 (Cascades S.)\n",
      "3 .   Lord of the Flies\n",
      "4 .   The Picture of Dorian Gray\n",
      "5 .   The Scarlet Letter\n",
      "6 .   The Hobbit\n",
      "7 .   The Hobbit or There and Back Again\n",
      "8 .   Animal Farm\n",
      "9 .   The Picture of Dorian Gray (Classic Collection (Brilliance Audio))\n",
      "10 .   Atlas Shrugged\n",
      "11 .   To Kill a Mockingbird\n",
      "12 .   Nineteen Eighty-four\n",
      "13 .   Starship Troopers\n",
      "14 .   To Kill A Mockingbird\n",
      "15 .   Animal Farm (Signet Classics, CT304)\n",
      "16 .   Alice's Adventures in Wonderland and Through the Looking Glass\n",
      "17 .   Dracula (G. K. Hall (Large Print))\n",
      "18 .   The Hobbit; Or, There and Back Again\n",
      "19 .   The Old Man and the Sea\n",
      "20 .   The War of the Worlds\n"
     ]
    },
    {
     "name": "stderr",
     "output_type": "stream",
     "text": [
      "\n"
     ]
    },
    {
     "data": {
      "text/html": [
       "<style type=\"text/css\">\n",
       "</style>\n",
       "<table id=\"T_bcb42\">\n",
       "  <thead>\n",
       "    <tr>\n",
       "      <th class=\"blank level0\" >&nbsp;</th>\n",
       "      <th id=\"T_bcb42_level0_col0\" class=\"col_heading level0 col0\" >book_id</th>\n",
       "      <th id=\"T_bcb42_level0_col1\" class=\"col_heading level0 col1\" >title</th>\n",
       "      <th id=\"T_bcb42_level0_col2\" class=\"col_heading level0 col2\" >review_score</th>\n",
       "      <th id=\"T_bcb42_level0_col3\" class=\"col_heading level0 col3\" >previewLink</th>\n",
       "      <th id=\"T_bcb42_level0_col4\" class=\"col_heading level0 col4\" >image</th>\n",
       "      <th id=\"T_bcb42_level0_col5\" class=\"col_heading level0 col5\" >rating</th>\n",
       "    </tr>\n",
       "  </thead>\n",
       "  <tbody>\n",
       "    <tr>\n",
       "      <th id=\"T_bcb42_level0_row0\" class=\"row_heading level0 row0\" >7</th>\n",
       "      <td id=\"T_bcb42_row0_col0\" class=\"data row0 col0\" >0446781819</td>\n",
       "      <td id=\"T_bcb42_row0_col1\" class=\"data row0 col1\" >Gone with the Wind</td>\n",
       "      <td id=\"T_bcb42_row0_col2\" class=\"data row0 col2\" >4.833333</td>\n",
       "      <td id=\"T_bcb42_row0_col3\" class=\"data row0 col3\" ><a target=\"_blank\" href=\"http://books.google.nl/books?id=01KdDwAAQBAJ&printsec=frontcover&dq=Gone+with+the+Wind&hl=&cd=1&source=gbs_api\">Google Books</a></td>\n",
       "      <td id=\"T_bcb42_row0_col4\" class=\"data row0 col4\" ><a href=\"http://books.google.com/books/content?id=01KdDwAAQBAJ&printsec=frontcover&img=1&zoom=1&edge=curl&source=gbs_api\"><img src=\"http://books.google.com/books/content?id=01KdDwAAQBAJ&printsec=frontcover&img=1&zoom=1&edge=curl&source=gbs_api\" width=60></img></a></td>\n",
       "      <td id=\"T_bcb42_row0_col5\" class=\"data row0 col5\" >4.901504</td>\n",
       "    </tr>\n",
       "    <tr>\n",
       "      <th id=\"T_bcb42_level0_row1\" class=\"row_heading level0 row1\" >43</th>\n",
       "      <td id=\"T_bcb42_row1_col0\" class=\"data row1 col0\" >B000GLN7HQ</td>\n",
       "      <td id=\"T_bcb42_row1_col1\" class=\"data row1 col1\" >The Murder of Roger Ackroyd</td>\n",
       "      <td id=\"T_bcb42_row1_col2\" class=\"data row1 col2\" >4.750000</td>\n",
       "      <td id=\"T_bcb42_row1_col3\" class=\"data row1 col3\" ><a target=\"_blank\" href=\"http://books.google.com/books?id=FKD6swEACAAJ&dq=The+Murder+of+Roger+Ackroyd&hl=&cd=1&source=gbs_api\">Google Books</a></td>\n",
       "      <td id=\"T_bcb42_row1_col4\" class=\"data row1 col4\" ><a href=\"http://books.google.com/books/content?id=FKD6swEACAAJ&printsec=frontcover&img=1&zoom=1&source=gbs_api\"><img src=\"http://books.google.com/books/content?id=FKD6swEACAAJ&printsec=frontcover&img=1&zoom=1&source=gbs_api\" width=60></img></a></td>\n",
       "      <td id=\"T_bcb42_row1_col5\" class=\"data row1 col5\" >4.883156</td>\n",
       "    </tr>\n",
       "    <tr>\n",
       "      <th id=\"T_bcb42_level0_row2\" class=\"row_heading level0 row2\" >49</th>\n",
       "      <td id=\"T_bcb42_row2_col0\" class=\"data row2 col0\" >B000IVDZR6</td>\n",
       "      <td id=\"T_bcb42_row2_col1\" class=\"data row2 col1\" >The Autobiography of Benjamin Franklin</td>\n",
       "      <td id=\"T_bcb42_row2_col2\" class=\"data row2 col2\" >4.500000</td>\n",
       "      <td id=\"T_bcb42_row2_col3\" class=\"data row2 col3\" ><a target=\"_blank\" href=\"http://books.google.nl/books?id=16actQEACAAJ&dq=The+Autobiography+of+Benjamin+Franklin&hl=&cd=1&source=gbs_api\">Google Books</a></td>\n",
       "      <td id=\"T_bcb42_row2_col4\" class=\"data row2 col4\" ><a href=\"http://books.google.com/books/content?id=16actQEACAAJ&printsec=frontcover&img=1&zoom=1&source=gbs_api\"><img src=\"http://books.google.com/books/content?id=16actQEACAAJ&printsec=frontcover&img=1&zoom=1&source=gbs_api\" width=60></img></a></td>\n",
       "      <td id=\"T_bcb42_row2_col5\" class=\"data row2 col5\" >4.861367</td>\n",
       "    </tr>\n",
       "    <tr>\n",
       "      <th id=\"T_bcb42_level0_row3\" class=\"row_heading level0 row3\" >69</th>\n",
       "      <td id=\"T_bcb42_row3_col0\" class=\"data row3 col0\" >B000PC4JLY</td>\n",
       "      <td id=\"T_bcb42_row3_col1\" class=\"data row3 col1\" >Hiroshima</td>\n",
       "      <td id=\"T_bcb42_row3_col2\" class=\"data row3 col2\" >5.000000</td>\n",
       "      <td id=\"T_bcb42_row3_col3\" class=\"data row3 col3\" ><a target=\"_blank\" href=\"http://books.google.com/books?id=ZIfnDwAAQBAJ&printsec=frontcover&dq=Hiroshima&hl=&cd=1&source=gbs_api\">Google Books</a></td>\n",
       "      <td id=\"T_bcb42_row3_col4\" class=\"data row3 col4\" ><a href=\"http://books.google.com/books/content?id=ZIfnDwAAQBAJ&printsec=frontcover&img=1&zoom=1&edge=curl&source=gbs_api\"><img src=\"http://books.google.com/books/content?id=ZIfnDwAAQBAJ&printsec=frontcover&img=1&zoom=1&edge=curl&source=gbs_api\" width=60></img></a></td>\n",
       "      <td id=\"T_bcb42_row3_col5\" class=\"data row3 col5\" >4.855801</td>\n",
       "    </tr>\n",
       "    <tr>\n",
       "      <th id=\"T_bcb42_level0_row4\" class=\"row_heading level0 row4\" >44</th>\n",
       "      <td id=\"T_bcb42_row4_col0\" class=\"data row4 col0\" >B000GVE24S</td>\n",
       "      <td id=\"T_bcb42_row4_col1\" class=\"data row4 col1\" >Twenty Thousand Leagues Under the Sea</td>\n",
       "      <td id=\"T_bcb42_row4_col2\" class=\"data row4 col2\" >4.040000</td>\n",
       "      <td id=\"T_bcb42_row4_col3\" class=\"data row4 col3\" ><a target=\"_blank\" href=\"http://books.google.com/books?id=LGIiDQAAQBAJ&printsec=frontcover&dq=Twenty+Thousand+Leagues+Under+the+Sea&hl=&cd=1&source=gbs_api\">Google Books</a></td>\n",
       "      <td id=\"T_bcb42_row4_col4\" class=\"data row4 col4\" ><a href=\"http://books.google.com/books/content?id=LGIiDQAAQBAJ&printsec=frontcover&img=1&zoom=1&edge=curl&source=gbs_api\"><img src=\"http://books.google.com/books/content?id=LGIiDQAAQBAJ&printsec=frontcover&img=1&zoom=1&edge=curl&source=gbs_api\" width=60></img></a></td>\n",
       "      <td id=\"T_bcb42_row4_col5\" class=\"data row4 col5\" >4.851878</td>\n",
       "    </tr>\n",
       "    <tr>\n",
       "      <th id=\"T_bcb42_level0_row5\" class=\"row_heading level0 row5\" >67</th>\n",
       "      <td id=\"T_bcb42_row5_col0\" class=\"data row5 col0\" >B000P1QRII</td>\n",
       "      <td id=\"T_bcb42_row5_col1\" class=\"data row5 col1\" >The Giver</td>\n",
       "      <td id=\"T_bcb42_row5_col2\" class=\"data row5 col2\" >4.687500</td>\n",
       "      <td id=\"T_bcb42_row5_col3\" class=\"data row5 col3\" ><a target=\"_blank\" href=\"http://books.google.nl/books?id=Io57oAEACAAJ&dq=The+Giver&hl=&cd=1&source=gbs_api\">Google Books</a></td>\n",
       "      <td id=\"T_bcb42_row5_col4\" class=\"data row5 col4\" ><a href=\"http://books.google.com/books/content?id=Io57oAEACAAJ&printsec=frontcover&img=1&zoom=1&source=gbs_api\"><img src=\"http://books.google.com/books/content?id=Io57oAEACAAJ&printsec=frontcover&img=1&zoom=1&source=gbs_api\" width=60></img></a></td>\n",
       "      <td id=\"T_bcb42_row5_col5\" class=\"data row5 col5\" >4.851263</td>\n",
       "    </tr>\n",
       "    <tr>\n",
       "      <th id=\"T_bcb42_level0_row6\" class=\"row_heading level0 row6\" >13</th>\n",
       "      <td id=\"T_bcb42_row6_col0\" class=\"data row6 col0\" >0613175719</td>\n",
       "      <td id=\"T_bcb42_row6_col1\" class=\"data row6 col1\" >Ulysses</td>\n",
       "      <td id=\"T_bcb42_row6_col2\" class=\"data row6 col2\" >4.548387</td>\n",
       "      <td id=\"T_bcb42_row6_col3\" class=\"data row6 col3\" ><a target=\"_blank\" href=\"http://books.google.nl/books?id=7hAaQgAACAAJ&dq=Ulysses&hl=&cd=1&source=gbs_api\">Google Books</a></td>\n",
       "      <td id=\"T_bcb42_row6_col4\" class=\"data row6 col4\" ><a href=\"https://www.google.com/url?sa=i&url=https%3A%2F%2Fislandpress.org%2Fbooks%2Fwild-cats&psig=AOvVaw1KOBgRGHa-CM0hMZUhZ968&ust=1700839051074000&source=images&cd=vfe&opi=89978449&ved=0CBEQjRxqFwoTCMCaz6212oIDFQAAAAAdAAAAABAJ\"><img src=\"https://www.google.com/url?sa=i&url=https%3A%2F%2Fislandpress.org%2Fbooks%2Fwild-cats&psig=AOvVaw1KOBgRGHa-CM0hMZUhZ968&ust=1700839051074000&source=images&cd=vfe&opi=89978449&ved=0CBEQjRxqFwoTCMCaz6212oIDFQAAAAAdAAAAABAJ\" width=60></img></a></td>\n",
       "      <td id=\"T_bcb42_row6_col5\" class=\"data row6 col5\" >4.847864</td>\n",
       "    </tr>\n",
       "    <tr>\n",
       "      <th id=\"T_bcb42_level0_row7\" class=\"row_heading level0 row7\" >35</th>\n",
       "      <td id=\"T_bcb42_row7_col0\" class=\"data row7 col0\" >B0000CMQXI</td>\n",
       "      <td id=\"T_bcb42_row7_col1\" class=\"data row7 col1\" >A Portrait of the Artist as a Young Man</td>\n",
       "      <td id=\"T_bcb42_row7_col2\" class=\"data row7 col2\" >4.518519</td>\n",
       "      <td id=\"T_bcb42_row7_col3\" class=\"data row7 col3\" ><a target=\"_blank\" href=\"http://books.google.com/books?id=C_rPXanc_HAC&printsec=frontcover&dq=A+Portrait+of+the+Artist+as+a+Young+Man&hl=&cd=1&source=gbs_api\">Google Books</a></td>\n",
       "      <td id=\"T_bcb42_row7_col4\" class=\"data row7 col4\" ><a href=\"http://books.google.com/books/content?id=C_rPXanc_HAC&printsec=frontcover&img=1&zoom=1&edge=curl&source=gbs_api\"><img src=\"http://books.google.com/books/content?id=C_rPXanc_HAC&printsec=frontcover&img=1&zoom=1&edge=curl&source=gbs_api\" width=60></img></a></td>\n",
       "      <td id=\"T_bcb42_row7_col5\" class=\"data row7 col5\" >4.847857</td>\n",
       "    </tr>\n",
       "    <tr>\n",
       "      <th id=\"T_bcb42_level0_row8\" class=\"row_heading level0 row8\" >40</th>\n",
       "      <td id=\"T_bcb42_row8_col0\" class=\"data row8 col0\" >B0008CGH2K</td>\n",
       "      <td id=\"T_bcb42_row8_col1\" class=\"data row8 col1\" >An inquiry into the nature and causes of the wealth of nations</td>\n",
       "      <td id=\"T_bcb42_row8_col2\" class=\"data row8 col2\" >3.764706</td>\n",
       "      <td id=\"T_bcb42_row8_col3\" class=\"data row8 col3\" ><a target=\"_blank\" href=\"http://books.google.nl/books?id=C5dNAAAAcAAJ&printsec=frontcover&dq=An+inquiry+into+the+nature+and+causes+of+the+wealth+of+nations&hl=&cd=1&source=gbs_api\">Google Books</a></td>\n",
       "      <td id=\"T_bcb42_row8_col4\" class=\"data row8 col4\" ><a href=\"http://books.google.com/books/content?id=C5dNAAAAcAAJ&printsec=frontcover&img=1&zoom=1&edge=curl&source=gbs_api\"><img src=\"http://books.google.com/books/content?id=C5dNAAAAcAAJ&printsec=frontcover&img=1&zoom=1&edge=curl&source=gbs_api\" width=60></img></a></td>\n",
       "      <td id=\"T_bcb42_row8_col5\" class=\"data row8 col5\" >4.847778</td>\n",
       "    </tr>\n",
       "    <tr>\n",
       "      <th id=\"T_bcb42_level0_row9\" class=\"row_heading level0 row9\" >27</th>\n",
       "      <td id=\"T_bcb42_row9_col0\" class=\"data row9 col0\" >1593355548</td>\n",
       "      <td id=\"T_bcb42_row9_col1\" class=\"data row9 col1\" >Wuthering Heights</td>\n",
       "      <td id=\"T_bcb42_row9_col2\" class=\"data row9 col2\" >4.423077</td>\n",
       "      <td id=\"T_bcb42_row9_col3\" class=\"data row9 col3\" ><a target=\"_blank\" href=\"http://books.google.com/books?id=b3ctQ5L7zNoC&printsec=frontcover&dq=Wuthering+Heights&hl=&cd=1&source=gbs_api\">Google Books</a></td>\n",
       "      <td id=\"T_bcb42_row9_col4\" class=\"data row9 col4\" ><a href=\"http://books.google.com/books/content?id=b3ctQ5L7zNoC&printsec=frontcover&img=1&zoom=1&edge=curl&source=gbs_api\"><img src=\"http://books.google.com/books/content?id=b3ctQ5L7zNoC&printsec=frontcover&img=1&zoom=1&edge=curl&source=gbs_api\" width=60></img></a></td>\n",
       "      <td id=\"T_bcb42_row9_col5\" class=\"data row9 col5\" >4.845472</td>\n",
       "    </tr>\n",
       "  </tbody>\n",
       "</table>\n"
      ],
      "text/plain": [
       "<pandas.io.formats.style.Styler at 0x25a5306cd60>"
      ]
     },
     "execution_count": 302,
     "metadata": {},
     "output_type": "execute_result"
    }
   ],
   "source": [
    "recommendation_svd(model_select=model, reader_select=reader, metric_score=\"review_score\")"
   ]
  },
  {
   "cell_type": "code",
   "execution_count": 303,
   "metadata": {},
   "outputs": [
    {
     "name": "stdout",
     "output_type": "stream",
     "text": [
      "Books highly rated by given user: \n",
      "\n"
     ]
    },
    {
     "name": "stderr",
     "output_type": "stream",
     "text": [
      "20it [00:00, ?it/s]"
     ]
    },
    {
     "name": "stdout",
     "output_type": "stream",
     "text": [
      "1 .   Fahrenheit 451\n",
      "2 .   Fahrenheit 451 (Cascades S.)\n",
      "3 .   The Picture of Dorian Gray\n",
      "4 .   Lord of the Flies\n",
      "5 .   The Scarlet Letter\n",
      "6 .   The Hobbit\n",
      "7 .   The Hobbit or There and Back Again\n",
      "8 .   Animal Farm\n",
      "9 .   The Picture of Dorian Gray (Classic Collection (Brilliance Audio))\n",
      "10 .   Atlas Shrugged\n",
      "11 .   To Kill a Mockingbird\n",
      "12 .   Nineteen Eighty-four\n",
      "13 .   Starship Troopers\n",
      "14 .   To Kill A Mockingbird\n",
      "15 .   Animal Farm (Signet Classics, CT304)\n",
      "16 .   Alice's Adventures in Wonderland and Through the Looking Glass\n",
      "17 .   Dracula (G. K. Hall (Large Print))\n",
      "18 .   The Hobbit; Or, There and Back Again\n",
      "19 .   The Old Man and the Sea\n",
      "20 .   The War of the Worlds\n"
     ]
    },
    {
     "name": "stderr",
     "output_type": "stream",
     "text": [
      "\n"
     ]
    },
    {
     "data": {
      "text/html": [
       "<style type=\"text/css\">\n",
       "</style>\n",
       "<table id=\"T_d5b96\">\n",
       "  <thead>\n",
       "    <tr>\n",
       "      <th class=\"blank level0\" >&nbsp;</th>\n",
       "      <th id=\"T_d5b96_level0_col0\" class=\"col_heading level0 col0\" >book_id</th>\n",
       "      <th id=\"T_d5b96_level0_col1\" class=\"col_heading level0 col1\" >title</th>\n",
       "      <th id=\"T_d5b96_level0_col2\" class=\"col_heading level0 col2\" >review_score</th>\n",
       "      <th id=\"T_d5b96_level0_col3\" class=\"col_heading level0 col3\" >previewLink</th>\n",
       "      <th id=\"T_d5b96_level0_col4\" class=\"col_heading level0 col4\" >image</th>\n",
       "      <th id=\"T_d5b96_level0_col5\" class=\"col_heading level0 col5\" >rating</th>\n",
       "    </tr>\n",
       "  </thead>\n",
       "  <tbody>\n",
       "    <tr>\n",
       "      <th id=\"T_d5b96_level0_row0\" class=\"row_heading level0 row0\" >64</th>\n",
       "      <td id=\"T_d5b96_row0_col0\" class=\"data row0 col0\" >B000NWUHR6</td>\n",
       "      <td id=\"T_d5b96_row0_col1\" class=\"data row0 col1\" >Catch-22</td>\n",
       "      <td id=\"T_d5b96_row0_col2\" class=\"data row0 col2\" >4.529412</td>\n",
       "      <td id=\"T_d5b96_row0_col3\" class=\"data row0 col3\" ><a target=\"_blank\" href=\"http://books.google.com/books?id=U9V8JYt7WwoC&printsec=frontcover&dq=Catch-22&hl=&cd=1&source=gbs_api\">Google Books</a></td>\n",
       "      <td id=\"T_d5b96_row0_col4\" class=\"data row0 col4\" ><a href=\"http://books.google.com/books/content?id=U9V8JYt7WwoC&printsec=frontcover&img=1&zoom=1&edge=curl&source=gbs_api\"><img src=\"http://books.google.com/books/content?id=U9V8JYt7WwoC&printsec=frontcover&img=1&zoom=1&edge=curl&source=gbs_api\" width=60></img></a></td>\n",
       "      <td id=\"T_d5b96_row0_col5\" class=\"data row0 col5\" >0.671647</td>\n",
       "    </tr>\n",
       "    <tr>\n",
       "      <th id=\"T_d5b96_level0_row1\" class=\"row_heading level0 row1\" >51</th>\n",
       "      <td id=\"T_d5b96_row1_col0\" class=\"data row1 col0\" >B000JJ9ISM</td>\n",
       "      <td id=\"T_d5b96_row1_col1\" class=\"data row1 col1\" >The Daughter of Time</td>\n",
       "      <td id=\"T_d5b96_row1_col2\" class=\"data row1 col2\" >4.800000</td>\n",
       "      <td id=\"T_d5b96_row1_col3\" class=\"data row1 col3\" ><a target=\"_blank\" href=\"http://books.google.nl/books?id=d85kzgEACAAJ&dq=The+Daughter+of+Time&hl=&cd=1&source=gbs_api\">Google Books</a></td>\n",
       "      <td id=\"T_d5b96_row1_col4\" class=\"data row1 col4\" ><a href=\"https://www.google.com/url?sa=i&url=https%3A%2F%2Fislandpress.org%2Fbooks%2Fwild-cats&psig=AOvVaw1KOBgRGHa-CM0hMZUhZ968&ust=1700839051074000&source=images&cd=vfe&opi=89978449&ved=0CBEQjRxqFwoTCMCaz6212oIDFQAAAAAdAAAAABAJ\"><img src=\"https://www.google.com/url?sa=i&url=https%3A%2F%2Fislandpress.org%2Fbooks%2Fwild-cats&psig=AOvVaw1KOBgRGHa-CM0hMZUhZ968&ust=1700839051074000&source=images&cd=vfe&opi=89978449&ved=0CBEQjRxqFwoTCMCaz6212oIDFQAAAAAdAAAAABAJ\" width=60></img></a></td>\n",
       "      <td id=\"T_d5b96_row1_col5\" class=\"data row1 col5\" >0.668624</td>\n",
       "    </tr>\n",
       "    <tr>\n",
       "      <th id=\"T_d5b96_level0_row2\" class=\"row_heading level0 row2\" >26</th>\n",
       "      <td id=\"T_d5b96_row2_col0\" class=\"data row2 col0\" >158855032X</td>\n",
       "      <td id=\"T_d5b96_row2_col1\" class=\"data row2 col1\" >Hard Times</td>\n",
       "      <td id=\"T_d5b96_row2_col2\" class=\"data row2 col2\" >4.562500</td>\n",
       "      <td id=\"T_d5b96_row2_col3\" class=\"data row2 col3\" ><a target=\"_blank\" href=\"http://books.google.nl/books?id=_feeDgAAQBAJ&printsec=frontcover&dq=Hard+Times&hl=&cd=1&source=gbs_api\">Google Books</a></td>\n",
       "      <td id=\"T_d5b96_row2_col4\" class=\"data row2 col4\" ><a href=\"http://books.google.com/books/content?id=_feeDgAAQBAJ&printsec=frontcover&img=1&zoom=1&edge=curl&source=gbs_api\"><img src=\"http://books.google.com/books/content?id=_feeDgAAQBAJ&printsec=frontcover&img=1&zoom=1&edge=curl&source=gbs_api\" width=60></img></a></td>\n",
       "      <td id=\"T_d5b96_row2_col5\" class=\"data row2 col5\" >0.667421</td>\n",
       "    </tr>\n",
       "    <tr>\n",
       "      <th id=\"T_d5b96_level0_row3\" class=\"row_heading level0 row3\" >58</th>\n",
       "      <td id=\"T_d5b96_row3_col0\" class=\"data row3 col0\" >B000L6Q9ZS</td>\n",
       "      <td id=\"T_d5b96_row3_col1\" class=\"data row3 col1\" >The Stranger</td>\n",
       "      <td id=\"T_d5b96_row3_col2\" class=\"data row3 col2\" >4.272727</td>\n",
       "      <td id=\"T_d5b96_row3_col3\" class=\"data row3 col3\" ><a target=\"_blank\" href=\"http://books.google.nl/books?id=8l0WswEACAAJ&dq=The+Stranger&hl=&cd=1&source=gbs_api\">Google Books</a></td>\n",
       "      <td id=\"T_d5b96_row3_col4\" class=\"data row3 col4\" ><a href=\"http://books.google.com/books/content?id=8l0WswEACAAJ&printsec=frontcover&img=1&zoom=1&source=gbs_api\"><img src=\"http://books.google.com/books/content?id=8l0WswEACAAJ&printsec=frontcover&img=1&zoom=1&source=gbs_api\" width=60></img></a></td>\n",
       "      <td id=\"T_d5b96_row3_col5\" class=\"data row3 col5\" >0.664526</td>\n",
       "    </tr>\n",
       "    <tr>\n",
       "      <th id=\"T_d5b96_level0_row4\" class=\"row_heading level0 row4\" >73</th>\n",
       "      <td id=\"T_d5b96_row4_col0\" class=\"data row4 col0\" >B000PHIIM0</td>\n",
       "      <td id=\"T_d5b96_row4_col1\" class=\"data row4 col1\" >Leaves of Grass</td>\n",
       "      <td id=\"T_d5b96_row4_col2\" class=\"data row4 col2\" >4.916667</td>\n",
       "      <td id=\"T_d5b96_row4_col3\" class=\"data row4 col3\" ><a target=\"_blank\" href=\"http://books.google.nl/books?id=QPJqmwEACAAJ&dq=Leaves+of+Grass&hl=&cd=1&source=gbs_api\">Google Books</a></td>\n",
       "      <td id=\"T_d5b96_row4_col4\" class=\"data row4 col4\" ><a href=\"http://books.google.com/books/content?id=QPJqmwEACAAJ&printsec=frontcover&img=1&zoom=1&source=gbs_api\"><img src=\"http://books.google.com/books/content?id=QPJqmwEACAAJ&printsec=frontcover&img=1&zoom=1&source=gbs_api\" width=60></img></a></td>\n",
       "      <td id=\"T_d5b96_row4_col5\" class=\"data row4 col5\" >0.663267</td>\n",
       "    </tr>\n",
       "    <tr>\n",
       "      <th id=\"T_d5b96_level0_row5\" class=\"row_heading level0 row5\" >50</th>\n",
       "      <td id=\"T_d5b96_row5_col0\" class=\"data row5 col0\" >B000J33RXK</td>\n",
       "      <td id=\"T_d5b96_row5_col1\" class=\"data row5 col1\" >Slaughterhouse-Five</td>\n",
       "      <td id=\"T_d5b96_row5_col2\" class=\"data row5 col2\" >4.451613</td>\n",
       "      <td id=\"T_d5b96_row5_col3\" class=\"data row5 col3\" ><a target=\"_blank\" href=\"http://books.google.com/books?id=pWyLDQAAQBAJ&printsec=frontcover&dq=Slaughterhouse-Five&hl=&cd=1&source=gbs_api\">Google Books</a></td>\n",
       "      <td id=\"T_d5b96_row5_col4\" class=\"data row5 col4\" ><a href=\"http://books.google.com/books/content?id=pWyLDQAAQBAJ&printsec=frontcover&img=1&zoom=1&edge=curl&source=gbs_api\"><img src=\"http://books.google.com/books/content?id=pWyLDQAAQBAJ&printsec=frontcover&img=1&zoom=1&edge=curl&source=gbs_api\" width=60></img></a></td>\n",
       "      <td id=\"T_d5b96_row5_col5\" class=\"data row5 col5\" >0.657082</td>\n",
       "    </tr>\n",
       "    <tr>\n",
       "      <th id=\"T_d5b96_level0_row6\" class=\"row_heading level0 row6\" >63</th>\n",
       "      <td id=\"T_d5b96_row6_col0\" class=\"data row6 col0\" >B000NWO8CG</td>\n",
       "      <td id=\"T_d5b96_row6_col1\" class=\"data row6 col1\" >A Tree Grows in Brooklyn</td>\n",
       "      <td id=\"T_d5b96_row6_col2\" class=\"data row6 col2\" >4.862069</td>\n",
       "      <td id=\"T_d5b96_row6_col3\" class=\"data row6 col3\" ><a target=\"_blank\" href=\"http://books.google.nl/books?id=Sn2IyeVuVK0C&dq=A+Tree+Grows+in+Brooklyn&hl=&cd=1&source=gbs_api\">Google Books</a></td>\n",
       "      <td id=\"T_d5b96_row6_col4\" class=\"data row6 col4\" ><a href=\"http://books.google.com/books/content?id=Sn2IyeVuVK0C&printsec=frontcover&img=1&zoom=1&source=gbs_api\"><img src=\"http://books.google.com/books/content?id=Sn2IyeVuVK0C&printsec=frontcover&img=1&zoom=1&source=gbs_api\" width=60></img></a></td>\n",
       "      <td id=\"T_d5b96_row6_col5\" class=\"data row6 col5\" >0.655754</td>\n",
       "    </tr>\n",
       "    <tr>\n",
       "      <th id=\"T_d5b96_level0_row7\" class=\"row_heading level0 row7\" >60</th>\n",
       "      <td id=\"T_d5b96_row7_col0\" class=\"data row7 col0\" >B000N28H2I</td>\n",
       "      <td id=\"T_d5b96_row7_col1\" class=\"data row7 col1\" >The Two Towers</td>\n",
       "      <td id=\"T_d5b96_row7_col2\" class=\"data row7 col2\" >4.796875</td>\n",
       "      <td id=\"T_d5b96_row7_col3\" class=\"data row7 col3\" ><a target=\"_blank\" href=\"http://books.google.nl/books?id=ebyPyQWmUA8C&dq=The+Two+Towers&hl=&cd=1&source=gbs_api\">Google Books</a></td>\n",
       "      <td id=\"T_d5b96_row7_col4\" class=\"data row7 col4\" ><a href=\"http://books.google.com/books/content?id=ebyPyQWmUA8C&printsec=frontcover&img=1&zoom=1&source=gbs_api\"><img src=\"http://books.google.com/books/content?id=ebyPyQWmUA8C&printsec=frontcover&img=1&zoom=1&source=gbs_api\" width=60></img></a></td>\n",
       "      <td id=\"T_d5b96_row7_col5\" class=\"data row7 col5\" >0.651540</td>\n",
       "    </tr>\n",
       "    <tr>\n",
       "      <th id=\"T_d5b96_level0_row8\" class=\"row_heading level0 row8\" >21</th>\n",
       "      <td id=\"T_d5b96_row8_col0\" class=\"data row8 col0\" >1556863047</td>\n",
       "      <td id=\"T_d5b96_row8_col1\" class=\"data row8 col1\" >The Sea Wolf</td>\n",
       "      <td id=\"T_d5b96_row8_col2\" class=\"data row8 col2\" >4.600000</td>\n",
       "      <td id=\"T_d5b96_row8_col3\" class=\"data row8 col3\" ><a target=\"_blank\" href=\"http://books.google.com/books?id=yPpBBAAAQBAJ&printsec=frontcover&dq=The+Sea+Wolf&hl=&cd=1&source=gbs_api\">Google Books</a></td>\n",
       "      <td id=\"T_d5b96_row8_col4\" class=\"data row8 col4\" ><a href=\"http://books.google.com/books/content?id=yPpBBAAAQBAJ&printsec=frontcover&img=1&zoom=1&edge=curl&source=gbs_api\"><img src=\"http://books.google.com/books/content?id=yPpBBAAAQBAJ&printsec=frontcover&img=1&zoom=1&edge=curl&source=gbs_api\" width=60></img></a></td>\n",
       "      <td id=\"T_d5b96_row8_col5\" class=\"data row8 col5\" >0.651224</td>\n",
       "    </tr>\n",
       "    <tr>\n",
       "      <th id=\"T_d5b96_level0_row9\" class=\"row_heading level0 row9\" >31</th>\n",
       "      <td id=\"T_d5b96_row9_col0\" class=\"data row9 col0\" >1901768619</td>\n",
       "      <td id=\"T_d5b96_row9_col1\" class=\"data row9 col1\" >Emma</td>\n",
       "      <td id=\"T_d5b96_row9_col2\" class=\"data row9 col2\" >4.603448</td>\n",
       "      <td id=\"T_d5b96_row9_col3\" class=\"data row9 col3\" ><a target=\"_blank\" href=\"http://books.google.com/books?id=FevYCwAAQBAJ&printsec=frontcover&dq=Emma&hl=&cd=1&source=gbs_api\">Google Books</a></td>\n",
       "      <td id=\"T_d5b96_row9_col4\" class=\"data row9 col4\" ><a href=\"http://books.google.com/books/content?id=FevYCwAAQBAJ&printsec=frontcover&img=1&zoom=1&edge=curl&source=gbs_api\"><img src=\"http://books.google.com/books/content?id=FevYCwAAQBAJ&printsec=frontcover&img=1&zoom=1&edge=curl&source=gbs_api\" width=60></img></a></td>\n",
       "      <td id=\"T_d5b96_row9_col5\" class=\"data row9 col5\" >0.650798</td>\n",
       "    </tr>\n",
       "  </tbody>\n",
       "</table>\n"
      ],
      "text/plain": [
       "<pandas.io.formats.style.Styler at 0x25a52a9f280>"
      ]
     },
     "execution_count": 303,
     "metadata": {},
     "output_type": "execute_result"
    }
   ],
   "source": [
    "recommendation_svd(model_select=model_SA, reader_select=reader_SA, metric_score='roberta_compound')"
   ]
  },
  {
   "cell_type": "code",
   "execution_count": 262,
   "metadata": {},
   "outputs": [
    {
     "data": {
      "text/html": [
       "<div>\n",
       "<style scoped>\n",
       "    .dataframe tbody tr th:only-of-type {\n",
       "        vertical-align: middle;\n",
       "    }\n",
       "\n",
       "    .dataframe tbody tr th {\n",
       "        vertical-align: top;\n",
       "    }\n",
       "\n",
       "    .dataframe thead th {\n",
       "        text-align: right;\n",
       "    }\n",
       "</style>\n",
       "<table border=\"1\" class=\"dataframe\">\n",
       "  <thead>\n",
       "    <tr style=\"text-align: right;\">\n",
       "      <th></th>\n",
       "      <th>Id</th>\n",
       "      <th>roberta_neg</th>\n",
       "      <th>roberta_neu</th>\n",
       "      <th>roberta_pos</th>\n",
       "      <th>book_id</th>\n",
       "      <th>title</th>\n",
       "      <th>user_id</th>\n",
       "      <th>profileName</th>\n",
       "      <th>review_score</th>\n",
       "      <th>review_text</th>\n",
       "      <th>roberta_compound</th>\n",
       "      <th>description</th>\n",
       "      <th>authors</th>\n",
       "      <th>image</th>\n",
       "      <th>previewLink</th>\n",
       "      <th>publisher</th>\n",
       "      <th>infoLink</th>\n",
       "      <th>genre</th>\n",
       "      <th>publication_year</th>\n",
       "    </tr>\n",
       "  </thead>\n",
       "  <tbody>\n",
       "    <tr>\n",
       "      <th>1845</th>\n",
       "      <td>86652</td>\n",
       "      <td>0.222972</td>\n",
       "      <td>0.677108</td>\n",
       "      <td>0.099919</td>\n",
       "      <td>B000NWU3I4</td>\n",
       "      <td>The Hobbitt, or there and back again; illustra...</td>\n",
       "      <td>AEGR7IBHUM3R7</td>\n",
       "      <td>mp</td>\n",
       "      <td>4.0</td>\n",
       "      <td>J.R.R. Tolkien's 1937 novel, \"The Hobbit: or T...</td>\n",
       "      <td>0.554055</td>\n",
       "      <td>bilbo baggins a respectable welltodo hobbit li...</td>\n",
       "      <td>J. R. R. Tolkien</td>\n",
       "      <td>http://books.google.com/books/content?id=Wbm1m...</td>\n",
       "      <td>http://books.google.nl/books?id=Wbm1mQEACAAJ&amp;d...</td>\n",
       "      <td>houghton mifflin harcourt</td>\n",
       "      <td>http://books.google.nl/books?id=Wbm1mQEACAAJ&amp;d...</td>\n",
       "      <td>Fiction</td>\n",
       "      <td>2013</td>\n",
       "    </tr>\n",
       "    <tr>\n",
       "      <th>1846</th>\n",
       "      <td>86697</td>\n",
       "      <td>0.014145</td>\n",
       "      <td>0.186257</td>\n",
       "      <td>0.799597</td>\n",
       "      <td>B000NWU3I4</td>\n",
       "      <td>The Hobbitt, or there and back again; illustra...</td>\n",
       "      <td>A20EEWWSFMZ1PN</td>\n",
       "      <td>bernie \"xyzzy\"</td>\n",
       "      <td>5.0</td>\n",
       "      <td>In a mythical or maybe just forgotten time, ma...</td>\n",
       "      <td>0.971709</td>\n",
       "      <td>bilbo baggins a respectable welltodo hobbit li...</td>\n",
       "      <td>J. R. R. Tolkien</td>\n",
       "      <td>http://books.google.com/books/content?id=Wbm1m...</td>\n",
       "      <td>http://books.google.nl/books?id=Wbm1mQEACAAJ&amp;d...</td>\n",
       "      <td>houghton mifflin harcourt</td>\n",
       "      <td>http://books.google.nl/books?id=Wbm1mQEACAAJ&amp;d...</td>\n",
       "      <td>Fiction</td>\n",
       "      <td>2013</td>\n",
       "    </tr>\n",
       "    <tr>\n",
       "      <th>1847</th>\n",
       "      <td>86783</td>\n",
       "      <td>0.006597</td>\n",
       "      <td>0.091661</td>\n",
       "      <td>0.901742</td>\n",
       "      <td>B000NWU3I4</td>\n",
       "      <td>The Hobbitt, or there and back again; illustra...</td>\n",
       "      <td>A1F8GH7CR68P59</td>\n",
       "      <td>A. G. Plumb \"Greg Plumb\"</td>\n",
       "      <td>4.0</td>\n",
       "      <td>I refer to the Folio Edition version of this n...</td>\n",
       "      <td>0.986805</td>\n",
       "      <td>bilbo baggins a respectable welltodo hobbit li...</td>\n",
       "      <td>J. R. R. Tolkien</td>\n",
       "      <td>http://books.google.com/books/content?id=Wbm1m...</td>\n",
       "      <td>http://books.google.nl/books?id=Wbm1mQEACAAJ&amp;d...</td>\n",
       "      <td>houghton mifflin harcourt</td>\n",
       "      <td>http://books.google.nl/books?id=Wbm1mQEACAAJ&amp;d...</td>\n",
       "      <td>Fiction</td>\n",
       "      <td>2013</td>\n",
       "    </tr>\n",
       "  </tbody>\n",
       "</table>\n",
       "</div>"
      ],
      "text/plain": [
       "         Id  roberta_neg  roberta_neu  roberta_pos     book_id  \\\n",
       "1845  86652     0.222972     0.677108     0.099919  B000NWU3I4   \n",
       "1846  86697     0.014145     0.186257     0.799597  B000NWU3I4   \n",
       "1847  86783     0.006597     0.091661     0.901742  B000NWU3I4   \n",
       "\n",
       "                                                  title         user_id  \\\n",
       "1845  The Hobbitt, or there and back again; illustra...   AEGR7IBHUM3R7   \n",
       "1846  The Hobbitt, or there and back again; illustra...  A20EEWWSFMZ1PN   \n",
       "1847  The Hobbitt, or there and back again; illustra...  A1F8GH7CR68P59   \n",
       "\n",
       "                   profileName  review_score  \\\n",
       "1845                        mp           4.0   \n",
       "1846            bernie \"xyzzy\"           5.0   \n",
       "1847  A. G. Plumb \"Greg Plumb\"           4.0   \n",
       "\n",
       "                                            review_text  roberta_compound  \\\n",
       "1845  J.R.R. Tolkien's 1937 novel, \"The Hobbit: or T...          0.554055   \n",
       "1846  In a mythical or maybe just forgotten time, ma...          0.971709   \n",
       "1847  I refer to the Folio Edition version of this n...          0.986805   \n",
       "\n",
       "                                            description           authors  \\\n",
       "1845  bilbo baggins a respectable welltodo hobbit li...  J. R. R. Tolkien   \n",
       "1846  bilbo baggins a respectable welltodo hobbit li...  J. R. R. Tolkien   \n",
       "1847  bilbo baggins a respectable welltodo hobbit li...  J. R. R. Tolkien   \n",
       "\n",
       "                                                  image  \\\n",
       "1845  http://books.google.com/books/content?id=Wbm1m...   \n",
       "1846  http://books.google.com/books/content?id=Wbm1m...   \n",
       "1847  http://books.google.com/books/content?id=Wbm1m...   \n",
       "\n",
       "                                            previewLink  \\\n",
       "1845  http://books.google.nl/books?id=Wbm1mQEACAAJ&d...   \n",
       "1846  http://books.google.nl/books?id=Wbm1mQEACAAJ&d...   \n",
       "1847  http://books.google.nl/books?id=Wbm1mQEACAAJ&d...   \n",
       "\n",
       "                      publisher  \\\n",
       "1845  houghton mifflin harcourt   \n",
       "1846  houghton mifflin harcourt   \n",
       "1847  houghton mifflin harcourt   \n",
       "\n",
       "                                               infoLink    genre  \\\n",
       "1845  http://books.google.nl/books?id=Wbm1mQEACAAJ&d...  Fiction   \n",
       "1846  http://books.google.nl/books?id=Wbm1mQEACAAJ&d...  Fiction   \n",
       "1847  http://books.google.nl/books?id=Wbm1mQEACAAJ&d...  Fiction   \n",
       "\n",
       "      publication_year  \n",
       "1845              2013  \n",
       "1846              2013  \n",
       "1847              2013  "
      ]
     },
     "execution_count": 262,
     "metadata": {},
     "output_type": "execute_result"
    }
   ],
   "source": [
    "# df_ratings_books_processed.head(20)\n",
    "\n",
    "df_ratings_books_processed[df_ratings_books_processed['title'].str.contains('hobbit', case=False, na=False)].head(3)"
   ]
  },
  {
   "cell_type": "code",
   "execution_count": 307,
   "metadata": {},
   "outputs": [
    {
     "data": {
      "text/plain": [
       "26"
      ]
     },
     "execution_count": 307,
     "metadata": {},
     "output_type": "execute_result"
    }
   ],
   "source": [
    "df_ratings_books_processed['genre'].nunique()"
   ]
  },
  {
   "cell_type": "markdown",
   "metadata": {},
   "source": [
    "**Correlation Analysis**"
   ]
  },
  {
   "cell_type": "code",
   "execution_count": null,
   "metadata": {},
   "outputs": [],
   "source": [
    "cormat = df_books_users[['publication_year', 'ratings_count', 'book_average_rating', 'num_pages', 'user_rating']].corr()\n",
    "round(cormat,2)\n",
    "plt.figure(figsize=(12, 8))\n",
    "sns.heatmap(cormat, cmap='cividis', annot=True, linewidths=2)\n",
    "plt.show()\n",
    "     \n"
   ]
  },
  {
   "cell_type": "markdown",
   "metadata": {},
   "source": [
    "**Word Cloud**"
   ]
  },
  {
   "cell_type": "code",
   "execution_count": null,
   "metadata": {},
   "outputs": [],
   "source": [
    "from wordcloud import WordCloud\n",
    "\n",
    "wc = WordCloud(width=500,height=500,min_font_size=15,background_color='white')\n",
    "spam_wc = wc.generate(data[data['review/score'] > 3]['review/text'].str.cat(sep=\" \"))\n",
    "\n",
    "plt.figure(figsize=(20,10))\n",
    "plt.axis('off')\n",
    "plt.imshow(spam_wc)"
   ]
  },
  {
   "cell_type": "markdown",
   "metadata": {},
   "source": [
    "**Label Sentiment Analysis**"
   ]
  },
  {
   "cell_type": "code",
   "execution_count": null,
   "metadata": {},
   "outputs": [],
   "source": [
    "data['Sentiment'] = data['compound'].apply(lambda x: 'positive' if x >= 0.05 else 'negative' if x < -0.05 else 'neutral')\n",
    "data.head()"
   ]
  },
  {
   "cell_type": "markdown",
   "metadata": {},
   "source": [
    "**PIE chart sentiment Analysis distibution**"
   ]
  },
  {
   "cell_type": "code",
   "execution_count": null,
   "metadata": {},
   "outputs": [],
   "source": [
    "plt.rcParams['figure.figsize'] = (10, 10)\n",
    "labels=['positive','negative','neutral ']\n",
    "plt.pie(data['Sentiment'].value_counts(),explode =(0.1,0.1,0.1), labels=labels,autopct='%1.1f%%')\n",
    "plt.title('Type ', fontsize = 15)\n",
    "plt.axis('off')\n",
    "plt.legend()\n",
    "plt.show()"
   ]
  },
  {
   "cell_type": "markdown",
   "metadata": {},
   "source": [
    "**Best 5 books accoding to sentiment analysis roberta compound**"
   ]
  },
  {
   "cell_type": "code",
   "execution_count": null,
   "metadata": {},
   "outputs": [],
   "source": [
    "import streamlit as st\n",
    "import pandas as pd\n",
    "import plotly.express as px\n",
    "\n",
    "# Sample DataFrame\n",
    "data = {\n",
    "    \"Title\": [\"Book 1\", \"Book 2\", \"Book 3\", \"Book 4\", \"Book 5\"],\n",
    "    \"roberta_compound\": [0.8, 0.9, 0.7, 0.8, 0.9]\n",
    "}\n",
    "\n",
    "df = pd.DataFrame(data)\n",
    "\n",
    "# Calculate the average roberta_compound score for each book\n",
    "average_scores = df.groupby(\"Title\")[\"roberta_compound\"].mean().reset_index()\n",
    "\n",
    "# Select the top 5 books\n",
    "top_5_books = average_scores.nlargest(5, \"roberta_compound\")\n",
    "\n",
    "# Plotly horizontal bar chart\n",
    "fig = px.bar(\n",
    "    top_5_books,\n",
    "    x=\"roberta_compound\",\n",
    "    y=\"Title\",\n",
    "    orientation=\"h\",\n",
    "    labels={\"roberta_compound\": \"Average Roberta Compound Score\", \"Title\": \"Book Title\"},\n",
    "    title=\"Top 5 Books by Average Roberta Compound Score\",\n",
    ")\n",
    "\n",
    "# Display the chart in Streamlit\n",
    "st.plotly_chart(fig, use_container_width=True)\n"
   ]
  },
  {
   "cell_type": "markdown",
   "metadata": {},
   "source": [
    "# Step 4. SVD Model with Sentiment Analysis and NNN"
   ]
  },
  {
   "cell_type": "markdown",
   "metadata": {},
   "source": [
    "**Create Pivot Table**"
   ]
  },
  {
   "cell_type": "code",
   "execution_count": null,
   "metadata": {},
   "outputs": [],
   "source": [
    "combined = reviews_filtered.drop_duplicates(['User-ID', 'Book-ID'])\n",
    "user_book_matrix = combined.pivot(index='User-ID', columns='Book-ID', values='ReviewRating')\n",
    "user_book_matrix.fillna(0, inplace=True)\n",
    "\n",
    "user_book_matrix.head(10)"
   ]
  },
  {
   "cell_type": "markdown",
   "metadata": {},
   "source": [
    "**Create Embeddings**"
   ]
  },
  {
   "cell_type": "code",
   "execution_count": null,
   "metadata": {},
   "outputs": [],
   "source": [
    "from scipy.sparse.linalg import svds\n",
    "\n",
    "\n",
    "def build_SVD_embeddings(user_book_matrix, embedding_length):\n",
    "    #Builds SVD embeddings to be used later on\n",
    "    U, Sigma, VT = svds(user_book_matrix, k = embedding_length)\n",
    "    user_embed_df = pd.DataFrame(U, index = user_book_matrix.index)\n",
    "    VT_T = np.transpose(VT)\n",
    "    book_embed_df = pd.DataFrame(VT_T, index = user_book_matrix.columns)\n",
    "    \n",
    "    return user_embed_df, book_embed_df"
   ]
  },
  {
   "cell_type": "code",
   "execution_count": null,
   "metadata": {},
   "outputs": [],
   "source": [
    "embedding_length = 64\n",
    "user_embed_df, book_embed_df = build_SVD_embeddings(user_book_matrix, embedding_length)\n"
   ]
  }
 ],
 "metadata": {
  "kernelspec": {
   "display_name": "python_base",
   "language": "python",
   "name": "python3"
  },
  "language_info": {
   "codemirror_mode": {
    "name": "ipython",
    "version": 3
   },
   "file_extension": ".py",
   "mimetype": "text/x-python",
   "name": "python",
   "nbconvert_exporter": "python",
   "pygments_lexer": "ipython3",
   "version": "3.10.13"
  }
 },
 "nbformat": 4,
 "nbformat_minor": 2
}
