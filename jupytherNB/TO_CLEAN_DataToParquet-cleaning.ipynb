{
 "cells": [
  {
   "cell_type": "code",
   "execution_count": 2,
   "metadata": {},
   "outputs": [],
   "source": [
    "import pandas as pd\n",
    "import numpy as np\n",
    "import plotly.express as px"
   ]
  },
  {
   "cell_type": "code",
   "execution_count": 2,
   "metadata": {},
   "outputs": [],
   "source": [
    "books_data = pd.read_csv(\"C:/Users/adria/Documents/Data_bases/Books/Amazon_Books_Reviews/books_data/books_data.csv\")\n",
    "books_ratings = pd.read_csv(\"C:/Users/adria/Documents/Data_bases/Books/Amazon_Books_Reviews/Books_rating.csv/Books_rating.csv\")"
   ]
  },
  {
   "cell_type": "code",
   "execution_count": 3,
   "metadata": {},
   "outputs": [],
   "source": [
    "books_data.to_parquet(\"C:/Users/adria/Documents/Data_bases/Books/Amazon_Books_Reviews/books_data/books_data.parquet\")\n",
    "books_ratings.to_parquet(\"C:/Users/adria/Documents/Data_bases/Books/Amazon_Books_Reviews/books_data/books_ratings.parquet\")\n"
   ]
  },
  {
   "cell_type": "code",
   "execution_count": 5,
   "metadata": {},
   "outputs": [
    {
     "name": "stdout",
     "output_type": "stream",
     "text": [
      "CPU times: total: 438 ms\n",
      "Wall time: 2.94 s\n"
     ]
    }
   ],
   "source": [
    "%time books_data_parquet = pd.read_parquet(\"C:/Users/adria/Documents/Data_bases/Books/Amazon_Books_Reviews/books_data/books_data.parquet\")"
   ]
  },
  {
   "cell_type": "code",
   "execution_count": 6,
   "metadata": {},
   "outputs": [
    {
     "name": "stdout",
     "output_type": "stream",
     "text": [
      "CPU times: total: 1.23 s\n",
      "Wall time: 5.5 s\n"
     ]
    }
   ],
   "source": [
    "%time books_data = pd.read_csv(\"C:/Users/adria/Documents/Data_bases/Books/Amazon_Books_Reviews/books_data/books_data.csv\")"
   ]
  },
  {
   "cell_type": "code",
   "execution_count": 7,
   "metadata": {},
   "outputs": [
    {
     "name": "stdout",
     "output_type": "stream",
     "text": [
      "CPU times: total: 18.2 s\n",
      "Wall time: 1min 22s\n"
     ]
    }
   ],
   "source": [
    "%time books_ratings = pd.read_csv(\"C:/Users/adria/Documents/Data_bases/Books/Amazon_Books_Reviews/Books_rating.csv/Books_rating.csv\")"
   ]
  },
  {
   "cell_type": "code",
   "execution_count": 8,
   "metadata": {},
   "outputs": [
    {
     "name": "stdout",
     "output_type": "stream",
     "text": [
      "CPU times: total: 14.5 s\n",
      "Wall time: 1min 18s\n"
     ]
    }
   ],
   "source": [
    "%time book_ratings_parquet = pd.read_parquet(\"C:/Users/adria/Documents/Data_bases/Books/Amazon_Books_Reviews/books_data/books_ratings.parquet\")"
   ]
  },
  {
   "cell_type": "code",
   "execution_count": 10,
   "metadata": {},
   "outputs": [],
   "source": [
    "def reduce_memory_usage(df, verbose=True):\n",
    "    numerics = [\"int8\", \"int16\", \"int32\", \"int64\", \"float16\", \"float32\", \"float64\"]\n",
    "    start_mem = df.memory_usage().sum() / 1024 ** 2\n",
    "    for col in df.columns:\n",
    "        col_type = df[col].dtypes\n",
    "        if col_type in numerics:\n",
    "            c_min = df[col].min()\n",
    "            c_max = df[col].max()\n",
    "            if str(col_type)[:3] == \"int\":\n",
    "                if c_min > np.iinfo(np.int8).min and c_max < np.iinfo(np.int8).max:\n",
    "                    df[col] = df[col].astype(np.int8)\n",
    "                elif c_min > np.iinfo(np.int16).min and c_max < np.iinfo(np.int16).max:\n",
    "                    df[col] = df[col].astype(np.int16)\n",
    "                elif c_min > np.iinfo(np.int32).min and c_max < np.iinfo(np.int32).max:\n",
    "                    df[col] = df[col].astype(np.int32)\n",
    "                elif c_min > np.iinfo(np.int64).min and c_max < np.iinfo(np.int64).max:\n",
    "                    df[col] = df[col].astype(np.int64)\n",
    "            else:\n",
    "                if (\n",
    "                    c_min > np.finfo(np.float16).min\n",
    "                    and c_max < np.finfo(np.float16).max\n",
    "                ):\n",
    "                    df[col] = df[col].astype(np.float16)\n",
    "                elif (\n",
    "                    c_min > np.finfo(np.float32).min\n",
    "                    and c_max < np.finfo(np.float32).max\n",
    "                ):\n",
    "                    df[col] = df[col].astype(np.float32)\n",
    "                else:\n",
    "                    df[col] = df[col].astype(np.float64)\n",
    "    end_mem = df.memory_usage().sum() / 1024 ** 2\n",
    "    if verbose:\n",
    "        print(\n",
    "            \"Mem. usage decreased to {:.2f} Mb ({:.1f}% reduction)\".format(\n",
    "                end_mem, 100 * (start_mem - end_mem) / start_mem\n",
    "            )\n",
    "        )\n",
    "    return df"
   ]
  },
  {
   "cell_type": "code",
   "execution_count": 11,
   "metadata": {},
   "outputs": [],
   "source": [
    "reviews = pd.read_csv(\"C:/Users/adria/Documents/Projects/Books/Resources/DataFrames/reviews_wBooks_data.csv\")"
   ]
  },
  {
   "cell_type": "code",
   "execution_count": 35,
   "metadata": {},
   "outputs": [],
   "source": [
    "reviews.to_parquet(\"C:/Users/adria/Documents/Projects/Books/Resources/DataFrames/reviews_wBooks_data.parquet\")"
   ]
  },
  {
   "cell_type": "code",
   "execution_count": 29,
   "metadata": {},
   "outputs": [],
   "source": [
    "reviews_p = pd.read_parquet(\"C:/Users/adria/Documents/Projects/Books/Resources/DataFrames/reviews_wBooks_data.parquet\")"
   ]
  },
  {
   "cell_type": "code",
   "execution_count": 30,
   "metadata": {},
   "outputs": [
    {
     "name": "stdout",
     "output_type": "stream",
     "text": [
      "<class 'pandas.core.frame.DataFrame'>\n",
      "RangeIndex: 3000000 entries, 0 to 2999999\n",
      "Data columns (total 4 columns):\n",
      " #   Column        Dtype \n",
      "---  ------        ----- \n",
      " 0   Title         object\n",
      " 1   review/score  int64 \n",
      " 2   authors       object\n",
      " 3   categories    object\n",
      "dtypes: int64(1), object(3)\n",
      "memory usage: 91.6+ MB\n"
     ]
    }
   ],
   "source": [
    "reviews_p.info()"
   ]
  },
  {
   "cell_type": "markdown",
   "metadata": {},
   "source": [
    "## Rename Columns"
   ]
  },
  {
   "cell_type": "code",
   "execution_count": 31,
   "metadata": {},
   "outputs": [],
   "source": [
    "reviews_p.rename(columns={'review/score': 'review_score','Title':'title', 'categories':'genre'}, inplace=True)"
   ]
  },
  {
   "cell_type": "markdown",
   "metadata": {},
   "source": [
    "## Rid of Object dtypes"
   ]
  },
  {
   "cell_type": "code",
   "execution_count": 32,
   "metadata": {},
   "outputs": [],
   "source": [
    "reviews_p['title'] = reviews_p['title'].astype(str)\n",
    "reviews_p['authors'] = reviews_p['authors'].astype(str)\n",
    "reviews_p['genre'] = reviews_p['genre'].astype(str)"
   ]
  },
  {
   "cell_type": "code",
   "execution_count": 34,
   "metadata": {},
   "outputs": [
    {
     "data": {
      "text/html": [
       "<div>\n",
       "<style scoped>\n",
       "    .dataframe tbody tr th:only-of-type {\n",
       "        vertical-align: middle;\n",
       "    }\n",
       "\n",
       "    .dataframe tbody tr th {\n",
       "        vertical-align: top;\n",
       "    }\n",
       "\n",
       "    .dataframe thead th {\n",
       "        text-align: right;\n",
       "    }\n",
       "</style>\n",
       "<table border=\"1\" class=\"dataframe\">\n",
       "  <thead>\n",
       "    <tr style=\"text-align: right;\">\n",
       "      <th></th>\n",
       "      <th>title</th>\n",
       "      <th>review_score</th>\n",
       "      <th>authors</th>\n",
       "      <th>genre</th>\n",
       "    </tr>\n",
       "  </thead>\n",
       "  <tbody>\n",
       "    <tr>\n",
       "      <th>0</th>\n",
       "      <td>Its Only Art If Its Well Hung!</td>\n",
       "      <td>4</td>\n",
       "      <td>Julie Strain</td>\n",
       "      <td>Comics &amp; Graphic Novels</td>\n",
       "    </tr>\n",
       "    <tr>\n",
       "      <th>1</th>\n",
       "      <td>Dr. Seuss: American Icon</td>\n",
       "      <td>5</td>\n",
       "      <td>Philip Nel</td>\n",
       "      <td>Biography &amp; Autobiography</td>\n",
       "    </tr>\n",
       "    <tr>\n",
       "      <th>2</th>\n",
       "      <td>Dr. Seuss: American Icon</td>\n",
       "      <td>5</td>\n",
       "      <td>Philip Nel</td>\n",
       "      <td>Biography &amp; Autobiography</td>\n",
       "    </tr>\n",
       "    <tr>\n",
       "      <th>3</th>\n",
       "      <td>Dr. Seuss: American Icon</td>\n",
       "      <td>4</td>\n",
       "      <td>Philip Nel</td>\n",
       "      <td>Biography &amp; Autobiography</td>\n",
       "    </tr>\n",
       "    <tr>\n",
       "      <th>4</th>\n",
       "      <td>Dr. Seuss: American Icon</td>\n",
       "      <td>4</td>\n",
       "      <td>Philip Nel</td>\n",
       "      <td>Biography &amp; Autobiography</td>\n",
       "    </tr>\n",
       "  </tbody>\n",
       "</table>\n",
       "</div>"
      ],
      "text/plain": [
       "                            title  review_score       authors  \\\n",
       "0  Its Only Art If Its Well Hung!             4  Julie Strain   \n",
       "1        Dr. Seuss: American Icon             5    Philip Nel   \n",
       "2        Dr. Seuss: American Icon             5    Philip Nel   \n",
       "3        Dr. Seuss: American Icon             4    Philip Nel   \n",
       "4        Dr. Seuss: American Icon             4    Philip Nel   \n",
       "\n",
       "                       genre  \n",
       "0    Comics & Graphic Novels  \n",
       "1  Biography & Autobiography  \n",
       "2  Biography & Autobiography  \n",
       "3  Biography & Autobiography  \n",
       "4  Biography & Autobiography  "
      ]
     },
     "execution_count": 34,
     "metadata": {},
     "output_type": "execute_result"
    }
   ],
   "source": [
    "reviews_p.head()"
   ]
  },
  {
   "cell_type": "code",
   "execution_count": 33,
   "metadata": {},
   "outputs": [],
   "source": [
    "reviews_p['authors'] = reviews_p['authors'].str.strip(\"[]\").str.replace(\"'\", \"\")\n",
    "reviews_p['genre'] = reviews_p['genre'].str.strip(\"[]\").str.replace(\"'\", \"\")\n"
   ]
  },
  {
   "cell_type": "code",
   "execution_count": 36,
   "metadata": {},
   "outputs": [],
   "source": [
    "reviews_p.to_parquet(\"C:/Users/adria/Documents/Projects/Books/Resources/DataFrames/reviews_wBooks_data.parquet\")"
   ]
  },
  {
   "cell_type": "code",
   "execution_count": 39,
   "metadata": {},
   "outputs": [
    {
     "name": "stdout",
     "output_type": "stream",
     "text": [
      "<class 'pandas.core.frame.DataFrame'>\n",
      "RangeIndex: 212404 entries, 0 to 212403\n",
      "Data columns (total 10 columns):\n",
      " #   Column         Non-Null Count   Dtype  \n",
      "---  ------         --------------   -----  \n",
      " 0   title          212403 non-null  object \n",
      " 1   description    143962 non-null  object \n",
      " 2   authors        180991 non-null  object \n",
      " 3   image          160329 non-null  object \n",
      " 4   previewLink    188568 non-null  object \n",
      " 5   publisher      136518 non-null  object \n",
      " 6   publishedDate  187099 non-null  object \n",
      " 7   infoLink       188568 non-null  object \n",
      " 8   genre          171205 non-null  object \n",
      " 9   ratingsCount   49752 non-null   float64\n",
      "dtypes: float64(1), object(9)\n",
      "memory usage: 16.2+ MB\n"
     ]
    }
   ],
   "source": [
    "books_data.info()"
   ]
  },
  {
   "cell_type": "code",
   "execution_count": 38,
   "metadata": {},
   "outputs": [],
   "source": [
    "books_data.rename(columns={'Title':'title', 'categories':'genre'}, inplace=True)"
   ]
  },
  {
   "cell_type": "code",
   "execution_count": 47,
   "metadata": {},
   "outputs": [],
   "source": [
    "books_data.to_parquet(\"C:/Users/adria/Documents/Data_bases/Books/Amazon_Books_Reviews/books_data/books_data_compresed.parquet\")"
   ]
  },
  {
   "cell_type": "code",
   "execution_count": 3,
   "metadata": {},
   "outputs": [],
   "source": [
    "reviews_wBooks_data = pd.read_parquet(\n",
    "    \"C:/Users/adria/Documents/Projects/Books/Resources/DataFrames/reviews_wBooks_data.parquet\"\n",
    ")\n"
   ]
  },
  {
   "cell_type": "code",
   "execution_count": 4,
   "metadata": {},
   "outputs": [],
   "source": [
    "grouped_df = (\n",
    "    reviews_wBooks_data.groupby(\"title\")\n",
    "    .agg({\"title\": \"count\", \"review_score\": \"mean\"})\n",
    "    .rename(\n",
    "        columns={\"title\": \"title_Count\", \"review_score\": \"average_review_score\"}\n",
    "    )\n",
    "    .reset_index()\n",
    ")\n",
    "\n",
    "# Merge the aggregated data back to the original DataFrame\n",
    "reviews_wBooks_data = pd.merge(reviews_wBooks_data, grouped_df, on=\"title\")"
   ]
  },
  {
   "cell_type": "code",
   "execution_count": 5,
   "metadata": {},
   "outputs": [
    {
     "data": {
      "text/html": [
       "<div>\n",
       "<style scoped>\n",
       "    .dataframe tbody tr th:only-of-type {\n",
       "        vertical-align: middle;\n",
       "    }\n",
       "\n",
       "    .dataframe tbody tr th {\n",
       "        vertical-align: top;\n",
       "    }\n",
       "\n",
       "    .dataframe thead th {\n",
       "        text-align: right;\n",
       "    }\n",
       "</style>\n",
       "<table border=\"1\" class=\"dataframe\">\n",
       "  <thead>\n",
       "    <tr style=\"text-align: right;\">\n",
       "      <th></th>\n",
       "      <th>title</th>\n",
       "      <th>review_score</th>\n",
       "      <th>authors</th>\n",
       "      <th>genre</th>\n",
       "      <th>title_Count</th>\n",
       "      <th>average_review_score</th>\n",
       "    </tr>\n",
       "  </thead>\n",
       "  <tbody>\n",
       "    <tr>\n",
       "      <th>0</th>\n",
       "      <td>Its Only Art If Its Well Hung!</td>\n",
       "      <td>4</td>\n",
       "      <td>Julie Strain</td>\n",
       "      <td>Comics &amp; Graphic Novels</td>\n",
       "      <td>1</td>\n",
       "      <td>4.000000</td>\n",
       "    </tr>\n",
       "    <tr>\n",
       "      <th>1</th>\n",
       "      <td>Dr. Seuss: American Icon</td>\n",
       "      <td>5</td>\n",
       "      <td>Philip Nel</td>\n",
       "      <td>Biography &amp; Autobiography</td>\n",
       "      <td>9</td>\n",
       "      <td>4.555556</td>\n",
       "    </tr>\n",
       "    <tr>\n",
       "      <th>2</th>\n",
       "      <td>Dr. Seuss: American Icon</td>\n",
       "      <td>5</td>\n",
       "      <td>Philip Nel</td>\n",
       "      <td>Biography &amp; Autobiography</td>\n",
       "      <td>9</td>\n",
       "      <td>4.555556</td>\n",
       "    </tr>\n",
       "    <tr>\n",
       "      <th>3</th>\n",
       "      <td>Dr. Seuss: American Icon</td>\n",
       "      <td>4</td>\n",
       "      <td>Philip Nel</td>\n",
       "      <td>Biography &amp; Autobiography</td>\n",
       "      <td>9</td>\n",
       "      <td>4.555556</td>\n",
       "    </tr>\n",
       "    <tr>\n",
       "      <th>4</th>\n",
       "      <td>Dr. Seuss: American Icon</td>\n",
       "      <td>4</td>\n",
       "      <td>Philip Nel</td>\n",
       "      <td>Biography &amp; Autobiography</td>\n",
       "      <td>9</td>\n",
       "      <td>4.555556</td>\n",
       "    </tr>\n",
       "    <tr>\n",
       "      <th>...</th>\n",
       "      <td>...</td>\n",
       "      <td>...</td>\n",
       "      <td>...</td>\n",
       "      <td>...</td>\n",
       "      <td>...</td>\n",
       "      <td>...</td>\n",
       "    </tr>\n",
       "    <tr>\n",
       "      <th>2999995</th>\n",
       "      <td>The Idea of History</td>\n",
       "      <td>4</td>\n",
       "      <td>R. G. Collingwood</td>\n",
       "      <td>History</td>\n",
       "      <td>11</td>\n",
       "      <td>4.272727</td>\n",
       "    </tr>\n",
       "    <tr>\n",
       "      <th>2999996</th>\n",
       "      <td>The Idea of History</td>\n",
       "      <td>4</td>\n",
       "      <td>R. G. Collingwood</td>\n",
       "      <td>History</td>\n",
       "      <td>11</td>\n",
       "      <td>4.272727</td>\n",
       "    </tr>\n",
       "    <tr>\n",
       "      <th>2999997</th>\n",
       "      <td>The Idea of History</td>\n",
       "      <td>4</td>\n",
       "      <td>R. G. Collingwood</td>\n",
       "      <td>History</td>\n",
       "      <td>11</td>\n",
       "      <td>4.272727</td>\n",
       "    </tr>\n",
       "    <tr>\n",
       "      <th>2999998</th>\n",
       "      <td>The Idea of History</td>\n",
       "      <td>5</td>\n",
       "      <td>R. G. Collingwood</td>\n",
       "      <td>History</td>\n",
       "      <td>11</td>\n",
       "      <td>4.272727</td>\n",
       "    </tr>\n",
       "    <tr>\n",
       "      <th>2999999</th>\n",
       "      <td>The Idea of History</td>\n",
       "      <td>1</td>\n",
       "      <td>R. G. Collingwood</td>\n",
       "      <td>History</td>\n",
       "      <td>11</td>\n",
       "      <td>4.272727</td>\n",
       "    </tr>\n",
       "  </tbody>\n",
       "</table>\n",
       "<p>3000000 rows × 6 columns</p>\n",
       "</div>"
      ],
      "text/plain": [
       "                                  title  review_score            authors  \\\n",
       "0        Its Only Art If Its Well Hung!             4       Julie Strain   \n",
       "1              Dr. Seuss: American Icon             5         Philip Nel   \n",
       "2              Dr. Seuss: American Icon             5         Philip Nel   \n",
       "3              Dr. Seuss: American Icon             4         Philip Nel   \n",
       "4              Dr. Seuss: American Icon             4         Philip Nel   \n",
       "...                                 ...           ...                ...   \n",
       "2999995             The Idea of History             4  R. G. Collingwood   \n",
       "2999996             The Idea of History             4  R. G. Collingwood   \n",
       "2999997             The Idea of History             4  R. G. Collingwood   \n",
       "2999998             The Idea of History             5  R. G. Collingwood   \n",
       "2999999             The Idea of History             1  R. G. Collingwood   \n",
       "\n",
       "                             genre  title_Count  average_review_score  \n",
       "0          Comics & Graphic Novels            1              4.000000  \n",
       "1        Biography & Autobiography            9              4.555556  \n",
       "2        Biography & Autobiography            9              4.555556  \n",
       "3        Biography & Autobiography            9              4.555556  \n",
       "4        Biography & Autobiography            9              4.555556  \n",
       "...                            ...          ...                   ...  \n",
       "2999995                    History           11              4.272727  \n",
       "2999996                    History           11              4.272727  \n",
       "2999997                    History           11              4.272727  \n",
       "2999998                    History           11              4.272727  \n",
       "2999999                    History           11              4.272727  \n",
       "\n",
       "[3000000 rows x 6 columns]"
      ]
     },
     "execution_count": 5,
     "metadata": {},
     "output_type": "execute_result"
    }
   ],
   "source": [
    "reviews_wBooks_data"
   ]
  },
  {
   "cell_type": "code",
   "execution_count": 12,
   "metadata": {},
   "outputs": [],
   "source": [
    "reviews_wBooks_data = reviews_wBooks_data[reviews_wBooks_data['authors'] != 'NoAuthor']\n",
    "reviews_wBooks_data = reviews_wBooks_data[reviews_wBooks_data['genre'] != 'NoGenre']\n"
   ]
  },
  {
   "cell_type": "code",
   "execution_count": 13,
   "metadata": {},
   "outputs": [
    {
     "data": {
      "text/html": [
       "<div>\n",
       "<style scoped>\n",
       "    .dataframe tbody tr th:only-of-type {\n",
       "        vertical-align: middle;\n",
       "    }\n",
       "\n",
       "    .dataframe tbody tr th {\n",
       "        vertical-align: top;\n",
       "    }\n",
       "\n",
       "    .dataframe thead th {\n",
       "        text-align: right;\n",
       "    }\n",
       "</style>\n",
       "<table border=\"1\" class=\"dataframe\">\n",
       "  <thead>\n",
       "    <tr style=\"text-align: right;\">\n",
       "      <th></th>\n",
       "      <th>title</th>\n",
       "      <th>review_score</th>\n",
       "      <th>authors</th>\n",
       "      <th>genre</th>\n",
       "      <th>title_Count</th>\n",
       "      <th>average_review_score</th>\n",
       "    </tr>\n",
       "  </thead>\n",
       "  <tbody>\n",
       "    <tr>\n",
       "      <th>19853</th>\n",
       "      <td>Hard Times</td>\n",
       "      <td>3</td>\n",
       "      <td>Charles Dickens</td>\n",
       "      <td>Fiction</td>\n",
       "      <td>324</td>\n",
       "      <td>3.814815</td>\n",
       "    </tr>\n",
       "    <tr>\n",
       "      <th>19854</th>\n",
       "      <td>Hard Times</td>\n",
       "      <td>2</td>\n",
       "      <td>Charles Dickens</td>\n",
       "      <td>Fiction</td>\n",
       "      <td>324</td>\n",
       "      <td>3.814815</td>\n",
       "    </tr>\n",
       "    <tr>\n",
       "      <th>19855</th>\n",
       "      <td>Hard Times</td>\n",
       "      <td>2</td>\n",
       "      <td>Charles Dickens</td>\n",
       "      <td>Fiction</td>\n",
       "      <td>324</td>\n",
       "      <td>3.814815</td>\n",
       "    </tr>\n",
       "    <tr>\n",
       "      <th>19856</th>\n",
       "      <td>Hard Times</td>\n",
       "      <td>2</td>\n",
       "      <td>Charles Dickens</td>\n",
       "      <td>Fiction</td>\n",
       "      <td>324</td>\n",
       "      <td>3.814815</td>\n",
       "    </tr>\n",
       "    <tr>\n",
       "      <th>19857</th>\n",
       "      <td>Hard Times</td>\n",
       "      <td>2</td>\n",
       "      <td>Charles Dickens</td>\n",
       "      <td>Fiction</td>\n",
       "      <td>324</td>\n",
       "      <td>3.814815</td>\n",
       "    </tr>\n",
       "    <tr>\n",
       "      <th>...</th>\n",
       "      <td>...</td>\n",
       "      <td>...</td>\n",
       "      <td>...</td>\n",
       "      <td>...</td>\n",
       "      <td>...</td>\n",
       "      <td>...</td>\n",
       "    </tr>\n",
       "    <tr>\n",
       "      <th>2982289</th>\n",
       "      <td>The Hobbit or There and Back Again</td>\n",
       "      <td>4</td>\n",
       "      <td>J. R. R. Tolkien</td>\n",
       "      <td>Juvenile Fiction</td>\n",
       "      <td>4373</td>\n",
       "      <td>4.655843</td>\n",
       "    </tr>\n",
       "    <tr>\n",
       "      <th>2982290</th>\n",
       "      <td>The Hobbit or There and Back Again</td>\n",
       "      <td>4</td>\n",
       "      <td>J. R. R. Tolkien</td>\n",
       "      <td>Juvenile Fiction</td>\n",
       "      <td>4373</td>\n",
       "      <td>4.655843</td>\n",
       "    </tr>\n",
       "    <tr>\n",
       "      <th>2982291</th>\n",
       "      <td>The Hobbit or There and Back Again</td>\n",
       "      <td>5</td>\n",
       "      <td>J. R. R. Tolkien</td>\n",
       "      <td>Juvenile Fiction</td>\n",
       "      <td>4373</td>\n",
       "      <td>4.655843</td>\n",
       "    </tr>\n",
       "    <tr>\n",
       "      <th>2982292</th>\n",
       "      <td>The Hobbit or There and Back Again</td>\n",
       "      <td>5</td>\n",
       "      <td>J. R. R. Tolkien</td>\n",
       "      <td>Juvenile Fiction</td>\n",
       "      <td>4373</td>\n",
       "      <td>4.655843</td>\n",
       "    </tr>\n",
       "    <tr>\n",
       "      <th>2982293</th>\n",
       "      <td>The Hobbit or There and Back Again</td>\n",
       "      <td>5</td>\n",
       "      <td>J. R. R. Tolkien</td>\n",
       "      <td>Juvenile Fiction</td>\n",
       "      <td>4373</td>\n",
       "      <td>4.655843</td>\n",
       "    </tr>\n",
       "  </tbody>\n",
       "</table>\n",
       "<p>107545 rows × 6 columns</p>\n",
       "</div>"
      ],
      "text/plain": [
       "                                      title  review_score           authors  \\\n",
       "19853                            Hard Times             3   Charles Dickens   \n",
       "19854                            Hard Times             2   Charles Dickens   \n",
       "19855                            Hard Times             2   Charles Dickens   \n",
       "19856                            Hard Times             2   Charles Dickens   \n",
       "19857                            Hard Times             2   Charles Dickens   \n",
       "...                                     ...           ...               ...   \n",
       "2982289  The Hobbit or There and Back Again             4  J. R. R. Tolkien   \n",
       "2982290  The Hobbit or There and Back Again             4  J. R. R. Tolkien   \n",
       "2982291  The Hobbit or There and Back Again             5  J. R. R. Tolkien   \n",
       "2982292  The Hobbit or There and Back Again             5  J. R. R. Tolkien   \n",
       "2982293  The Hobbit or There and Back Again             5  J. R. R. Tolkien   \n",
       "\n",
       "                    genre  title_Count  average_review_score  \n",
       "19853             Fiction          324              3.814815  \n",
       "19854             Fiction          324              3.814815  \n",
       "19855             Fiction          324              3.814815  \n",
       "19856             Fiction          324              3.814815  \n",
       "19857             Fiction          324              3.814815  \n",
       "...                   ...          ...                   ...  \n",
       "2982289  Juvenile Fiction         4373              4.655843  \n",
       "2982290  Juvenile Fiction         4373              4.655843  \n",
       "2982291  Juvenile Fiction         4373              4.655843  \n",
       "2982292  Juvenile Fiction         4373              4.655843  \n",
       "2982293  Juvenile Fiction         4373              4.655843  \n",
       "\n",
       "[107545 rows x 6 columns]"
      ]
     },
     "execution_count": 13,
     "metadata": {},
     "output_type": "execute_result"
    }
   ],
   "source": [
    "top_genres = reviews_wBooks_data['genre'].value_counts().nlargest(3).index\n",
    "df_top_genres = reviews_wBooks_data[reviews_wBooks_data['genre'].isin(top_genres)]\n",
    "\n",
    "# Step 2: For each top genre, filter by top 10 authors\n",
    "top_authors_by_genre = (\n",
    "    df_top_genres.groupby('genre')['authors']\n",
    "    .value_counts()\n",
    "    .groupby('genre', group_keys=False)\n",
    "    .nlargest(3)\n",
    "    .index.get_level_values('authors')\n",
    ")\n",
    "\n",
    "df_final = df_top_genres[df_top_genres['authors'].isin(top_authors_by_genre)]\n",
    "\n",
    "# Display the final DataFrame\n",
    "df_final"
   ]
  },
  {
   "cell_type": "code",
   "execution_count": 14,
   "metadata": {},
   "outputs": [
    {
     "data": {
      "text/plain": [
       "<pandas.core.groupby.generic.DataFrameGroupBy object at 0x0000017A661AFE50>"
      ]
     },
     "execution_count": 14,
     "metadata": {},
     "output_type": "execute_result"
    }
   ],
   "source": [
    "df_final_grouped = df_final.groupby(['genre','authors','title'])\n",
    "\n",
    "df_final_grouped"
   ]
  },
  {
   "cell_type": "code",
   "execution_count": 8,
   "metadata": {},
   "outputs": [
    {
     "data": {
      "text/plain": [
       "<pandas.core.groupby.generic.DataFrameGroupBy object at 0x0000017A5EC970D0>"
      ]
     },
     "execution_count": 8,
     "metadata": {},
     "output_type": "execute_result"
    }
   ],
   "source": [
    "df_final_grouped"
   ]
  },
  {
   "cell_type": "code",
   "execution_count": 15,
   "metadata": {},
   "outputs": [
    {
     "data": {
      "text/html": [
       "<div>\n",
       "<style scoped>\n",
       "    .dataframe tbody tr th:only-of-type {\n",
       "        vertical-align: middle;\n",
       "    }\n",
       "\n",
       "    .dataframe tbody tr th {\n",
       "        vertical-align: top;\n",
       "    }\n",
       "\n",
       "    .dataframe thead th {\n",
       "        text-align: right;\n",
       "    }\n",
       "</style>\n",
       "<table border=\"1\" class=\"dataframe\">\n",
       "  <thead>\n",
       "    <tr style=\"text-align: right;\">\n",
       "      <th></th>\n",
       "      <th>genre</th>\n",
       "      <th>authors</th>\n",
       "      <th>title</th>\n",
       "      <th>average_review_score</th>\n",
       "      <th>title_count</th>\n",
       "    </tr>\n",
       "  </thead>\n",
       "  <tbody>\n",
       "    <tr>\n",
       "      <th>96</th>\n",
       "      <td>Juvenile Fiction</td>\n",
       "      <td>J. R. R. Tolkien</td>\n",
       "      <td>The Hobbit</td>\n",
       "      <td>4.657131</td>\n",
       "      <td>22023</td>\n",
       "    </tr>\n",
       "    <tr>\n",
       "      <th>54</th>\n",
       "      <td>Fiction</td>\n",
       "      <td>Jane Austen</td>\n",
       "      <td>Pride and Prejudice</td>\n",
       "      <td>4.527662</td>\n",
       "      <td>20371</td>\n",
       "    </tr>\n",
       "    <tr>\n",
       "      <th>21</th>\n",
       "      <td>Fiction</td>\n",
       "      <td>Charles Dickens</td>\n",
       "      <td>Great Expectations</td>\n",
       "      <td>4.089880</td>\n",
       "      <td>7421</td>\n",
       "    </tr>\n",
       "    <tr>\n",
       "      <th>93</th>\n",
       "      <td>Juvenile Fiction</td>\n",
       "      <td>J. K. Rowling</td>\n",
       "      <td>Harry Potter and The Sorcerer's Stone</td>\n",
       "      <td>4.739258</td>\n",
       "      <td>6796</td>\n",
       "    </tr>\n",
       "    <tr>\n",
       "      <th>36</th>\n",
       "      <td>Fiction</td>\n",
       "      <td>J. R. R. Tolkien</td>\n",
       "      <td>The Hobbitt, or there and back again; illustra...</td>\n",
       "      <td>4.658597</td>\n",
       "      <td>4420</td>\n",
       "    </tr>\n",
       "    <tr>\n",
       "      <th>...</th>\n",
       "      <td>...</td>\n",
       "      <td>...</td>\n",
       "      <td>...</td>\n",
       "      <td>...</td>\n",
       "      <td>...</td>\n",
       "    </tr>\n",
       "    <tr>\n",
       "      <th>60</th>\n",
       "      <td>Fiction</td>\n",
       "      <td>Jane Austen</td>\n",
       "      <td>Sentido y sensibilidad (Clasicos de la literat...</td>\n",
       "      <td>5.000000</td>\n",
       "      <td>1</td>\n",
       "    </tr>\n",
       "    <tr>\n",
       "      <th>63</th>\n",
       "      <td>Fiction</td>\n",
       "      <td>Jane Austen</td>\n",
       "      <td>The Complete Novels</td>\n",
       "      <td>5.000000</td>\n",
       "      <td>1</td>\n",
       "    </tr>\n",
       "    <tr>\n",
       "      <th>67</th>\n",
       "      <td>Fiction</td>\n",
       "      <td>Kurt Vonnegut</td>\n",
       "      <td>Bluebeard</td>\n",
       "      <td>5.000000</td>\n",
       "      <td>1</td>\n",
       "    </tr>\n",
       "    <tr>\n",
       "      <th>27</th>\n",
       "      <td>Fiction</td>\n",
       "      <td>Charles Dickens</td>\n",
       "      <td>Selected Short Fiction (Penguin English Library)</td>\n",
       "      <td>5.000000</td>\n",
       "      <td>1</td>\n",
       "    </tr>\n",
       "    <tr>\n",
       "      <th>41</th>\n",
       "      <td>Fiction</td>\n",
       "      <td>Jane Austen</td>\n",
       "      <td>Emma (Case Studies in Contemporary Criticism)</td>\n",
       "      <td>1.000000</td>\n",
       "      <td>1</td>\n",
       "    </tr>\n",
       "  </tbody>\n",
       "</table>\n",
       "<p>107 rows × 5 columns</p>\n",
       "</div>"
      ],
      "text/plain": [
       "               genre           authors  \\\n",
       "96  Juvenile Fiction  J. R. R. Tolkien   \n",
       "54           Fiction       Jane Austen   \n",
       "21           Fiction   Charles Dickens   \n",
       "93  Juvenile Fiction     J. K. Rowling   \n",
       "36           Fiction  J. R. R. Tolkien   \n",
       "..               ...               ...   \n",
       "60           Fiction       Jane Austen   \n",
       "63           Fiction       Jane Austen   \n",
       "67           Fiction     Kurt Vonnegut   \n",
       "27           Fiction   Charles Dickens   \n",
       "41           Fiction       Jane Austen   \n",
       "\n",
       "                                                title  average_review_score  \\\n",
       "96                                         The Hobbit              4.657131   \n",
       "54                                Pride and Prejudice              4.527662   \n",
       "21                                 Great Expectations              4.089880   \n",
       "93              Harry Potter and The Sorcerer's Stone              4.739258   \n",
       "36  The Hobbitt, or there and back again; illustra...              4.658597   \n",
       "..                                                ...                   ...   \n",
       "60  Sentido y sensibilidad (Clasicos de la literat...              5.000000   \n",
       "63                                The Complete Novels              5.000000   \n",
       "67                                          Bluebeard              5.000000   \n",
       "27   Selected Short Fiction (Penguin English Library)              5.000000   \n",
       "41      Emma (Case Studies in Contemporary Criticism)              1.000000   \n",
       "\n",
       "    title_count  \n",
       "96        22023  \n",
       "54        20371  \n",
       "21         7421  \n",
       "93         6796  \n",
       "36         4420  \n",
       "..          ...  \n",
       "60            1  \n",
       "63            1  \n",
       "67            1  \n",
       "27            1  \n",
       "41            1  \n",
       "\n",
       "[107 rows x 5 columns]"
      ]
     },
     "execution_count": 15,
     "metadata": {},
     "output_type": "execute_result"
    }
   ],
   "source": [
    "df_final_grouped = df_final.groupby(['genre', 'authors', 'title']).agg({\n",
    "    'review_score': 'mean',         # Average review score\n",
    "    'title': 'count'                # Count of titles\n",
    "}).rename(columns={'title': 'title_count', 'review_score': 'average_review_score'}).reset_index()\n",
    "\n",
    "df_sort = df_final_grouped.sort_values('title_count',ascending=False)\n",
    "df_sort"
   ]
  },
  {
   "cell_type": "code",
   "execution_count": 17,
   "metadata": {},
   "outputs": [
    {
     "data": {
      "application/vnd.plotly.v1+json": {
       "config": {
        "plotlyServerURL": "https://plot.ly"
       },
       "data": [
        {
         "branchvalues": "total",
         "customdata": [
          [
           4.686390532544379
          ],
          [
           4.684630738522954
          ],
          [
           4.5
          ],
          [
           5
          ],
          [
           5
          ],
          [
           4.166666666666667
          ],
          [
           4.484597156398104
          ],
          [
           4.4
          ],
          [
           4.485207100591716
          ],
          [
           4.485576923076923
          ],
          [
           4.485576923076923
          ],
          [
           5
          ],
          [
           4.56043956043956
          ],
          [
           4.286798179059181
          ],
          [
           4.417545541706615
          ],
          [
           4.419417475728156
          ],
          [
           4.166666666666667
          ],
          [
           3.972972972972973
          ],
          [
           5
          ],
          [
           4.4
          ],
          [
           4.5
          ],
          [
           4.528301886792453
          ],
          [
           4.035714285714286
          ],
          [
           4.2309278350515465
          ],
          [
           1
          ],
          [
           4.2309278350515465
          ],
          [
           4.2309278350515465
          ],
          [
           4.2309278350515465
          ],
          [
           5
          ],
          [
           4.089880070071419
          ],
          [
           3
          ],
          [
           4.0907990314769975
          ],
          [
           3.814814814814815
          ],
          [
           4.73925838728664
          ],
          [
           4.731590691743704
          ],
          [
           4.368421052631579
          ],
          [
           4.666666666666667
          ],
          [
           4.436221419975933
          ],
          [
           4.204545454545454
          ],
          [
           4.666666666666667
          ],
          [
           4.4434993924665855
          ],
          [
           4.444444444444445
          ],
          [
           4.447779111644658
          ],
          [
           4.4434993924665855
          ],
          [
           4.444309190505173
          ],
          [
           4.447115384615385
          ],
          [
           4.443236714975845
          ],
          [
           4.447115384615385
          ],
          [
           4.448529411764706
          ],
          [
           3.6724137931034484
          ],
          [
           4.5
          ],
          [
           4.124087591240876
          ],
          [
           4.124087591240876
          ],
          [
           4.309523809523809
          ],
          [
           4.8
          ],
          [
           1
          ],
          [
           4.5
          ],
          [
           4
          ],
          [
           4.090534979423868
          ],
          [
           4.090534979423868
          ],
          [
           4.333333333333333
          ],
          [
           4.6
          ],
          [
           3.9444444444444446
          ],
          [
           4.384433962264151
          ],
          [
           4.089108910891089
          ],
          [
           4.089108910891089
          ],
          [
           4.527661872269403
          ],
          [
           3.5
          ],
          [
           4.6347826086956525
          ],
          [
           4.378378378378378
          ],
          [
           4.5
          ],
          [
           5
          ],
          [
           5
          ],
          [
           4.366795366795367
          ],
          [
           4.37037037037037
          ],
          [
           5
          ],
          [
           3
          ],
          [
           5
          ],
          [
           4.363636363636363
          ],
          [
           4.324
          ],
          [
           4.329969727547931
          ],
          [
           4.327058823529412
          ],
          [
           4.324
          ],
          [
           4.326653306613227
          ],
          [
           4.583333333333333
          ],
          [
           4.518987341772152
          ],
          [
           4.5
          ],
          [
           4.241379310344827
          ],
          [
           5
          ],
          [
           5
          ],
          [
           5
          ],
          [
           3.210526315789474
          ],
          [
           4.657131181038006
          ],
          [
           4.655842670935285
          ],
          [
           4.658597285067874
          ],
          [
           4.397849462365591
          ],
          [
           4.483870967741935
          ],
          [
           4.576923076923077
          ],
          [
           3.76
          ],
          [
           4.490022172949002
          ],
          [
           4.450113378684807
          ],
          [
           4
          ],
          [
           3.4
          ],
          [
           4.361111111111111
          ],
          [
           4.428571428571429
          ],
          [
           4.3441558441558445
          ],
          [
           4.3441558441558445
          ],
          [
           "(?)"
          ],
          [
           4.490022172949002
          ],
          [
           "(?)"
          ],
          [
           "(?)"
          ],
          [
           "(?)"
          ],
          [
           "(?)"
          ],
          [
           "(?)"
          ],
          [
           "(?)"
          ],
          [
           "(?)"
          ],
          [
           "(?)"
          ],
          [
           4.436221419975933
          ],
          [
           "(?)"
          ],
          [
           "(?)"
          ],
          [
           "(?)"
          ],
          [
           "(?)"
          ]
         ],
         "domain": {
          "x": [
           0,
           1
          ],
          "y": [
           0,
           1
          ]
         },
         "hovertemplate": "labels=%{label}<br>title_count=%{value}<br>parent=%{parent}<br>id=%{id}<br>average_review_score=%{customdata[0]}<extra></extra>",
         "ids": [
          "Fiction/Charles Dickens/A Christmas Carol (Enriched Classics (Pocket))",
          "Fiction/Charles Dickens/A Christmas Carol [One Voice Recordings Edition]",
          "Fiction/Charles Dickens/A Christmas Carol and Other Stories",
          "Fiction/Charles Dickens/A Christmas Carol read by Jim Dale",
          "Juvenile Fiction/Charles Dickens/A Christmas Carol: Unabridged (Classic Fiction S.)",
          "Biography & Autobiography/Anne Frank/Anne Frank in the World",
          "Biography & Autobiography/Anne Frank/Anne Frank the Diary of a Young Girl",
          "Biography & Autobiography/Anne Frank/Anne Frank: Life in Hiding",
          "Biography & Autobiography/Anne Frank/Anne Frank: The Diary of a Young Girl",
          "Fiction/Charles Dickens/Bleak House",
          "Fiction/Charles Dickens/Bleak House (Bantam Classics (Turtleback))",
          "Fiction/Kurt Vonnegut/Bluebeard",
          "Fiction/Kurt Vonnegut/Bluebeard: A Novel",
          "Fiction/Kurt Vonnegut/Breakfast of Champions",
          "Fiction/Kurt Vonnegut/Cat's Cradle",
          "Fiction/Kurt Vonnegut/Cat's cradle (A Dell book)",
          "Fiction/Charles Dickens/Charles Dickens' A Tale Of Two Cities",
          "Fiction/Charles Dickens/Charles Dickens: Four Novels (Great Expectations; Hard Times; A Christmas Carol; A Tale of Two Cities)",
          "Fiction/Charles Dickens/Christmas Books (World's Classics)",
          "Biography & Autobiography/Kurt Vonnegut/Conversations with Kurt Vonnegut (Literary Conversations)",
          "Fiction/Kurt Vonnegut/Cradle & Crucible: History and Faith in the Middle East",
          "Fiction/Charles Dickens/David Copperfield",
          "Fiction/Kurt Vonnegut/Deadeye Dick: A Novel",
          "Fiction/Jane Austen/Emma (CH) (Jane Austen Collection)",
          "Fiction/Jane Austen/Emma (Case Studies in Contemporary Criticism)",
          "Fiction/Jane Austen/Emma (Letras Universales / Universal Writings) (Spanish Edition)",
          "Fiction/Jane Austen/Emma (The World's Classics)",
          "Fiction/Jane Austen/Emma (World's Classics)",
          "Fiction/Kurt Vonnegut/Gala'pagos",
          "Fiction/Charles Dickens/Great Expectations",
          "Fiction/Charles Dickens/Great Expectations (Classics Illustrated Notes)",
          "Fiction/Charles Dickens/Great Expectations (Signet classics)",
          "Fiction/Charles Dickens/Hard Times",
          "Juvenile Fiction/J. K. Rowling/Harry Potter and The Sorcerer's Stone",
          "Juvenile Fiction/J. K. Rowling/Harry Potter and the Chamber of Secrets",
          "Juvenile Fiction/J. K. Rowling/Harry Potter and the Sorcerer's Stone Movie Poster Book",
          "Fiction/Kurt Vonnegut/Hocus",
          "Biography & Autobiography/Lance Armstrong/It's Not About the Bike: My Journey Back to Life",
          "Fiction/Kurt Vonnegut/Jailbird",
          "Fiction/Kurt Vonnegut/Kat's Cradle",
          "Juvenile Fiction/Rey Terciero/Little Women or Meg, Jo, Beth and Amy",
          "Juvenile Fiction/Rey Terciero/Little Women or Meg, Jo, Beth, and Amy.",
          "Juvenile Fiction/Rey Terciero/Little Women: or Meg, Jo, Beth, and Amy",
          "Juvenile Fiction/Rey Terciero/Little women, or, Meg, Jo, Beth and Amy",
          "Juvenile Fiction/Rey Terciero/Little women, or, Meg, Jo, Beth, and Amy",
          "Juvenile Fiction/Rey Terciero/Little women: Or Meg, Jo, Beth, and Amy",
          "Juvenile Fiction/Rey Terciero/Little women: Or, Meg, Jo, Beth, and Amy",
          "Juvenile Fiction/Rey Terciero/Little women; or, Meg, Jo, Beth, and Amy,",
          "Juvenile Fiction/Rey Terciero/Little women;: Or, Meg, Jo, Beth, and Amy",
          "Fiction/Jane Austen/Love and freindship,",
          "Fiction/Kurt Vonnegut/Magica Ruta 40/magic Road 40 (Coleccion Turismo) (Spanish Edition)",
          "Fiction/Jane Austen/Mansfield Park",
          "Fiction/Jane Austen/Mansfield Park (Coles Notes)",
          "Fiction/Charles Dickens/Martin Chuzzlewit (Penguin Classics)",
          "Fiction/Kurt Vonnegut/Night, Mother",
          "Fiction/Jane Austen/Northanger Abbey",
          "Fiction/Jane Austen/Northanger Abbey &Persuasion;",
          "Fiction/Jane Austen/Northanger Abbey, Lady Susan, The Watsons, and Sanditon (World's Classics)",
          "Fiction/Jane Austen/Northanger abbey (The World's classics)",
          "Fiction/Jane Austen/Northanger abbey: A novel",
          "Fiction/Charles Dickens/Oliver Twist (Norton Critical Editions)",
          "Biography & Autobiography/Kurt Vonnegut/PALM SUNDAY",
          "Biography & Autobiography/Kurt Vonnegut/Palm Sunday",
          "Fiction/Jane Austen/Persuasion (Penguin Audio Classics)",
          "Fiction/Kurt Vonnegut/Player Piano",
          "Fiction/Kurt Vonnegut/Player piano",
          "Fiction/Jane Austen/Pride and Prejudice",
          "Fiction/Jane Austen/Pride and Prejudice: An Authoritative Text Backgrounds and Sources Criticism (Norton Critical Editions)",
          "Fiction/J. R. R. Tolkien/Return of the King Being the Third Part of The Lord of the Rings",
          "Fiction/J. R. R. Tolkien/Roverandom",
          "Fiction/Jane Austen/Sanditon",
          "Fiction/Jane Austen/Sanditon, the Watsons, Miss",
          "Fiction/Charles Dickens/Selected Short Fiction (Penguin English Library)",
          "Fiction/Jane Austen/Sense and Sensibility",
          "Fiction/Jane Austen/Sense and sensibility",
          "Fiction/Jane Austen/Sentido y sensibilidad (Clasicos de la literatura series)",
          "Fiction/Jane Austen/Signet Classic Jane Austen Pride and Prejudice",
          "Fiction/J. R. R. Tolkien/Silmarillion",
          "Fiction/Kurt Vonnegut/Slapstick: Or Lonesome No More",
          "Fiction/Kurt Vonnegut/Slaughter-House Five",
          "Fiction/Kurt Vonnegut/Slaughter-House Five (First paperback edition)",
          "Fiction/Kurt Vonnegut/Slaughterhouse-Five",
          "Fiction/Kurt Vonnegut/Slaughterhouse-Five : Or the Children's Crusade",
          "Fiction/Kurt Vonnegut/Slaughterhouse-five: Or, The children's crusade : a duty-dance with death",
          "Fiction/Charles Dickens/The Annotated Christmas Carol: A Christmas Carol in Prose (The Annotated Books)",
          "Fiction/Jane Austen/The Annotated Pride and Prejudice",
          "Juvenile Fiction/Charles Dickens/The Baron of Grogzwig",
          "Fiction/J. R. R. Tolkien/The Book of Lost Tales, Part One (The History of Middle-Earth, Vol. 1)",
          "Fiction/Jane Austen/The Complete Novels",
          "Fiction/Jane Austen/The Complete Novels of Jane Austen, Vol. 2 (Emma / Northanger Abbey / Persuasion)",
          "Biography & Autobiography/Anne Frank/The Diary of A.N",
          "Biography & Autobiography/Anne Frank/The Diary of Anne Frank.",
          "Juvenile Fiction/J. R. R. Tolkien/The Hobbit",
          "Juvenile Fiction/J. R. R. Tolkien/The Hobbit or There and Back Again",
          "Fiction/J. R. R. Tolkien/The Hobbitt, or there and back again; illustrated by the author.",
          "Fiction/Charles Dickens/The Life and Adventures of Nicholas Nickleby",
          "Fiction/Charles Dickens/The Life of Our Lord: Written For His Children During the years 1846-1849",
          "Fiction/J. R. R. Tolkien/The Lord of the Rings Trilogy (The Fellowship of the Ring, The Two Towers, The Return of the King, I, II, III)",
          "Fiction/Charles Dickens/The Mystery of Edwin Drood",
          "Biography & Autobiography/Cary Elwes, Joe Layden/The Princess Bride",
          "Fiction/J. R. R. Tolkien/The Silmarillion",
          "Fiction/Kurt Vonnegut/The Ultimate Frankenstein: New Stories by Some of the World's Leading Authors",
          "Fiction/Jane Austen/The Works of Jane Austen (Sanditon - The Watsons, Lady Susan & Other Miscellanea)",
          "Fiction/Jane Austen/The complete novels of Jane Austen",
          "Fiction/J. R. R. Tolkien/Tree and Leaf.",
          "Fiction/Kurt Vonnegut/Welcome to the Monkey House",
          "Fiction/Kurt Vonnegut/Welcome to the monkey house",
          "Biography & Autobiography/Anne Frank",
          "Biography & Autobiography/Cary Elwes, Joe Layden",
          "Fiction/Charles Dickens",
          "Juvenile Fiction/Charles Dickens",
          "Juvenile Fiction/J. K. Rowling",
          "Fiction/J. R. R. Tolkien",
          "Juvenile Fiction/J. R. R. Tolkien",
          "Fiction/Jane Austen",
          "Biography & Autobiography/Kurt Vonnegut",
          "Fiction/Kurt Vonnegut",
          "Biography & Autobiography/Lance Armstrong",
          "Juvenile Fiction/Rey Terciero",
          "Biography & Autobiography",
          "Fiction",
          "Juvenile Fiction"
         ],
         "labels": [
          "A Christmas Carol (Enriched Classics (Pocket))",
          "A Christmas Carol [One Voice Recordings Edition]",
          "A Christmas Carol and Other Stories",
          "A Christmas Carol read by Jim Dale",
          "A Christmas Carol: Unabridged (Classic Fiction S.)",
          "Anne Frank in the World",
          "Anne Frank the Diary of a Young Girl",
          "Anne Frank: Life in Hiding",
          "Anne Frank: The Diary of a Young Girl",
          "Bleak House",
          "Bleak House (Bantam Classics (Turtleback))",
          "Bluebeard",
          "Bluebeard: A Novel",
          "Breakfast of Champions",
          "Cat's Cradle",
          "Cat's cradle (A Dell book)",
          "Charles Dickens' A Tale Of Two Cities",
          "Charles Dickens: Four Novels (Great Expectations; Hard Times; A Christmas Carol; A Tale of Two Cities)",
          "Christmas Books (World's Classics)",
          "Conversations with Kurt Vonnegut (Literary Conversations)",
          "Cradle & Crucible: History and Faith in the Middle East",
          "David Copperfield",
          "Deadeye Dick: A Novel",
          "Emma (CH) (Jane Austen Collection)",
          "Emma (Case Studies in Contemporary Criticism)",
          "Emma (Letras Universales / Universal Writings) (Spanish Edition)",
          "Emma (The World's Classics)",
          "Emma (World's Classics)",
          "Gala'pagos",
          "Great Expectations",
          "Great Expectations (Classics Illustrated Notes)",
          "Great Expectations (Signet classics)",
          "Hard Times",
          "Harry Potter and The Sorcerer's Stone",
          "Harry Potter and the Chamber of Secrets",
          "Harry Potter and the Sorcerer's Stone Movie Poster Book",
          "Hocus",
          "It's Not About the Bike: My Journey Back to Life",
          "Jailbird",
          "Kat's Cradle",
          "Little Women or Meg, Jo, Beth and Amy",
          "Little Women or Meg, Jo, Beth, and Amy.",
          "Little Women: or Meg, Jo, Beth, and Amy",
          "Little women, or, Meg, Jo, Beth and Amy",
          "Little women, or, Meg, Jo, Beth, and Amy",
          "Little women: Or Meg, Jo, Beth, and Amy",
          "Little women: Or, Meg, Jo, Beth, and Amy",
          "Little women; or, Meg, Jo, Beth, and Amy,",
          "Little women;: Or, Meg, Jo, Beth, and Amy",
          "Love and freindship,",
          "Magica Ruta 40/magic Road 40 (Coleccion Turismo) (Spanish Edition)",
          "Mansfield Park",
          "Mansfield Park (Coles Notes)",
          "Martin Chuzzlewit (Penguin Classics)",
          "Night, Mother",
          "Northanger Abbey",
          "Northanger Abbey &Persuasion;",
          "Northanger Abbey, Lady Susan, The Watsons, and Sanditon (World's Classics)",
          "Northanger abbey (The World's classics)",
          "Northanger abbey: A novel",
          "Oliver Twist (Norton Critical Editions)",
          "PALM SUNDAY",
          "Palm Sunday",
          "Persuasion (Penguin Audio Classics)",
          "Player Piano",
          "Player piano",
          "Pride and Prejudice",
          "Pride and Prejudice: An Authoritative Text Backgrounds and Sources Criticism (Norton Critical Editions)",
          "Return of the King Being the Third Part of The Lord of the Rings",
          "Roverandom",
          "Sanditon",
          "Sanditon, the Watsons, Miss",
          "Selected Short Fiction (Penguin English Library)",
          "Sense and Sensibility",
          "Sense and sensibility",
          "Sentido y sensibilidad (Clasicos de la literatura series)",
          "Signet Classic Jane Austen Pride and Prejudice",
          "Silmarillion",
          "Slapstick: Or Lonesome No More",
          "Slaughter-House Five",
          "Slaughter-House Five (First paperback edition)",
          "Slaughterhouse-Five",
          "Slaughterhouse-Five : Or the Children's Crusade",
          "Slaughterhouse-five: Or, The children's crusade : a duty-dance with death",
          "The Annotated Christmas Carol: A Christmas Carol in Prose (The Annotated Books)",
          "The Annotated Pride and Prejudice",
          "The Baron of Grogzwig",
          "The Book of Lost Tales, Part One (The History of Middle-Earth, Vol. 1)",
          "The Complete Novels",
          "The Complete Novels of Jane Austen, Vol. 2 (Emma / Northanger Abbey / Persuasion)",
          "The Diary of A.N",
          "The Diary of Anne Frank.",
          "The Hobbit",
          "The Hobbit or There and Back Again",
          "The Hobbitt, or there and back again; illustrated by the author.",
          "The Life and Adventures of Nicholas Nickleby",
          "The Life of Our Lord: Written For His Children During the years 1846-1849",
          "The Lord of the Rings Trilogy (The Fellowship of the Ring, The Two Towers, The Return of the King, I, II, III)",
          "The Mystery of Edwin Drood",
          "The Princess Bride",
          "The Silmarillion",
          "The Ultimate Frankenstein: New Stories by Some of the World's Leading Authors",
          "The Works of Jane Austen (Sanditon - The Watsons, Lady Susan & Other Miscellanea)",
          "The complete novels of Jane Austen",
          "Tree and Leaf.",
          "Welcome to the Monkey House",
          "Welcome to the monkey house",
          "Anne Frank",
          "Cary Elwes, Joe Layden",
          "Charles Dickens",
          "Charles Dickens",
          "J. K. Rowling",
          "J. R. R. Tolkien",
          "J. R. R. Tolkien",
          "Jane Austen",
          "Kurt Vonnegut",
          "Kurt Vonnegut",
          "Lance Armstrong",
          "Rey Terciero",
          "Biography & Autobiography",
          "Fiction",
          "Juvenile Fiction"
         ],
         "name": "",
         "parents": [
          "Fiction/Charles Dickens",
          "Fiction/Charles Dickens",
          "Fiction/Charles Dickens",
          "Fiction/Charles Dickens",
          "Juvenile Fiction/Charles Dickens",
          "Biography & Autobiography/Anne Frank",
          "Biography & Autobiography/Anne Frank",
          "Biography & Autobiography/Anne Frank",
          "Biography & Autobiography/Anne Frank",
          "Fiction/Charles Dickens",
          "Fiction/Charles Dickens",
          "Fiction/Kurt Vonnegut",
          "Fiction/Kurt Vonnegut",
          "Fiction/Kurt Vonnegut",
          "Fiction/Kurt Vonnegut",
          "Fiction/Kurt Vonnegut",
          "Fiction/Charles Dickens",
          "Fiction/Charles Dickens",
          "Fiction/Charles Dickens",
          "Biography & Autobiography/Kurt Vonnegut",
          "Fiction/Kurt Vonnegut",
          "Fiction/Charles Dickens",
          "Fiction/Kurt Vonnegut",
          "Fiction/Jane Austen",
          "Fiction/Jane Austen",
          "Fiction/Jane Austen",
          "Fiction/Jane Austen",
          "Fiction/Jane Austen",
          "Fiction/Kurt Vonnegut",
          "Fiction/Charles Dickens",
          "Fiction/Charles Dickens",
          "Fiction/Charles Dickens",
          "Fiction/Charles Dickens",
          "Juvenile Fiction/J. K. Rowling",
          "Juvenile Fiction/J. K. Rowling",
          "Juvenile Fiction/J. K. Rowling",
          "Fiction/Kurt Vonnegut",
          "Biography & Autobiography/Lance Armstrong",
          "Fiction/Kurt Vonnegut",
          "Fiction/Kurt Vonnegut",
          "Juvenile Fiction/Rey Terciero",
          "Juvenile Fiction/Rey Terciero",
          "Juvenile Fiction/Rey Terciero",
          "Juvenile Fiction/Rey Terciero",
          "Juvenile Fiction/Rey Terciero",
          "Juvenile Fiction/Rey Terciero",
          "Juvenile Fiction/Rey Terciero",
          "Juvenile Fiction/Rey Terciero",
          "Juvenile Fiction/Rey Terciero",
          "Fiction/Jane Austen",
          "Fiction/Kurt Vonnegut",
          "Fiction/Jane Austen",
          "Fiction/Jane Austen",
          "Fiction/Charles Dickens",
          "Fiction/Kurt Vonnegut",
          "Fiction/Jane Austen",
          "Fiction/Jane Austen",
          "Fiction/Jane Austen",
          "Fiction/Jane Austen",
          "Fiction/Jane Austen",
          "Fiction/Charles Dickens",
          "Biography & Autobiography/Kurt Vonnegut",
          "Biography & Autobiography/Kurt Vonnegut",
          "Fiction/Jane Austen",
          "Fiction/Kurt Vonnegut",
          "Fiction/Kurt Vonnegut",
          "Fiction/Jane Austen",
          "Fiction/Jane Austen",
          "Fiction/J. R. R. Tolkien",
          "Fiction/J. R. R. Tolkien",
          "Fiction/Jane Austen",
          "Fiction/Jane Austen",
          "Fiction/Charles Dickens",
          "Fiction/Jane Austen",
          "Fiction/Jane Austen",
          "Fiction/Jane Austen",
          "Fiction/Jane Austen",
          "Fiction/J. R. R. Tolkien",
          "Fiction/Kurt Vonnegut",
          "Fiction/Kurt Vonnegut",
          "Fiction/Kurt Vonnegut",
          "Fiction/Kurt Vonnegut",
          "Fiction/Kurt Vonnegut",
          "Fiction/Kurt Vonnegut",
          "Fiction/Charles Dickens",
          "Fiction/Jane Austen",
          "Juvenile Fiction/Charles Dickens",
          "Fiction/J. R. R. Tolkien",
          "Fiction/Jane Austen",
          "Fiction/Jane Austen",
          "Biography & Autobiography/Anne Frank",
          "Biography & Autobiography/Anne Frank",
          "Juvenile Fiction/J. R. R. Tolkien",
          "Juvenile Fiction/J. R. R. Tolkien",
          "Fiction/J. R. R. Tolkien",
          "Fiction/Charles Dickens",
          "Fiction/Charles Dickens",
          "Fiction/J. R. R. Tolkien",
          "Fiction/Charles Dickens",
          "Biography & Autobiography/Cary Elwes, Joe Layden",
          "Fiction/J. R. R. Tolkien",
          "Fiction/Kurt Vonnegut",
          "Fiction/Jane Austen",
          "Fiction/Jane Austen",
          "Fiction/J. R. R. Tolkien",
          "Fiction/Kurt Vonnegut",
          "Fiction/Kurt Vonnegut",
          "Biography & Autobiography",
          "Biography & Autobiography",
          "Fiction",
          "Juvenile Fiction",
          "Juvenile Fiction",
          "Fiction",
          "Juvenile Fiction",
          "Fiction",
          "Biography & Autobiography",
          "Fiction",
          "Biography & Autobiography",
          "Juvenile Fiction",
          "",
          "",
          ""
         ],
         "type": "sunburst",
         "values": [
          1014,
          1002,
          4,
          1,
          2,
          6,
          844,
          5,
          845,
          416,
          208,
          1,
          91,
          659,
          2086,
          515,
          18,
          37,
          4,
          5,
          2,
          318,
          56,
          485,
          1,
          485,
          485,
          485,
          3,
          7421,
          3,
          826,
          324,
          6796,
          3137,
          19,
          24,
          1662,
          44,
          3,
          823,
          828,
          833,
          823,
          1643,
          832,
          828,
          832,
          816,
          58,
          2,
          274,
          274,
          42,
          20,
          1,
          4,
          2,
          243,
          243,
          3,
          5,
          18,
          424,
          404,
          202,
          20371,
          2,
          460,
          74,
          2,
          2,
          1,
          1295,
          432,
          1,
          1,
          1,
          88,
          1000,
          991,
          2975,
          1000,
          998,
          24,
          79,
          2,
          58,
          1,
          3,
          1,
          19,
          22023,
          4373,
          4420,
          93,
          31,
          2470,
          50,
          1804,
          882,
          2,
          5,
          216,
          14,
          308,
          154,
          1720,
          1804,
          11840,
          4,
          9952,
          8379,
          26396,
          25874,
          28,
          11628,
          1662,
          8258,
          5214,
          57721,
          44610
         ]
        }
       ],
       "layout": {
        "legend": {
         "tracegroupgap": 0
        },
        "template": {
         "data": {
          "bar": [
           {
            "error_x": {
             "color": "#2a3f5f"
            },
            "error_y": {
             "color": "#2a3f5f"
            },
            "marker": {
             "line": {
              "color": "#E5ECF6",
              "width": 0.5
             },
             "pattern": {
              "fillmode": "overlay",
              "size": 10,
              "solidity": 0.2
             }
            },
            "type": "bar"
           }
          ],
          "barpolar": [
           {
            "marker": {
             "line": {
              "color": "#E5ECF6",
              "width": 0.5
             },
             "pattern": {
              "fillmode": "overlay",
              "size": 10,
              "solidity": 0.2
             }
            },
            "type": "barpolar"
           }
          ],
          "carpet": [
           {
            "aaxis": {
             "endlinecolor": "#2a3f5f",
             "gridcolor": "white",
             "linecolor": "white",
             "minorgridcolor": "white",
             "startlinecolor": "#2a3f5f"
            },
            "baxis": {
             "endlinecolor": "#2a3f5f",
             "gridcolor": "white",
             "linecolor": "white",
             "minorgridcolor": "white",
             "startlinecolor": "#2a3f5f"
            },
            "type": "carpet"
           }
          ],
          "choropleth": [
           {
            "colorbar": {
             "outlinewidth": 0,
             "ticks": ""
            },
            "type": "choropleth"
           }
          ],
          "contour": [
           {
            "colorbar": {
             "outlinewidth": 0,
             "ticks": ""
            },
            "colorscale": [
             [
              0,
              "#0d0887"
             ],
             [
              0.1111111111111111,
              "#46039f"
             ],
             [
              0.2222222222222222,
              "#7201a8"
             ],
             [
              0.3333333333333333,
              "#9c179e"
             ],
             [
              0.4444444444444444,
              "#bd3786"
             ],
             [
              0.5555555555555556,
              "#d8576b"
             ],
             [
              0.6666666666666666,
              "#ed7953"
             ],
             [
              0.7777777777777778,
              "#fb9f3a"
             ],
             [
              0.8888888888888888,
              "#fdca26"
             ],
             [
              1,
              "#f0f921"
             ]
            ],
            "type": "contour"
           }
          ],
          "contourcarpet": [
           {
            "colorbar": {
             "outlinewidth": 0,
             "ticks": ""
            },
            "type": "contourcarpet"
           }
          ],
          "heatmap": [
           {
            "colorbar": {
             "outlinewidth": 0,
             "ticks": ""
            },
            "colorscale": [
             [
              0,
              "#0d0887"
             ],
             [
              0.1111111111111111,
              "#46039f"
             ],
             [
              0.2222222222222222,
              "#7201a8"
             ],
             [
              0.3333333333333333,
              "#9c179e"
             ],
             [
              0.4444444444444444,
              "#bd3786"
             ],
             [
              0.5555555555555556,
              "#d8576b"
             ],
             [
              0.6666666666666666,
              "#ed7953"
             ],
             [
              0.7777777777777778,
              "#fb9f3a"
             ],
             [
              0.8888888888888888,
              "#fdca26"
             ],
             [
              1,
              "#f0f921"
             ]
            ],
            "type": "heatmap"
           }
          ],
          "heatmapgl": [
           {
            "colorbar": {
             "outlinewidth": 0,
             "ticks": ""
            },
            "colorscale": [
             [
              0,
              "#0d0887"
             ],
             [
              0.1111111111111111,
              "#46039f"
             ],
             [
              0.2222222222222222,
              "#7201a8"
             ],
             [
              0.3333333333333333,
              "#9c179e"
             ],
             [
              0.4444444444444444,
              "#bd3786"
             ],
             [
              0.5555555555555556,
              "#d8576b"
             ],
             [
              0.6666666666666666,
              "#ed7953"
             ],
             [
              0.7777777777777778,
              "#fb9f3a"
             ],
             [
              0.8888888888888888,
              "#fdca26"
             ],
             [
              1,
              "#f0f921"
             ]
            ],
            "type": "heatmapgl"
           }
          ],
          "histogram": [
           {
            "marker": {
             "pattern": {
              "fillmode": "overlay",
              "size": 10,
              "solidity": 0.2
             }
            },
            "type": "histogram"
           }
          ],
          "histogram2d": [
           {
            "colorbar": {
             "outlinewidth": 0,
             "ticks": ""
            },
            "colorscale": [
             [
              0,
              "#0d0887"
             ],
             [
              0.1111111111111111,
              "#46039f"
             ],
             [
              0.2222222222222222,
              "#7201a8"
             ],
             [
              0.3333333333333333,
              "#9c179e"
             ],
             [
              0.4444444444444444,
              "#bd3786"
             ],
             [
              0.5555555555555556,
              "#d8576b"
             ],
             [
              0.6666666666666666,
              "#ed7953"
             ],
             [
              0.7777777777777778,
              "#fb9f3a"
             ],
             [
              0.8888888888888888,
              "#fdca26"
             ],
             [
              1,
              "#f0f921"
             ]
            ],
            "type": "histogram2d"
           }
          ],
          "histogram2dcontour": [
           {
            "colorbar": {
             "outlinewidth": 0,
             "ticks": ""
            },
            "colorscale": [
             [
              0,
              "#0d0887"
             ],
             [
              0.1111111111111111,
              "#46039f"
             ],
             [
              0.2222222222222222,
              "#7201a8"
             ],
             [
              0.3333333333333333,
              "#9c179e"
             ],
             [
              0.4444444444444444,
              "#bd3786"
             ],
             [
              0.5555555555555556,
              "#d8576b"
             ],
             [
              0.6666666666666666,
              "#ed7953"
             ],
             [
              0.7777777777777778,
              "#fb9f3a"
             ],
             [
              0.8888888888888888,
              "#fdca26"
             ],
             [
              1,
              "#f0f921"
             ]
            ],
            "type": "histogram2dcontour"
           }
          ],
          "mesh3d": [
           {
            "colorbar": {
             "outlinewidth": 0,
             "ticks": ""
            },
            "type": "mesh3d"
           }
          ],
          "parcoords": [
           {
            "line": {
             "colorbar": {
              "outlinewidth": 0,
              "ticks": ""
             }
            },
            "type": "parcoords"
           }
          ],
          "pie": [
           {
            "automargin": true,
            "type": "pie"
           }
          ],
          "scatter": [
           {
            "fillpattern": {
             "fillmode": "overlay",
             "size": 10,
             "solidity": 0.2
            },
            "type": "scatter"
           }
          ],
          "scatter3d": [
           {
            "line": {
             "colorbar": {
              "outlinewidth": 0,
              "ticks": ""
             }
            },
            "marker": {
             "colorbar": {
              "outlinewidth": 0,
              "ticks": ""
             }
            },
            "type": "scatter3d"
           }
          ],
          "scattercarpet": [
           {
            "marker": {
             "colorbar": {
              "outlinewidth": 0,
              "ticks": ""
             }
            },
            "type": "scattercarpet"
           }
          ],
          "scattergeo": [
           {
            "marker": {
             "colorbar": {
              "outlinewidth": 0,
              "ticks": ""
             }
            },
            "type": "scattergeo"
           }
          ],
          "scattergl": [
           {
            "marker": {
             "colorbar": {
              "outlinewidth": 0,
              "ticks": ""
             }
            },
            "type": "scattergl"
           }
          ],
          "scattermapbox": [
           {
            "marker": {
             "colorbar": {
              "outlinewidth": 0,
              "ticks": ""
             }
            },
            "type": "scattermapbox"
           }
          ],
          "scatterpolar": [
           {
            "marker": {
             "colorbar": {
              "outlinewidth": 0,
              "ticks": ""
             }
            },
            "type": "scatterpolar"
           }
          ],
          "scatterpolargl": [
           {
            "marker": {
             "colorbar": {
              "outlinewidth": 0,
              "ticks": ""
             }
            },
            "type": "scatterpolargl"
           }
          ],
          "scatterternary": [
           {
            "marker": {
             "colorbar": {
              "outlinewidth": 0,
              "ticks": ""
             }
            },
            "type": "scatterternary"
           }
          ],
          "surface": [
           {
            "colorbar": {
             "outlinewidth": 0,
             "ticks": ""
            },
            "colorscale": [
             [
              0,
              "#0d0887"
             ],
             [
              0.1111111111111111,
              "#46039f"
             ],
             [
              0.2222222222222222,
              "#7201a8"
             ],
             [
              0.3333333333333333,
              "#9c179e"
             ],
             [
              0.4444444444444444,
              "#bd3786"
             ],
             [
              0.5555555555555556,
              "#d8576b"
             ],
             [
              0.6666666666666666,
              "#ed7953"
             ],
             [
              0.7777777777777778,
              "#fb9f3a"
             ],
             [
              0.8888888888888888,
              "#fdca26"
             ],
             [
              1,
              "#f0f921"
             ]
            ],
            "type": "surface"
           }
          ],
          "table": [
           {
            "cells": {
             "fill": {
              "color": "#EBF0F8"
             },
             "line": {
              "color": "white"
             }
            },
            "header": {
             "fill": {
              "color": "#C8D4E3"
             },
             "line": {
              "color": "white"
             }
            },
            "type": "table"
           }
          ]
         },
         "layout": {
          "annotationdefaults": {
           "arrowcolor": "#2a3f5f",
           "arrowhead": 0,
           "arrowwidth": 1
          },
          "autotypenumbers": "strict",
          "coloraxis": {
           "colorbar": {
            "outlinewidth": 0,
            "ticks": ""
           }
          },
          "colorscale": {
           "diverging": [
            [
             0,
             "#8e0152"
            ],
            [
             0.1,
             "#c51b7d"
            ],
            [
             0.2,
             "#de77ae"
            ],
            [
             0.3,
             "#f1b6da"
            ],
            [
             0.4,
             "#fde0ef"
            ],
            [
             0.5,
             "#f7f7f7"
            ],
            [
             0.6,
             "#e6f5d0"
            ],
            [
             0.7,
             "#b8e186"
            ],
            [
             0.8,
             "#7fbc41"
            ],
            [
             0.9,
             "#4d9221"
            ],
            [
             1,
             "#276419"
            ]
           ],
           "sequential": [
            [
             0,
             "#0d0887"
            ],
            [
             0.1111111111111111,
             "#46039f"
            ],
            [
             0.2222222222222222,
             "#7201a8"
            ],
            [
             0.3333333333333333,
             "#9c179e"
            ],
            [
             0.4444444444444444,
             "#bd3786"
            ],
            [
             0.5555555555555556,
             "#d8576b"
            ],
            [
             0.6666666666666666,
             "#ed7953"
            ],
            [
             0.7777777777777778,
             "#fb9f3a"
            ],
            [
             0.8888888888888888,
             "#fdca26"
            ],
            [
             1,
             "#f0f921"
            ]
           ],
           "sequentialminus": [
            [
             0,
             "#0d0887"
            ],
            [
             0.1111111111111111,
             "#46039f"
            ],
            [
             0.2222222222222222,
             "#7201a8"
            ],
            [
             0.3333333333333333,
             "#9c179e"
            ],
            [
             0.4444444444444444,
             "#bd3786"
            ],
            [
             0.5555555555555556,
             "#d8576b"
            ],
            [
             0.6666666666666666,
             "#ed7953"
            ],
            [
             0.7777777777777778,
             "#fb9f3a"
            ],
            [
             0.8888888888888888,
             "#fdca26"
            ],
            [
             1,
             "#f0f921"
            ]
           ]
          },
          "colorway": [
           "#636efa",
           "#EF553B",
           "#00cc96",
           "#ab63fa",
           "#FFA15A",
           "#19d3f3",
           "#FF6692",
           "#B6E880",
           "#FF97FF",
           "#FECB52"
          ],
          "font": {
           "color": "#2a3f5f"
          },
          "geo": {
           "bgcolor": "white",
           "lakecolor": "white",
           "landcolor": "#E5ECF6",
           "showlakes": true,
           "showland": true,
           "subunitcolor": "white"
          },
          "hoverlabel": {
           "align": "left"
          },
          "hovermode": "closest",
          "mapbox": {
           "style": "light"
          },
          "paper_bgcolor": "white",
          "plot_bgcolor": "#E5ECF6",
          "polar": {
           "angularaxis": {
            "gridcolor": "white",
            "linecolor": "white",
            "ticks": ""
           },
           "bgcolor": "#E5ECF6",
           "radialaxis": {
            "gridcolor": "white",
            "linecolor": "white",
            "ticks": ""
           }
          },
          "scene": {
           "xaxis": {
            "backgroundcolor": "#E5ECF6",
            "gridcolor": "white",
            "gridwidth": 2,
            "linecolor": "white",
            "showbackground": true,
            "ticks": "",
            "zerolinecolor": "white"
           },
           "yaxis": {
            "backgroundcolor": "#E5ECF6",
            "gridcolor": "white",
            "gridwidth": 2,
            "linecolor": "white",
            "showbackground": true,
            "ticks": "",
            "zerolinecolor": "white"
           },
           "zaxis": {
            "backgroundcolor": "#E5ECF6",
            "gridcolor": "white",
            "gridwidth": 2,
            "linecolor": "white",
            "showbackground": true,
            "ticks": "",
            "zerolinecolor": "white"
           }
          },
          "shapedefaults": {
           "line": {
            "color": "#2a3f5f"
           }
          },
          "ternary": {
           "aaxis": {
            "gridcolor": "white",
            "linecolor": "white",
            "ticks": ""
           },
           "baxis": {
            "gridcolor": "white",
            "linecolor": "white",
            "ticks": ""
           },
           "bgcolor": "#E5ECF6",
           "caxis": {
            "gridcolor": "white",
            "linecolor": "white",
            "ticks": ""
           }
          },
          "title": {
           "x": 0.05
          },
          "xaxis": {
           "automargin": true,
           "gridcolor": "white",
           "linecolor": "white",
           "ticks": "",
           "title": {
            "standoff": 15
           },
           "zerolinecolor": "white",
           "zerolinewidth": 2
          },
          "yaxis": {
           "automargin": true,
           "gridcolor": "white",
           "linecolor": "white",
           "ticks": "",
           "title": {
            "standoff": 15
           },
           "zerolinecolor": "white",
           "zerolinewidth": 2
          }
         }
        },
        "title": {
         "text": "Sunburst Chart of Categories, Authors, and Titles"
        }
       }
      }
     },
     "metadata": {},
     "output_type": "display_data"
    }
   ],
   "source": [
    "\n",
    "fig = px.sunburst(\n",
    "        df_final_grouped,\n",
    "        path=[\"genre\", \"authors\", \"title\"],\n",
    "        values=\"title_count\",\n",
    "        title=\"Sunburst Chart of Categories, Authors, and Titles\",\n",
    "        hover_data=\"average_review_score\",\n",
    ")\n",
    "\n",
    "fig.show()"
   ]
  },
  {
   "cell_type": "code",
   "execution_count": 18,
   "metadata": {},
   "outputs": [],
   "source": [
    "import streamlit as st\n",
    "import matplotlib.pyplot as plt\n",
    "import matplotlib.colors as mcolors\n",
    "import numpy as np\n",
    "\n",
    "\n",
    "custom_palette = {\n",
    "    \"amazon_orange\": \"#e47911\",\n",
    "    \"amazon_blue\": \"#232f3e\",\n",
    "    \"amazon_lightblue1\": \"#48a3c6\",\n",
    "    \"amazon_lightblue2\": \"#007eb9\",\n",
    "    \"amazon_greyblue\": \"#37475a\",\n",
    "    \"amazon_black\": \"#111111\",\n",
    "    \"amazon_white\": \"#ffffff\",\n",
    "    \"amazon_grey\": \"#cccccc\",\n",
    "    \"amazon_mediumgrey\": \"#fafafa\",\n",
    "    \"background\": \"#ecf0f1\",  # Light Gray\n",
    "    \"text\": \"#2c3e50\",  # Dark Gray\n",
    "}\n",
    "\n",
    "\n",
    "# // NOTE: Create color pallette\n",
    "def create_divergent_color_scale(start_color, end_color, num_steps):\n",
    "    start_rgb = mcolors.hex2color(start_color)\n",
    "    end_rgb = mcolors.hex2color(end_color)\n",
    "\n",
    "    r = np.linspace(start_rgb[0], end_rgb[0], num_steps)\n",
    "    g = np.linspace(start_rgb[1], end_rgb[1], num_steps)\n",
    "    b = np.linspace(start_rgb[2], end_rgb[2], num_steps)\n",
    "\n",
    "    colors = np.column_stack((r, g, b))\n",
    "\n",
    "    return [mcolors.rgb2hex(color) for color in colors]\n",
    "\n",
    "\n",
    "num_steps = 10\n",
    "divergent_colors = create_divergent_color_scale(\n",
    "    custom_palette[\"amazon_orange\"], custom_palette[\"amazon_blue\"], num_steps\n",
    ")"
   ]
  },
  {
   "cell_type": "code",
   "execution_count": 19,
   "metadata": {},
   "outputs": [
    {
     "data": {
      "text/plain": [
       "['#e47911',\n",
       " '#cf7116',\n",
       " '#b9691b',\n",
       " '#a46020',\n",
       " '#8e5825',\n",
       " '#79502a',\n",
       " '#63482f',\n",
       " '#4e3f34',\n",
       " '#383739',\n",
       " '#232f3e']"
      ]
     },
     "execution_count": 19,
     "metadata": {},
     "output_type": "execute_result"
    }
   ],
   "source": [
    "divergent_colors"
   ]
  },
  {
   "cell_type": "code",
   "execution_count": null,
   "metadata": {},
   "outputs": [],
   "source": []
  }
 ],
 "metadata": {
  "kernelspec": {
   "display_name": "python_base",
   "language": "python",
   "name": "python3"
  },
  "language_info": {
   "codemirror_mode": {
    "name": "ipython",
    "version": 3
   },
   "file_extension": ".py",
   "mimetype": "text/x-python",
   "name": "python",
   "nbconvert_exporter": "python",
   "pygments_lexer": "ipython3",
   "version": "3.10.13"
  }
 },
 "nbformat": 4,
 "nbformat_minor": 2
}
