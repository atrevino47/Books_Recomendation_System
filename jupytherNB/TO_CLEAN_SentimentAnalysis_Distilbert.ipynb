{
 "cells": [
  {
   "cell_type": "markdown",
   "metadata": {},
   "source": [
    "# Import Libraries "
   ]
  },
  {
   "cell_type": "code",
   "execution_count": 75,
   "metadata": {},
   "outputs": [],
   "source": [
    "import pandas as pd\n",
    "import plotly.graph_objects as go\n",
    "import plotly.express as px\n",
    "import seaborn as sns\n",
    "\n",
    "import nltk"
   ]
  },
  {
   "cell_type": "markdown",
   "metadata": {},
   "source": [
    "# Step0. Load Datasets"
   ]
  },
  {
   "cell_type": "code",
   "execution_count": 2,
   "metadata": {},
   "outputs": [],
   "source": [
    "books_data = pd.read_parquet(\"C:/Users/adria/Documents/Data_bases/Books/Amazon_Books_Reviews/books_data/books_data.parquet\")\n",
    "books_ratings = pd.read_parquet(\"C:/Users/adria/Documents/Data_bases/Books/Amazon_Books_Reviews/books_data/books_ratings.parquet\")"
   ]
  },
  {
   "cell_type": "code",
   "execution_count": 58,
   "metadata": {},
   "outputs": [
    {
     "data": {
      "text/plain": [
       "Index(['book_id', 'title', 'Price', 'User_id', 'profileName',\n",
       "       'review_helpfulness', 'review_score', 'review/time', 'review/summary',\n",
       "       'review_text'],\n",
       "      dtype='object')"
      ]
     },
     "execution_count": 58,
     "metadata": {},
     "output_type": "execute_result"
    }
   ],
   "source": [
    "# Rename book_ratings columns\n",
    "books_ratings.rename(columns={'Id':'book_id', 'review/score': 'review_score','Title':'title', 'review/helpfulness':'review_helpfulness','review/text':'review_text'}, inplace=True)\n",
    "books_ratings.columns"
   ]
  },
  {
   "cell_type": "code",
   "execution_count": 59,
   "metadata": {},
   "outputs": [],
   "source": [
    "desired_columns = ['book_id', 'title', 'User_id', 'profileName',\n",
    "       'review_score', 'review_text']\n",
    "ratings_df = books_ratings[desired_columns].copy()\n",
    "\n",
    "# Necessary for Sentiment analysis\n",
    "ratings_df = ratings_df.dropna(subset='review_text')"
   ]
  },
  {
   "cell_type": "code",
   "execution_count": 60,
   "metadata": {},
   "outputs": [
    {
     "data": {
      "text/plain": [
       "Index(['book_id', 'title', 'User_id', 'profileName', 'review_score',\n",
       "       'review_text'],\n",
       "      dtype='object')"
      ]
     },
     "execution_count": 60,
     "metadata": {},
     "output_type": "execute_result"
    }
   ],
   "source": [
    "ratings_df.columns"
   ]
  },
  {
   "cell_type": "code",
   "execution_count": 61,
   "metadata": {},
   "outputs": [
    {
     "data": {
      "text/plain": [
       "(2999992, 6)"
      ]
     },
     "execution_count": 61,
     "metadata": {},
     "output_type": "execute_result"
    }
   ],
   "source": [
    "ratings_df.shape"
   ]
  },
  {
   "cell_type": "code",
   "execution_count": 106,
   "metadata": {},
   "outputs": [
    {
     "data": {
      "text/plain": [
       "Index(['A106016KSI0YQ', 'A10T0OW97SFBB', 'A114YQ7ZT9Y1W5', 'A11DCTGTPS7M0C',\n",
       "       'A126KX6FVI4T66', 'A12A08OL0TZY0W', 'A133ZC2Z8MAIED', 'A13F2IV3ME23R',\n",
       "       'A13G1TKIKHGV3F', 'A13O359A2KX7YY',\n",
       "       ...\n",
       "       'AU7ND6NOCX9IA', 'AUEY946M1L939', 'AUHG8KSHI529U', 'AUM3YMZ0YRJE0',\n",
       "       'AUTBHG6070SL4', 'AV74NYPSKHXBU', 'AWLFVCT9128JV', 'AX54G5AL870Q8',\n",
       "       'AXSH6O4OP5L4M', 'AYT4FJYVCHYLE'],\n",
       "      dtype='object', name='User_id', length=334)"
      ]
     },
     "execution_count": 106,
     "metadata": {},
     "output_type": "execute_result"
    }
   ],
   "source": [
    "x = ratings_df.groupby('User_id').count()['review_score'] > 200\n",
    "\n",
    "considerable_users = x[x].index\n",
    "\n",
    "considerable_users"
   ]
  },
  {
   "cell_type": "code",
   "execution_count": 107,
   "metadata": {},
   "outputs": [],
   "source": [
    "filtered_rating = ratings_df[ratings_df['User_id'].isin(considerable_users)]"
   ]
  },
  {
   "cell_type": "code",
   "execution_count": 108,
   "metadata": {},
   "outputs": [
    {
     "data": {
      "text/html": [
       "<div>\n",
       "<style scoped>\n",
       "    .dataframe tbody tr th:only-of-type {\n",
       "        vertical-align: middle;\n",
       "    }\n",
       "\n",
       "    .dataframe tbody tr th {\n",
       "        vertical-align: top;\n",
       "    }\n",
       "\n",
       "    .dataframe thead th {\n",
       "        text-align: right;\n",
       "    }\n",
       "</style>\n",
       "<table border=\"1\" class=\"dataframe\">\n",
       "  <thead>\n",
       "    <tr style=\"text-align: right;\">\n",
       "      <th></th>\n",
       "      <th>book_id</th>\n",
       "      <th>title</th>\n",
       "      <th>User_id</th>\n",
       "      <th>profileName</th>\n",
       "      <th>review_score</th>\n",
       "      <th>review_text</th>\n",
       "    </tr>\n",
       "  </thead>\n",
       "  <tbody>\n",
       "    <tr>\n",
       "      <th>1</th>\n",
       "      <td>0826414346</td>\n",
       "      <td>Dr. Seuss: American Icon</td>\n",
       "      <td>A30TK6U7DNS82R</td>\n",
       "      <td>Kevin Killian</td>\n",
       "      <td>5.0</td>\n",
       "      <td>I don't care much for Dr. Seuss but after read...</td>\n",
       "    </tr>\n",
       "    <tr>\n",
       "      <th>6</th>\n",
       "      <td>0826414346</td>\n",
       "      <td>Dr. Seuss: American Icon</td>\n",
       "      <td>A14OJS0VWMOSWO</td>\n",
       "      <td>Midwest Book Review</td>\n",
       "      <td>5.0</td>\n",
       "      <td>Theodor Seuss Giesel was best known as 'Dr. Se...</td>\n",
       "    </tr>\n",
       "    <tr>\n",
       "      <th>59</th>\n",
       "      <td>0963923080</td>\n",
       "      <td>Rising Sons and Daughters: Life Among Japan's ...</td>\n",
       "      <td>A3NIQK6ZLYEP1L</td>\n",
       "      <td>Michael Valdivielso</td>\n",
       "      <td>4.0</td>\n",
       "      <td>Steven Wardell went to Japan without reading a...</td>\n",
       "    </tr>\n",
       "    <tr>\n",
       "      <th>140</th>\n",
       "      <td>0789480662</td>\n",
       "      <td>Eyewitness Travel Guide to Europe</td>\n",
       "      <td>A281NPSIMI1C2R</td>\n",
       "      <td>Rebecca of Amazon \"The Rebecca Review\"</td>\n",
       "      <td>5.0</td>\n",
       "      <td>Yes, this is one heavy book. It is more than l...</td>\n",
       "    </tr>\n",
       "    <tr>\n",
       "      <th>176</th>\n",
       "      <td>1884734766</td>\n",
       "      <td>Dealing With Disappointment: Helping Kids Cope...</td>\n",
       "      <td>A14OJS0VWMOSWO</td>\n",
       "      <td>Midwest Book Review</td>\n",
       "      <td>5.0</td>\n",
       "      <td>Written by Elizabeth Crary (a parent educator ...</td>\n",
       "    </tr>\n",
       "    <tr>\n",
       "      <th>...</th>\n",
       "      <td>...</td>\n",
       "      <td>...</td>\n",
       "      <td>...</td>\n",
       "      <td>...</td>\n",
       "      <td>...</td>\n",
       "      <td>...</td>\n",
       "    </tr>\n",
       "    <tr>\n",
       "      <th>2999935</th>\n",
       "      <td>0786182431</td>\n",
       "      <td>Very Bad Deaths: Library Edition</td>\n",
       "      <td>A2CR57GAJKNWVV</td>\n",
       "      <td>booksforabuck \"BooksForABuck\"</td>\n",
       "      <td>4.0</td>\n",
       "      <td>Russell Walker wants to be left alone to die--...</td>\n",
       "    </tr>\n",
       "    <tr>\n",
       "      <th>2999937</th>\n",
       "      <td>0786182431</td>\n",
       "      <td>Very Bad Deaths: Library Edition</td>\n",
       "      <td>A1I2O9Y3X3HXLS</td>\n",
       "      <td>Arthur W. Jordin</td>\n",
       "      <td>5.0</td>\n",
       "      <td>Very Bad Deaths (2004) is the first SF novel i...</td>\n",
       "    </tr>\n",
       "    <tr>\n",
       "      <th>2999949</th>\n",
       "      <td>0786182431</td>\n",
       "      <td>Very Bad Deaths: Library Edition</td>\n",
       "      <td>AFVQZQ8PW0L</td>\n",
       "      <td>Harriet Klausner</td>\n",
       "      <td>5.0</td>\n",
       "      <td>Fiftyish Canadian Russell Walker writes \"The F...</td>\n",
       "    </tr>\n",
       "    <tr>\n",
       "      <th>2999960</th>\n",
       "      <td>0679417052</td>\n",
       "      <td>My Life</td>\n",
       "      <td>A9Q28YTLYREO7</td>\n",
       "      <td>A customer \"mistermaxxx\"</td>\n",
       "      <td>5.0</td>\n",
       "      <td>Magic without a doubt is Something Special.He ...</td>\n",
       "    </tr>\n",
       "    <tr>\n",
       "      <th>2999979</th>\n",
       "      <td>B00085PL4C</td>\n",
       "      <td>Old Quebec,: The fortress of New France,</td>\n",
       "      <td>A32ZKBXJJ45BRY</td>\n",
       "      <td>James Gallen</td>\n",
       "      <td>3.0</td>\n",
       "      <td>\"Old Quebec: Fortress Of New France\" is a repr...</td>\n",
       "    </tr>\n",
       "  </tbody>\n",
       "</table>\n",
       "<p>134882 rows × 6 columns</p>\n",
       "</div>"
      ],
      "text/plain": [
       "            book_id                                              title  \\\n",
       "1        0826414346                           Dr. Seuss: American Icon   \n",
       "6        0826414346                           Dr. Seuss: American Icon   \n",
       "59       0963923080  Rising Sons and Daughters: Life Among Japan's ...   \n",
       "140      0789480662                  Eyewitness Travel Guide to Europe   \n",
       "176      1884734766  Dealing With Disappointment: Helping Kids Cope...   \n",
       "...             ...                                                ...   \n",
       "2999935  0786182431                   Very Bad Deaths: Library Edition   \n",
       "2999937  0786182431                   Very Bad Deaths: Library Edition   \n",
       "2999949  0786182431                   Very Bad Deaths: Library Edition   \n",
       "2999960  0679417052                                            My Life   \n",
       "2999979  B00085PL4C           Old Quebec,: The fortress of New France,   \n",
       "\n",
       "                User_id                             profileName  review_score  \\\n",
       "1        A30TK6U7DNS82R                           Kevin Killian           5.0   \n",
       "6        A14OJS0VWMOSWO                     Midwest Book Review           5.0   \n",
       "59       A3NIQK6ZLYEP1L                     Michael Valdivielso           4.0   \n",
       "140      A281NPSIMI1C2R  Rebecca of Amazon \"The Rebecca Review\"           5.0   \n",
       "176      A14OJS0VWMOSWO                     Midwest Book Review           5.0   \n",
       "...                 ...                                     ...           ...   \n",
       "2999935  A2CR57GAJKNWVV           booksforabuck \"BooksForABuck\"           4.0   \n",
       "2999937  A1I2O9Y3X3HXLS                        Arthur W. Jordin           5.0   \n",
       "2999949     AFVQZQ8PW0L                        Harriet Klausner           5.0   \n",
       "2999960   A9Q28YTLYREO7                A customer \"mistermaxxx\"           5.0   \n",
       "2999979  A32ZKBXJJ45BRY                            James Gallen           3.0   \n",
       "\n",
       "                                               review_text  \n",
       "1        I don't care much for Dr. Seuss but after read...  \n",
       "6        Theodor Seuss Giesel was best known as 'Dr. Se...  \n",
       "59       Steven Wardell went to Japan without reading a...  \n",
       "140      Yes, this is one heavy book. It is more than l...  \n",
       "176      Written by Elizabeth Crary (a parent educator ...  \n",
       "...                                                    ...  \n",
       "2999935  Russell Walker wants to be left alone to die--...  \n",
       "2999937  Very Bad Deaths (2004) is the first SF novel i...  \n",
       "2999949  Fiftyish Canadian Russell Walker writes \"The F...  \n",
       "2999960  Magic without a doubt is Something Special.He ...  \n",
       "2999979  \"Old Quebec: Fortress Of New France\" is a repr...  \n",
       "\n",
       "[134882 rows x 6 columns]"
      ]
     },
     "execution_count": 108,
     "metadata": {},
     "output_type": "execute_result"
    }
   ],
   "source": [
    "filtered_rating"
   ]
  },
  {
   "cell_type": "code",
   "execution_count": 109,
   "metadata": {},
   "outputs": [
    {
     "data": {
      "text/plain": [
       "Index(['1984', 'A Connecticut Yankee in King Arthur's Court',\n",
       "       'A Farewell to Arms', 'A Journey to the Center of the Earth',\n",
       "       'A Portrait of the Artist as a Young Man', 'A Princess of Mars',\n",
       "       'A Tree Grows in Brooklyn',\n",
       "       'ANIMAL FARM - A Fairy Story (Time Reading Program Special Edition)',\n",
       "       'Adventures of Huckleberry Finn', 'Alice's Adventures in Wonderland',\n",
       "       ...\n",
       "       'To Kill a Mocking Bird', 'To Kill a Mockingbird',\n",
       "       'To kill a mockingbird', 'Treasure Island',\n",
       "       'Twenty Thousand Leagues Under the Sea', 'Ulysses', 'Ulysses,',\n",
       "       'Ulysses.', 'Wuthering Heights', 'Wuthering Heights (Signet classics)'],\n",
       "      dtype='object', name='title', length=115)"
      ]
     },
     "execution_count": 109,
     "metadata": {},
     "output_type": "execute_result"
    }
   ],
   "source": [
    "y = filtered_rating.groupby('title').count()['review_score']>=60\n",
    "famous_books = y[y].index\n",
    "famous_books"
   ]
  },
  {
   "cell_type": "code",
   "execution_count": 110,
   "metadata": {},
   "outputs": [],
   "source": [
    "final_ratings = filtered_rating[filtered_rating['title'].isin(famous_books)]"
   ]
  },
  {
   "cell_type": "code",
   "execution_count": 111,
   "metadata": {},
   "outputs": [
    {
     "data": {
      "text/html": [
       "<div>\n",
       "<style scoped>\n",
       "    .dataframe tbody tr th:only-of-type {\n",
       "        vertical-align: middle;\n",
       "    }\n",
       "\n",
       "    .dataframe tbody tr th {\n",
       "        vertical-align: top;\n",
       "    }\n",
       "\n",
       "    .dataframe thead th {\n",
       "        text-align: right;\n",
       "    }\n",
       "</style>\n",
       "<table border=\"1\" class=\"dataframe\">\n",
       "  <thead>\n",
       "    <tr style=\"text-align: right;\">\n",
       "      <th></th>\n",
       "      <th>Id</th>\n",
       "      <th>book_id</th>\n",
       "      <th>title</th>\n",
       "      <th>User_id</th>\n",
       "      <th>profileName</th>\n",
       "      <th>review_score</th>\n",
       "      <th>review_text</th>\n",
       "    </tr>\n",
       "  </thead>\n",
       "  <tbody>\n",
       "    <tr>\n",
       "      <th>0</th>\n",
       "      <td>1747</td>\n",
       "      <td>B000N6DDJQ</td>\n",
       "      <td>The Scarlet Letter A Romance</td>\n",
       "      <td>AUM3YMZ0YRJE0</td>\n",
       "      <td>Robert J. Crawford</td>\n",
       "      <td>5.0</td>\n",
       "      <td>WHen I finally started reading this classic, I...</td>\n",
       "    </tr>\n",
       "    <tr>\n",
       "      <th>1</th>\n",
       "      <td>1807</td>\n",
       "      <td>B000N6DDJQ</td>\n",
       "      <td>The Scarlet Letter A Romance</td>\n",
       "      <td>AMKZHBOK7VMQR</td>\n",
       "      <td>R. J. Marsella</td>\n",
       "      <td>5.0</td>\n",
       "      <td>Hawthorne wrote a masterful work of historical...</td>\n",
       "    </tr>\n",
       "    <tr>\n",
       "      <th>2</th>\n",
       "      <td>1820</td>\n",
       "      <td>B000N6DDJQ</td>\n",
       "      <td>The Scarlet Letter A Romance</td>\n",
       "      <td>AWLFVCT9128JV</td>\n",
       "      <td>Dave_42 \"Dave_42\"</td>\n",
       "      <td>4.0</td>\n",
       "      <td>I don't suppose anything can ruin a book more ...</td>\n",
       "    </tr>\n",
       "    <tr>\n",
       "      <th>3</th>\n",
       "      <td>1829</td>\n",
       "      <td>B000N6DDJQ</td>\n",
       "      <td>The Scarlet Letter A Romance</td>\n",
       "      <td>ABN5K7K1TM1QA</td>\n",
       "      <td>Dennis Littrell</td>\n",
       "      <td>5.0</td>\n",
       "      <td>\"All have sinned and fall short of the glory o...</td>\n",
       "    </tr>\n",
       "    <tr>\n",
       "      <th>4</th>\n",
       "      <td>1830</td>\n",
       "      <td>B000N6DDJQ</td>\n",
       "      <td>The Scarlet Letter A Romance</td>\n",
       "      <td>A3IKBHODOTYYHM</td>\n",
       "      <td>fra7299 \"fra7299\"</td>\n",
       "      <td>4.0</td>\n",
       "      <td>I think the many readers who were forced to pa...</td>\n",
       "    </tr>\n",
       "    <tr>\n",
       "      <th>...</th>\n",
       "      <td>...</td>\n",
       "      <td>...</td>\n",
       "      <td>...</td>\n",
       "      <td>...</td>\n",
       "      <td>...</td>\n",
       "      <td>...</td>\n",
       "      <td>...</td>\n",
       "    </tr>\n",
       "    <tr>\n",
       "      <th>13837</th>\n",
       "      <td>2999633</td>\n",
       "      <td>B000P91JYW</td>\n",
       "      <td>Jane Eyre</td>\n",
       "      <td>A1D2C0WDCSHUWZ</td>\n",
       "      <td>E. A Solinas \"ea_solinas\"</td>\n",
       "      <td>5.0</td>\n",
       "      <td>It's hard to imagine a better gothic romance t...</td>\n",
       "    </tr>\n",
       "    <tr>\n",
       "      <th>13838</th>\n",
       "      <td>2999638</td>\n",
       "      <td>B000P91JYW</td>\n",
       "      <td>Jane Eyre</td>\n",
       "      <td>AHUT55E980RDR</td>\n",
       "      <td>Neal C. Reynolds</td>\n",
       "      <td>4.0</td>\n",
       "      <td>I gather this is required reading at a lot of ...</td>\n",
       "    </tr>\n",
       "    <tr>\n",
       "      <th>13839</th>\n",
       "      <td>2999641</td>\n",
       "      <td>B000P91JYW</td>\n",
       "      <td>Jane Eyre</td>\n",
       "      <td>A1T17LMQABMBN5</td>\n",
       "      <td>CoffeeGurl</td>\n",
       "      <td>5.0</td>\n",
       "      <td>Charlotte Bronte created quite an admirable he...</td>\n",
       "    </tr>\n",
       "    <tr>\n",
       "      <th>13840</th>\n",
       "      <td>2999646</td>\n",
       "      <td>B000P91JYW</td>\n",
       "      <td>Jane Eyre</td>\n",
       "      <td>AJQ1S39GZBKUG</td>\n",
       "      <td>A. T. A. Oliveira \"A. T. A. Oliveira\"</td>\n",
       "      <td>5.0</td>\n",
       "      <td>Concerning on English classic novels `Jane Eyr...</td>\n",
       "    </tr>\n",
       "    <tr>\n",
       "      <th>13841</th>\n",
       "      <td>2999664</td>\n",
       "      <td>B000P91JYW</td>\n",
       "      <td>Jane Eyre</td>\n",
       "      <td>AQCQ5F0OJXMG9</td>\n",
       "      <td>Crystal Starr Light</td>\n",
       "      <td>5.0</td>\n",
       "      <td>\"I need not sell my soul to buy bliss\"Jane Eyr...</td>\n",
       "    </tr>\n",
       "  </tbody>\n",
       "</table>\n",
       "<p>13842 rows × 7 columns</p>\n",
       "</div>"
      ],
      "text/plain": [
       "            Id     book_id                         title         User_id  \\\n",
       "0         1747  B000N6DDJQ  The Scarlet Letter A Romance   AUM3YMZ0YRJE0   \n",
       "1         1807  B000N6DDJQ  The Scarlet Letter A Romance   AMKZHBOK7VMQR   \n",
       "2         1820  B000N6DDJQ  The Scarlet Letter A Romance   AWLFVCT9128JV   \n",
       "3         1829  B000N6DDJQ  The Scarlet Letter A Romance   ABN5K7K1TM1QA   \n",
       "4         1830  B000N6DDJQ  The Scarlet Letter A Romance  A3IKBHODOTYYHM   \n",
       "...        ...         ...                           ...             ...   \n",
       "13837  2999633  B000P91JYW                     Jane Eyre  A1D2C0WDCSHUWZ   \n",
       "13838  2999638  B000P91JYW                     Jane Eyre   AHUT55E980RDR   \n",
       "13839  2999641  B000P91JYW                     Jane Eyre  A1T17LMQABMBN5   \n",
       "13840  2999646  B000P91JYW                     Jane Eyre   AJQ1S39GZBKUG   \n",
       "13841  2999664  B000P91JYW                     Jane Eyre   AQCQ5F0OJXMG9   \n",
       "\n",
       "                                 profileName  review_score  \\\n",
       "0                         Robert J. Crawford           5.0   \n",
       "1                             R. J. Marsella           5.0   \n",
       "2                          Dave_42 \"Dave_42\"           4.0   \n",
       "3                            Dennis Littrell           5.0   \n",
       "4                          fra7299 \"fra7299\"           4.0   \n",
       "...                                      ...           ...   \n",
       "13837              E. A Solinas \"ea_solinas\"           5.0   \n",
       "13838                       Neal C. Reynolds           4.0   \n",
       "13839                             CoffeeGurl           5.0   \n",
       "13840  A. T. A. Oliveira \"A. T. A. Oliveira\"           5.0   \n",
       "13841                    Crystal Starr Light           5.0   \n",
       "\n",
       "                                             review_text  \n",
       "0      WHen I finally started reading this classic, I...  \n",
       "1      Hawthorne wrote a masterful work of historical...  \n",
       "2      I don't suppose anything can ruin a book more ...  \n",
       "3      \"All have sinned and fall short of the glory o...  \n",
       "4      I think the many readers who were forced to pa...  \n",
       "...                                                  ...  \n",
       "13837  It's hard to imagine a better gothic romance t...  \n",
       "13838  I gather this is required reading at a lot of ...  \n",
       "13839  Charlotte Bronte created quite an admirable he...  \n",
       "13840  Concerning on English classic novels `Jane Eyr...  \n",
       "13841  \"I need not sell my soul to buy bliss\"Jane Eyr...  \n",
       "\n",
       "[13842 rows x 7 columns]"
      ]
     },
     "execution_count": 111,
     "metadata": {},
     "output_type": "execute_result"
    }
   ],
   "source": [
    "# Necessary for Sentiment analysis myid\n",
    "final_ratings = final_ratings.reset_index().rename(columns={'index':'Id'})\n",
    "final_ratings"
   ]
  },
  {
   "cell_type": "code",
   "execution_count": 144,
   "metadata": {},
   "outputs": [
    {
     "data": {
      "text/plain": [
       "Id              False\n",
       "book_id         False\n",
       "title           False\n",
       "User_id         False\n",
       "profileName     False\n",
       "review_score    False\n",
       "review_text     False\n",
       "dtype: bool"
      ]
     },
     "execution_count": 144,
     "metadata": {},
     "output_type": "execute_result"
    }
   ],
   "source": [
    "final_ratings.isnull().any()"
   ]
  },
  {
   "cell_type": "code",
   "execution_count": null,
   "metadata": {},
   "outputs": [],
   "source": []
  },
  {
   "cell_type": "code",
   "execution_count": 149,
   "metadata": {},
   "outputs": [],
   "source": [
    "filtered_books_data = books_data[books_data['Title'].isin(famous_books)]"
   ]
  },
  {
   "cell_type": "code",
   "execution_count": 154,
   "metadata": {},
   "outputs": [
    {
     "name": "stderr",
     "output_type": "stream",
     "text": [
      "C:\\Users\\adria\\AppData\\Local\\Temp\\ipykernel_29096\\2553439007.py:1: SettingWithCopyWarning: \n",
      "A value is trying to be set on a copy of a slice from a DataFrame\n",
      "\n",
      "See the caveats in the documentation: https://pandas.pydata.org/pandas-docs/stable/user_guide/indexing.html#returning-a-view-versus-a-copy\n",
      "  filtered_books_data.rename(columns={'review/score': 'review_score','Title':'title', 'categories':'genre'}, inplace=True)\n"
     ]
    }
   ],
   "source": [
    "filtered_books_data.rename(columns={'review/score': 'review_score','Title':'title', 'categories':'genre'}, inplace=True)"
   ]
  },
  {
   "cell_type": "code",
   "execution_count": 155,
   "metadata": {},
   "outputs": [
    {
     "name": "stderr",
     "output_type": "stream",
     "text": [
      "C:\\Users\\adria\\AppData\\Local\\Temp\\ipykernel_29096\\4140544486.py:1: SettingWithCopyWarning: \n",
      "A value is trying to be set on a copy of a slice from a DataFrame.\n",
      "Try using .loc[row_indexer,col_indexer] = value instead\n",
      "\n",
      "See the caveats in the documentation: https://pandas.pydata.org/pandas-docs/stable/user_guide/indexing.html#returning-a-view-versus-a-copy\n",
      "  filtered_books_data['authors'] = filtered_books_data['authors'].str.strip(\"[]\").str.replace(\"'\", \"\")\n",
      "C:\\Users\\adria\\AppData\\Local\\Temp\\ipykernel_29096\\4140544486.py:2: SettingWithCopyWarning: \n",
      "A value is trying to be set on a copy of a slice from a DataFrame.\n",
      "Try using .loc[row_indexer,col_indexer] = value instead\n",
      "\n",
      "See the caveats in the documentation: https://pandas.pydata.org/pandas-docs/stable/user_guide/indexing.html#returning-a-view-versus-a-copy\n",
      "  filtered_books_data['genre'] = filtered_books_data['genre'].str.strip(\"[]\").str.replace(\"'\", \"\")\n"
     ]
    }
   ],
   "source": [
    "filtered_books_data['authors'] = filtered_books_data['authors'].str.strip(\"[]\").str.replace(\"'\", \"\")\n",
    "filtered_books_data['genre'] = filtered_books_data['genre'].str.strip(\"[]\").str.replace(\"'\", \"\")"
   ]
  },
  {
   "cell_type": "code",
   "execution_count": 158,
   "metadata": {},
   "outputs": [],
   "source": [
    "filtered_books_data = filtered_books_data.drop('ratingsCount', axis=1)"
   ]
  },
  {
   "cell_type": "code",
   "execution_count": 171,
   "metadata": {},
   "outputs": [
    {
     "data": {
      "text/plain": [
       "book_id           0\n",
       "title             0\n",
       "description      16\n",
       "authors          10\n",
       "image            16\n",
       "previewLink       8\n",
       "publisher        24\n",
       "publishedDate     9\n",
       "infoLink          8\n",
       "genre            26\n",
       "dtype: int64"
      ]
     },
     "execution_count": 171,
     "metadata": {},
     "output_type": "execute_result"
    }
   ],
   "source": [
    "filtered_books_data.isnull().sum()"
   ]
  },
  {
   "cell_type": "code",
   "execution_count": 164,
   "metadata": {},
   "outputs": [],
   "source": [
    "merged_df = pd.merge(final_ratings[['book_id', 'title']],filtered_books_data, on='title', how='inner')\n"
   ]
  },
  {
   "cell_type": "code",
   "execution_count": 168,
   "metadata": {},
   "outputs": [
    {
     "data": {
      "text/html": [
       "<div>\n",
       "<style scoped>\n",
       "    .dataframe tbody tr th:only-of-type {\n",
       "        vertical-align: middle;\n",
       "    }\n",
       "\n",
       "    .dataframe tbody tr th {\n",
       "        vertical-align: top;\n",
       "    }\n",
       "\n",
       "    .dataframe thead th {\n",
       "        text-align: right;\n",
       "    }\n",
       "</style>\n",
       "<table border=\"1\" class=\"dataframe\">\n",
       "  <thead>\n",
       "    <tr style=\"text-align: right;\">\n",
       "      <th></th>\n",
       "      <th>book_id</th>\n",
       "      <th>title</th>\n",
       "      <th>description</th>\n",
       "      <th>authors</th>\n",
       "      <th>image</th>\n",
       "      <th>previewLink</th>\n",
       "      <th>publisher</th>\n",
       "      <th>publishedDate</th>\n",
       "      <th>infoLink</th>\n",
       "      <th>genre</th>\n",
       "    </tr>\n",
       "  </thead>\n",
       "  <tbody>\n",
       "    <tr>\n",
       "      <th>0</th>\n",
       "      <td>B000N6DDJQ</td>\n",
       "      <td>The Scarlet Letter A Romance</td>\n",
       "      <td>None</td>\n",
       "      <td>None</td>\n",
       "      <td>None</td>\n",
       "      <td>None</td>\n",
       "      <td>None</td>\n",
       "      <td>None</td>\n",
       "      <td>None</td>\n",
       "      <td>None</td>\n",
       "    </tr>\n",
       "    <tr>\n",
       "      <th>237</th>\n",
       "      <td>B000PBZH5M</td>\n",
       "      <td>Foundation</td>\n",
       "      <td>Voor trainers is er gratis extra materiaal bij...</td>\n",
       "      <td>K. Louwman, Willem Kromkamp</td>\n",
       "      <td>http://books.google.com/books/content?id=GGNeA...</td>\n",
       "      <td>http://books.google.nl/books?id=GGNeAgAAQBAJ&amp;p...</td>\n",
       "      <td>Van Haren</td>\n",
       "      <td>2012-01-01</td>\n",
       "      <td>http://books.google.nl/books?id=GGNeAgAAQBAJ&amp;d...</td>\n",
       "      <td>Education</td>\n",
       "    </tr>\n",
       "    <tr>\n",
       "      <th>360</th>\n",
       "      <td>1588550311</td>\n",
       "      <td>Romeo and Juliet</td>\n",
       "      <td>None</td>\n",
       "      <td>William Shakespeare</td>\n",
       "      <td>http://books.google.com/books/content?id=6rhaA...</td>\n",
       "      <td>http://books.google.nl/books?id=6rhaAAAAcAAJ&amp;p...</td>\n",
       "      <td>None</td>\n",
       "      <td>1734</td>\n",
       "      <td>https://play.google.com/store/books/details?id...</td>\n",
       "      <td>None</td>\n",
       "    </tr>\n",
       "    <tr>\n",
       "      <th>420</th>\n",
       "      <td>158855032X</td>\n",
       "      <td>Hard Times</td>\n",
       "      <td>Considered Dickens' harshest indictment of mid...</td>\n",
       "      <td>Charles Dickens</td>\n",
       "      <td>http://books.google.com/books/content?id=_feeD...</td>\n",
       "      <td>http://books.google.nl/books?id=_feeDgAAQBAJ&amp;p...</td>\n",
       "      <td>Lulu.com</td>\n",
       "      <td>2017-03-09</td>\n",
       "      <td>http://books.google.nl/books?id=_feeDgAAQBAJ&amp;d...</td>\n",
       "      <td>Fiction</td>\n",
       "    </tr>\n",
       "    <tr>\n",
       "      <th>484</th>\n",
       "      <td>9562910334</td>\n",
       "      <td>1984</td>\n",
       "      <td>Nieuwspraak, Big Brother, het vocabulaire uit ...</td>\n",
       "      <td>George Orwell</td>\n",
       "      <td>http://books.google.com/books/content?id=gTx1A...</td>\n",
       "      <td>http://books.google.nl/books?id=gTx1AAAAQBAJ&amp;p...</td>\n",
       "      <td>Singel Uitgeverijen</td>\n",
       "      <td>2013-05-16</td>\n",
       "      <td>https://play.google.com/store/books/details?id...</td>\n",
       "      <td>Fiction</td>\n",
       "    </tr>\n",
       "    <tr>\n",
       "      <th>...</th>\n",
       "      <td>...</td>\n",
       "      <td>...</td>\n",
       "      <td>...</td>\n",
       "      <td>...</td>\n",
       "      <td>...</td>\n",
       "      <td>...</td>\n",
       "      <td>...</td>\n",
       "      <td>...</td>\n",
       "      <td>...</td>\n",
       "      <td>...</td>\n",
       "    </tr>\n",
       "    <tr>\n",
       "      <th>13498</th>\n",
       "      <td>B000FC2QGE</td>\n",
       "      <td>Blink: The Power of Thinking Without Thinking</td>\n",
       "      <td>From the #1 bestselling author of The Bomber M...</td>\n",
       "      <td>Malcolm Gladwell</td>\n",
       "      <td>http://books.google.com/books/content?id=VKGbb...</td>\n",
       "      <td>http://books.google.com/books?id=VKGbb1hg8JAC&amp;...</td>\n",
       "      <td>Back Bay Books</td>\n",
       "      <td>2007-04-03</td>\n",
       "      <td>https://play.google.com/store/books/details?id...</td>\n",
       "      <td>Business &amp; Economics</td>\n",
       "    </tr>\n",
       "    <tr>\n",
       "      <th>13564</th>\n",
       "      <td>B000JQXNSQ</td>\n",
       "      <td>ANIMAL FARM - A Fairy Story (Time Reading Prog...</td>\n",
       "      <td>None</td>\n",
       "      <td>Gillian Fenwick</td>\n",
       "      <td>http://books.google.com/books/content?id=3q5FA...</td>\n",
       "      <td>http://books.google.com/books?id=3q5FAQAAIAAJ&amp;...</td>\n",
       "      <td>Oak Knoll Press</td>\n",
       "      <td>1998</td>\n",
       "      <td>http://books.google.com/books?id=3q5FAQAAIAAJ&amp;...</td>\n",
       "      <td>Biography &amp; Autobiography</td>\n",
       "    </tr>\n",
       "    <tr>\n",
       "      <th>13624</th>\n",
       "      <td>0140860428</td>\n",
       "      <td>Jane Eyre (Penguin Classics)</td>\n",
       "      <td>An iconic novel dressed in a fierce design by ...</td>\n",
       "      <td>Charlotte Bronte</td>\n",
       "      <td>http://books.google.com/books/content?id=9Kc_D...</td>\n",
       "      <td>http://books.google.com/books?id=9Kc_DwAAQBAJ&amp;...</td>\n",
       "      <td>Penguin</td>\n",
       "      <td>2010-11-30</td>\n",
       "      <td>http://books.google.com/books?id=9Kc_DwAAQBAJ&amp;...</td>\n",
       "      <td>Fiction</td>\n",
       "    </tr>\n",
       "    <tr>\n",
       "      <th>13691</th>\n",
       "      <td>B000EHHOVC</td>\n",
       "      <td>Animal Farm</td>\n",
       "      <td>None</td>\n",
       "      <td>None</td>\n",
       "      <td>None</td>\n",
       "      <td>None</td>\n",
       "      <td>None</td>\n",
       "      <td>None</td>\n",
       "      <td>None</td>\n",
       "      <td>None</td>\n",
       "    </tr>\n",
       "    <tr>\n",
       "      <th>13751</th>\n",
       "      <td>B000Q032UY</td>\n",
       "      <td>The Hobbit or There and Back Again</td>\n",
       "      <td>Celebrating 75 years of one of the world's mos...</td>\n",
       "      <td>J. R. R. Tolkien</td>\n",
       "      <td>http://books.google.com/books/content?id=LLSpn...</td>\n",
       "      <td>http://books.google.nl/books?id=LLSpngEACAAJ&amp;d...</td>\n",
       "      <td>Mariner Books</td>\n",
       "      <td>2012</td>\n",
       "      <td>http://books.google.nl/books?id=LLSpngEACAAJ&amp;d...</td>\n",
       "      <td>Juvenile Fiction</td>\n",
       "    </tr>\n",
       "  </tbody>\n",
       "</table>\n",
       "<p>115 rows × 10 columns</p>\n",
       "</div>"
      ],
      "text/plain": [
       "          book_id                                              title  \\\n",
       "0      B000N6DDJQ                       The Scarlet Letter A Romance   \n",
       "237    B000PBZH5M                                         Foundation   \n",
       "360    1588550311                                   Romeo and Juliet   \n",
       "420    158855032X                                         Hard Times   \n",
       "484    9562910334                                               1984   \n",
       "...           ...                                                ...   \n",
       "13498  B000FC2QGE      Blink: The Power of Thinking Without Thinking   \n",
       "13564  B000JQXNSQ  ANIMAL FARM - A Fairy Story (Time Reading Prog...   \n",
       "13624  0140860428                       Jane Eyre (Penguin Classics)   \n",
       "13691  B000EHHOVC                                        Animal Farm   \n",
       "13751  B000Q032UY                 The Hobbit or There and Back Again   \n",
       "\n",
       "                                             description  \\\n",
       "0                                                   None   \n",
       "237    Voor trainers is er gratis extra materiaal bij...   \n",
       "360                                                 None   \n",
       "420    Considered Dickens' harshest indictment of mid...   \n",
       "484    Nieuwspraak, Big Brother, het vocabulaire uit ...   \n",
       "...                                                  ...   \n",
       "13498  From the #1 bestselling author of The Bomber M...   \n",
       "13564                                               None   \n",
       "13624  An iconic novel dressed in a fierce design by ...   \n",
       "13691                                               None   \n",
       "13751  Celebrating 75 years of one of the world's mos...   \n",
       "\n",
       "                           authors  \\\n",
       "0                             None   \n",
       "237    K. Louwman, Willem Kromkamp   \n",
       "360            William Shakespeare   \n",
       "420                Charles Dickens   \n",
       "484                  George Orwell   \n",
       "...                            ...   \n",
       "13498             Malcolm Gladwell   \n",
       "13564              Gillian Fenwick   \n",
       "13624             Charlotte Bronte   \n",
       "13691                         None   \n",
       "13751             J. R. R. Tolkien   \n",
       "\n",
       "                                                   image  \\\n",
       "0                                                   None   \n",
       "237    http://books.google.com/books/content?id=GGNeA...   \n",
       "360    http://books.google.com/books/content?id=6rhaA...   \n",
       "420    http://books.google.com/books/content?id=_feeD...   \n",
       "484    http://books.google.com/books/content?id=gTx1A...   \n",
       "...                                                  ...   \n",
       "13498  http://books.google.com/books/content?id=VKGbb...   \n",
       "13564  http://books.google.com/books/content?id=3q5FA...   \n",
       "13624  http://books.google.com/books/content?id=9Kc_D...   \n",
       "13691                                               None   \n",
       "13751  http://books.google.com/books/content?id=LLSpn...   \n",
       "\n",
       "                                             previewLink            publisher  \\\n",
       "0                                                   None                 None   \n",
       "237    http://books.google.nl/books?id=GGNeAgAAQBAJ&p...            Van Haren   \n",
       "360    http://books.google.nl/books?id=6rhaAAAAcAAJ&p...                 None   \n",
       "420    http://books.google.nl/books?id=_feeDgAAQBAJ&p...             Lulu.com   \n",
       "484    http://books.google.nl/books?id=gTx1AAAAQBAJ&p...  Singel Uitgeverijen   \n",
       "...                                                  ...                  ...   \n",
       "13498  http://books.google.com/books?id=VKGbb1hg8JAC&...       Back Bay Books   \n",
       "13564  http://books.google.com/books?id=3q5FAQAAIAAJ&...      Oak Knoll Press   \n",
       "13624  http://books.google.com/books?id=9Kc_DwAAQBAJ&...              Penguin   \n",
       "13691                                               None                 None   \n",
       "13751  http://books.google.nl/books?id=LLSpngEACAAJ&d...        Mariner Books   \n",
       "\n",
       "      publishedDate                                           infoLink  \\\n",
       "0              None                                               None   \n",
       "237      2012-01-01  http://books.google.nl/books?id=GGNeAgAAQBAJ&d...   \n",
       "360            1734  https://play.google.com/store/books/details?id...   \n",
       "420      2017-03-09  http://books.google.nl/books?id=_feeDgAAQBAJ&d...   \n",
       "484      2013-05-16  https://play.google.com/store/books/details?id...   \n",
       "...             ...                                                ...   \n",
       "13498    2007-04-03  https://play.google.com/store/books/details?id...   \n",
       "13564          1998  http://books.google.com/books?id=3q5FAQAAIAAJ&...   \n",
       "13624    2010-11-30  http://books.google.com/books?id=9Kc_DwAAQBAJ&...   \n",
       "13691          None                                               None   \n",
       "13751          2012  http://books.google.nl/books?id=LLSpngEACAAJ&d...   \n",
       "\n",
       "                           genre  \n",
       "0                           None  \n",
       "237                    Education  \n",
       "360                         None  \n",
       "420                      Fiction  \n",
       "484                      Fiction  \n",
       "...                          ...  \n",
       "13498       Business & Economics  \n",
       "13564  Biography & Autobiography  \n",
       "13624                    Fiction  \n",
       "13691                       None  \n",
       "13751           Juvenile Fiction  \n",
       "\n",
       "[115 rows x 10 columns]"
      ]
     },
     "execution_count": 168,
     "metadata": {},
     "output_type": "execute_result"
    }
   ],
   "source": [
    "result_df = merged_df.drop_duplicates(subset='title')\n",
    "result_df"
   ]
  },
  {
   "cell_type": "code",
   "execution_count": 169,
   "metadata": {},
   "outputs": [],
   "source": [
    "filtered_books_data = result_df"
   ]
  },
  {
   "cell_type": "code",
   "execution_count": 170,
   "metadata": {},
   "outputs": [],
   "source": [
    "filtered_books_data.to_parquet('C:/Users/adria/Documents/Projects/Books/Resources/DataFrames/filtered_books_data115.parquet',index=False)"
   ]
  },
  {
   "cell_type": "markdown",
   "metadata": {},
   "source": [
    "# Step1. VADER Sentiment Scoring"
   ]
  },
  {
   "cell_type": "code",
   "execution_count": null,
   "metadata": {},
   "outputs": [],
   "source": [
    "# // TODO: Add tokenizer for nltk"
   ]
  },
  {
   "cell_type": "code",
   "execution_count": null,
   "metadata": {},
   "outputs": [],
   "source": [
    "from nltk.sentiment.vader import SentimentIntensityAnalyzer\n",
    "from tqdm import tqdm\n",
    "\n",
    "sia = SentimentIntensityAnalyzer()\n"
   ]
  },
  {
   "cell_type": "code",
   "execution_count": null,
   "metadata": {},
   "outputs": [
    {
     "data": {
      "text/plain": [
       "{'neg': 0.0, 'neu': 0.192, 'pos': 0.808, 'compound': 0.6369}"
      ]
     },
     "execution_count": 7,
     "metadata": {},
     "output_type": "execute_result"
    }
   ],
   "source": [
    "sia.polarity_scores(\"I love ronaldo\")"
   ]
  },
  {
   "cell_type": "code",
   "execution_count": null,
   "metadata": {},
   "outputs": [
    {
     "name": "stderr",
     "output_type": "stream",
     "text": [
      "100%|██████████| 2999992/2999992 [1:59:41<00:00, 417.75it/s]  \n"
     ]
    }
   ],
   "source": [
    "# Run the polarity score on the ratings_df dataset\n",
    "ratings_results_dict = {}\n",
    "\n",
    "for i, row in tqdm(ratings_df.iterrows(), total=len(ratings_df)):\n",
    "    text = row['review_text']\n",
    "    myid = row['Id']\n",
    "    ratings_results_dict[myid] = sia.polarity_scores(text)"
   ]
  },
  {
   "cell_type": "code",
   "execution_count": null,
   "metadata": {},
   "outputs": [],
   "source": [
    "ratings_results_dict"
   ]
  },
  {
   "cell_type": "code",
   "execution_count": null,
   "metadata": {},
   "outputs": [
    {
     "name": "stderr",
     "output_type": "stream",
     "text": [
      "\n",
      "KeyboardInterrupt\n",
      "\n"
     ]
    }
   ],
   "source": [
    "\n",
    "vaders = pd.DataFrame(ratings_results_dict).T\n",
    "vaders.reset_index().rename(columns={'index':'Id'})\n",
    "vaders = vaders.merge(ratings_df, how='left')"
   ]
  },
  {
   "cell_type": "markdown",
   "metadata": {},
   "source": [
    "# Step2. Roberta "
   ]
  },
  {
   "cell_type": "code",
   "execution_count": null,
   "metadata": {},
   "outputs": [],
   "source": [
    "from transformers import AutoTokenizer\n",
    "from transformers import AutoModelForSequenceClassification\n",
    "from scipy.special import softmax"
   ]
  },
  {
   "cell_type": "code",
   "execution_count": null,
   "metadata": {},
   "outputs": [
    {
     "data": {
      "application/vnd.jupyter.widget-view+json": {
       "model_id": "f8a4ca06a5494d68a1f00a39860f7ca4",
       "version_major": 2,
       "version_minor": 0
      },
      "text/plain": [
       "pytorch_model.bin:   0%|          | 0.00/499M [00:00<?, ?B/s]"
      ]
     },
     "metadata": {},
     "output_type": "display_data"
    },
    {
     "name": "stderr",
     "output_type": "stream",
     "text": [
      "c:\\Users\\adria\\anaconda3\\envs\\python_base\\lib\\site-packages\\huggingface_hub\\file_download.py:147: UserWarning: `huggingface_hub` cache-system uses symlinks by default to efficiently store duplicated files but your machine does not support them in C:\\Users\\adria\\.cache\\huggingface\\hub. Caching files will still work but in a degraded version that might require more space on your disk. This warning can be disabled by setting the `HF_HUB_DISABLE_SYMLINKS_WARNING` environment variable. For more details, see https://huggingface.co/docs/huggingface_hub/how-to-cache#limitations.\n",
      "To support symlinks on Windows, you either need to activate Developer Mode or to run Python as an administrator. In order to see activate developer mode, see this article: https://docs.microsoft.com/en-us/windows/apps/get-started/enable-your-device-for-development\n",
      "  warnings.warn(message)\n"
     ]
    }
   ],
   "source": [
    "MODEL = f\"cardiffnlp/twitter-roberta-base-sentiment\"\n",
    "tokenizer = AutoTokenizer.from_pretrained(MODEL)\n",
    "model = AutoModelForSequenceClassification.from_pretrained(MODEL)"
   ]
  },
  {
   "cell_type": "code",
   "execution_count": null,
   "metadata": {},
   "outputs": [],
   "source": [
    "# Encoding the text\n",
    "def polarity_scores_roberta(example):\n",
    "    # example = 'I like it a lot, haha its a lie'\n",
    "\n",
    "    encoded_text = tokenizer(example, return_tensors='pt', padding='max_length', truncation=True, max_length=512)\n",
    "    output = model(**encoded_text)\n",
    "    scores = output[0][0].detach().numpy()\n",
    "    scores = softmax(scores)\n",
    "    scores_dict = {\n",
    "        'roberta_neg' : scores[0],\n",
    "        'roberta_neu' : scores[1],\n",
    "        'roberta_pos' : scores[2],\n",
    "    }\n",
    "    return scores_dict"
   ]
  },
  {
   "cell_type": "code",
   "execution_count": null,
   "metadata": {},
   "outputs": [],
   "source": [
    "res = {}\n",
    "\n",
    "for i, row in tqdm(final_ratings.iterrows(), total=len(final_ratings)):\n",
    "        text = row['review_text']\n",
    "        myid = row['Id']\n",
    "        roberta_result = polarity_scores_roberta(text)\n",
    "        res[myid] = roberta_result"
   ]
  },
  {
   "cell_type": "code",
   "execution_count": null,
   "metadata": {},
   "outputs": [
    {
     "data": {
      "text/plain": [
       "{'roberta_neg': 0.029945564,\n",
       " 'roberta_neu': 0.28565803,\n",
       " 'roberta_pos': 0.6843964}"
      ]
     },
     "execution_count": 24,
     "metadata": {},
     "output_type": "execute_result"
    }
   ],
   "source": [
    "roberta_result"
   ]
  },
  {
   "cell_type": "code",
   "execution_count": null,
   "metadata": {},
   "outputs": [
    {
     "data": {
      "text/plain": [
       "4.0"
      ]
     },
     "execution_count": 26,
     "metadata": {},
     "output_type": "execute_result"
    }
   ],
   "source": [
    "ratings_df.review_score.values[0]"
   ]
  },
  {
   "cell_type": "code",
   "execution_count": null,
   "metadata": {},
   "outputs": [
    {
     "data": {
      "text/plain": [
       "112"
      ]
     },
     "execution_count": 29,
     "metadata": {},
     "output_type": "execute_result"
    }
   ],
   "source": [
    "len(res)"
   ]
  },
  {
   "cell_type": "code",
   "execution_count": null,
   "metadata": {},
   "outputs": [],
   "source": []
  },
  {
   "cell_type": "markdown",
   "metadata": {},
   "source": [
    "# Step3. Distilbert Sentiment Analysis"
   ]
  },
  {
   "cell_type": "code",
   "execution_count": null,
   "metadata": {},
   "outputs": [],
   "source": [
    "import torch\n",
    "from transformers import DistilBertTokenizer, DistilBertModel\n",
    "from torch import nn\n",
    "from scipy.special import softmax"
   ]
  },
  {
   "cell_type": "code",
   "execution_count": null,
   "metadata": {},
   "outputs": [],
   "source": [
    "tokenizer = DistilBertTokenizer.from_pretrained('distilbert-base-uncased')\n",
    "model_path = 'C:/Users/adria/Documents/Projects/Books/Resources/Models/Sentiment Analysis/distiloberto_512t.bin'\n",
    "bert_model = DistilBertModel.from_pretrained('distilbert-base-uncased')"
   ]
  },
  {
   "cell_type": "code",
   "execution_count": null,
   "metadata": {},
   "outputs": [],
   "source": [
    "class SentimentClassifier(nn.Module):\n",
    "    def __init__(self, n_classes):\n",
    "        super(SentimentClassifier, self).__init__()\n",
    "        self.bert = bert_model\n",
    "        self.pre_classifier = nn.Linear(self.bert.config.hidden_size, self.bert.config.hidden_size)\n",
    "        self.dropout = nn.Dropout(p=0.3)\n",
    "        self.out = nn.Linear(self.bert.config.hidden_size, n_classes)\n",
    "\n",
    "    def forward(self, input_ids, attention_mask):\n",
    "        # Obtain the last hidden states from the DistilBert model\n",
    "        last_hidden_state = self.bert(\n",
    "            input_ids=input_ids,\n",
    "            attention_mask=attention_mask\n",
    "        )[0]  # Take the first element of the tuple which is the last_hidden_state\n",
    "\n",
    "        # Apply a linear layer and dropout\n",
    "        pooled_output = self.pre_classifier(last_hidden_state[:, 0])  # Use the first token's embeddings for pooling\n",
    "        pooled_output = nn.ReLU()(pooled_output)  # Use a ReLU activation function\n",
    "        pooled_output = self.dropout(pooled_output)\n",
    "        # Pass the output of the dropout layer to the output layer\n",
    "        return self.out(pooled_output)\n",
    "\n",
    "# Assuming we have 2 classes (positive and negative)\n",
    "model = SentimentClassifier(n_classes=2)\n",
    "model.load_state_dict(torch.load(model_path, map_location=torch.device('cpu')))\n",
    "model.eval()\n",
    "\n",
    "# Function to preprocess the text\n",
    "def preprocess(text):\n",
    "    max_len = 512\n",
    "    encoding = tokenizer.encode_plus(\n",
    "        text,\n",
    "        add_special_tokens=True,\n",
    "        max_length=max_len,\n",
    "        return_token_type_ids=False,\n",
    "        padding='max_length',\n",
    "        truncation=True,\n",
    "        return_attention_mask=True,\n",
    "        return_tensors='pt',\n",
    "    )\n",
    "    return encoding['input_ids'], encoding['attention_mask']\n",
    "\n",
    "# Prediction function\n",
    "def predict_sentiment(text):\n",
    "    input_ids, attention_mask = preprocess(text)\n",
    "    with torch.no_grad():\n",
    "        outputs = model(input_ids=input_ids, attention_mask=attention_mask)\n",
    "        # The output is logits, we need to take softmax to get probabilities\n",
    "        probs = torch.nn.functional.softmax(outputs, dim=1)\n",
    "        # Taking the class with the highest probability\n",
    "        prediction = torch.argmax(probs, dim=1)\n",
    "        return prediction.item()\n",
    "\n",
    "\n"
   ]
  },
  {
   "cell_type": "code",
   "execution_count": null,
   "metadata": {},
   "outputs": [
    {
     "name": "stderr",
     "output_type": "stream",
     "text": [
      "  0%|          | 0/13842 [00:00<?, ?it/s]"
     ]
    },
    {
     "name": "stderr",
     "output_type": "stream",
     "text": [
      "100%|██████████| 13842/13842 [2:41:48<00:00,  1.43it/s]  \n"
     ]
    }
   ],
   "source": [
    "res = {}\n",
    "classnames = [\"positive\", \"negative\"]\n",
    "\n",
    "\n",
    "for i, row in tqdm(final_ratings.iterrows(), total=len(final_ratings)):\n",
    "        text = row['review_text']\n",
    "        myid = row['Id']\n",
    "        prediction = predict_sentiment(text)\n",
    "        res[myid] = classnames[prediction]\n",
    "        # print(f'Text: {text}')\n",
    "        # print(f'Sentiment: {classnames[prediction]}')\n",
    "        # break"
   ]
  },
  {
   "cell_type": "code",
   "execution_count": null,
   "metadata": {},
   "outputs": [
    {
     "data": {
      "text/html": [
       "<div>\n",
       "<style scoped>\n",
       "    .dataframe tbody tr th:only-of-type {\n",
       "        vertical-align: middle;\n",
       "    }\n",
       "\n",
       "    .dataframe tbody tr th {\n",
       "        vertical-align: top;\n",
       "    }\n",
       "\n",
       "    .dataframe thead th {\n",
       "        text-align: right;\n",
       "    }\n",
       "</style>\n",
       "<table border=\"1\" class=\"dataframe\">\n",
       "  <thead>\n",
       "    <tr style=\"text-align: right;\">\n",
       "      <th></th>\n",
       "      <th>Id</th>\n",
       "      <th>Result</th>\n",
       "      <th>book_id</th>\n",
       "      <th>title</th>\n",
       "      <th>User_id</th>\n",
       "      <th>profileName</th>\n",
       "      <th>review_score</th>\n",
       "      <th>review_text</th>\n",
       "    </tr>\n",
       "  </thead>\n",
       "  <tbody>\n",
       "    <tr>\n",
       "      <th>0</th>\n",
       "      <td>1747</td>\n",
       "      <td>positive</td>\n",
       "      <td>B000N6DDJQ</td>\n",
       "      <td>The Scarlet Letter A Romance</td>\n",
       "      <td>AUM3YMZ0YRJE0</td>\n",
       "      <td>Robert J. Crawford</td>\n",
       "      <td>5.0</td>\n",
       "      <td>WHen I finally started reading this classic, I...</td>\n",
       "    </tr>\n",
       "    <tr>\n",
       "      <th>1</th>\n",
       "      <td>1807</td>\n",
       "      <td>positive</td>\n",
       "      <td>B000N6DDJQ</td>\n",
       "      <td>The Scarlet Letter A Romance</td>\n",
       "      <td>AMKZHBOK7VMQR</td>\n",
       "      <td>R. J. Marsella</td>\n",
       "      <td>5.0</td>\n",
       "      <td>Hawthorne wrote a masterful work of historical...</td>\n",
       "    </tr>\n",
       "    <tr>\n",
       "      <th>2</th>\n",
       "      <td>1820</td>\n",
       "      <td>positive</td>\n",
       "      <td>B000N6DDJQ</td>\n",
       "      <td>The Scarlet Letter A Romance</td>\n",
       "      <td>AWLFVCT9128JV</td>\n",
       "      <td>Dave_42 \"Dave_42\"</td>\n",
       "      <td>4.0</td>\n",
       "      <td>I don't suppose anything can ruin a book more ...</td>\n",
       "    </tr>\n",
       "    <tr>\n",
       "      <th>3</th>\n",
       "      <td>1829</td>\n",
       "      <td>positive</td>\n",
       "      <td>B000N6DDJQ</td>\n",
       "      <td>The Scarlet Letter A Romance</td>\n",
       "      <td>ABN5K7K1TM1QA</td>\n",
       "      <td>Dennis Littrell</td>\n",
       "      <td>5.0</td>\n",
       "      <td>\"All have sinned and fall short of the glory o...</td>\n",
       "    </tr>\n",
       "    <tr>\n",
       "      <th>4</th>\n",
       "      <td>1830</td>\n",
       "      <td>positive</td>\n",
       "      <td>B000N6DDJQ</td>\n",
       "      <td>The Scarlet Letter A Romance</td>\n",
       "      <td>A3IKBHODOTYYHM</td>\n",
       "      <td>fra7299 \"fra7299\"</td>\n",
       "      <td>4.0</td>\n",
       "      <td>I think the many readers who were forced to pa...</td>\n",
       "    </tr>\n",
       "    <tr>\n",
       "      <th>...</th>\n",
       "      <td>...</td>\n",
       "      <td>...</td>\n",
       "      <td>...</td>\n",
       "      <td>...</td>\n",
       "      <td>...</td>\n",
       "      <td>...</td>\n",
       "      <td>...</td>\n",
       "      <td>...</td>\n",
       "    </tr>\n",
       "    <tr>\n",
       "      <th>13837</th>\n",
       "      <td>2999633</td>\n",
       "      <td>positive</td>\n",
       "      <td>B000P91JYW</td>\n",
       "      <td>Jane Eyre</td>\n",
       "      <td>A1D2C0WDCSHUWZ</td>\n",
       "      <td>E. A Solinas \"ea_solinas\"</td>\n",
       "      <td>5.0</td>\n",
       "      <td>It's hard to imagine a better gothic romance t...</td>\n",
       "    </tr>\n",
       "    <tr>\n",
       "      <th>13838</th>\n",
       "      <td>2999638</td>\n",
       "      <td>positive</td>\n",
       "      <td>B000P91JYW</td>\n",
       "      <td>Jane Eyre</td>\n",
       "      <td>AHUT55E980RDR</td>\n",
       "      <td>Neal C. Reynolds</td>\n",
       "      <td>4.0</td>\n",
       "      <td>I gather this is required reading at a lot of ...</td>\n",
       "    </tr>\n",
       "    <tr>\n",
       "      <th>13839</th>\n",
       "      <td>2999641</td>\n",
       "      <td>positive</td>\n",
       "      <td>B000P91JYW</td>\n",
       "      <td>Jane Eyre</td>\n",
       "      <td>A1T17LMQABMBN5</td>\n",
       "      <td>CoffeeGurl</td>\n",
       "      <td>5.0</td>\n",
       "      <td>Charlotte Bronte created quite an admirable he...</td>\n",
       "    </tr>\n",
       "    <tr>\n",
       "      <th>13840</th>\n",
       "      <td>2999646</td>\n",
       "      <td>positive</td>\n",
       "      <td>B000P91JYW</td>\n",
       "      <td>Jane Eyre</td>\n",
       "      <td>AJQ1S39GZBKUG</td>\n",
       "      <td>A. T. A. Oliveira \"A. T. A. Oliveira\"</td>\n",
       "      <td>5.0</td>\n",
       "      <td>Concerning on English classic novels `Jane Eyr...</td>\n",
       "    </tr>\n",
       "    <tr>\n",
       "      <th>13841</th>\n",
       "      <td>2999664</td>\n",
       "      <td>positive</td>\n",
       "      <td>B000P91JYW</td>\n",
       "      <td>Jane Eyre</td>\n",
       "      <td>AQCQ5F0OJXMG9</td>\n",
       "      <td>Crystal Starr Light</td>\n",
       "      <td>5.0</td>\n",
       "      <td>\"I need not sell my soul to buy bliss\"Jane Eyr...</td>\n",
       "    </tr>\n",
       "  </tbody>\n",
       "</table>\n",
       "<p>13842 rows × 8 columns</p>\n",
       "</div>"
      ],
      "text/plain": [
       "            Id    Result     book_id                         title  \\\n",
       "0         1747  positive  B000N6DDJQ  The Scarlet Letter A Romance   \n",
       "1         1807  positive  B000N6DDJQ  The Scarlet Letter A Romance   \n",
       "2         1820  positive  B000N6DDJQ  The Scarlet Letter A Romance   \n",
       "3         1829  positive  B000N6DDJQ  The Scarlet Letter A Romance   \n",
       "4         1830  positive  B000N6DDJQ  The Scarlet Letter A Romance   \n",
       "...        ...       ...         ...                           ...   \n",
       "13837  2999633  positive  B000P91JYW                     Jane Eyre   \n",
       "13838  2999638  positive  B000P91JYW                     Jane Eyre   \n",
       "13839  2999641  positive  B000P91JYW                     Jane Eyre   \n",
       "13840  2999646  positive  B000P91JYW                     Jane Eyre   \n",
       "13841  2999664  positive  B000P91JYW                     Jane Eyre   \n",
       "\n",
       "              User_id                            profileName  review_score  \\\n",
       "0       AUM3YMZ0YRJE0                     Robert J. Crawford           5.0   \n",
       "1       AMKZHBOK7VMQR                         R. J. Marsella           5.0   \n",
       "2       AWLFVCT9128JV                      Dave_42 \"Dave_42\"           4.0   \n",
       "3       ABN5K7K1TM1QA                        Dennis Littrell           5.0   \n",
       "4      A3IKBHODOTYYHM                      fra7299 \"fra7299\"           4.0   \n",
       "...               ...                                    ...           ...   \n",
       "13837  A1D2C0WDCSHUWZ              E. A Solinas \"ea_solinas\"           5.0   \n",
       "13838   AHUT55E980RDR                       Neal C. Reynolds           4.0   \n",
       "13839  A1T17LMQABMBN5                             CoffeeGurl           5.0   \n",
       "13840   AJQ1S39GZBKUG  A. T. A. Oliveira \"A. T. A. Oliveira\"           5.0   \n",
       "13841   AQCQ5F0OJXMG9                    Crystal Starr Light           5.0   \n",
       "\n",
       "                                             review_text  \n",
       "0      WHen I finally started reading this classic, I...  \n",
       "1      Hawthorne wrote a masterful work of historical...  \n",
       "2      I don't suppose anything can ruin a book more ...  \n",
       "3      \"All have sinned and fall short of the glory o...  \n",
       "4      I think the many readers who were forced to pa...  \n",
       "...                                                  ...  \n",
       "13837  It's hard to imagine a better gothic romance t...  \n",
       "13838  I gather this is required reading at a lot of ...  \n",
       "13839  Charlotte Bronte created quite an admirable he...  \n",
       "13840  Concerning on English classic novels `Jane Eyr...  \n",
       "13841  \"I need not sell my soul to buy bliss\"Jane Eyr...  \n",
       "\n",
       "[13842 rows x 8 columns]"
      ]
     },
     "execution_count": 119,
     "metadata": {},
     "output_type": "execute_result"
    }
   ],
   "source": [
    "results_df = pd.DataFrame.from_dict(res, orient='index', columns=['Result'])\n",
    "results_df = results_df.reset_index().rename(columns={'index':'Id'})\n",
    "results_df = results_df.merge(final_ratings, on='Id', how='left')\n",
    "results_df"
   ]
  },
  {
   "cell_type": "code",
   "execution_count": null,
   "metadata": {},
   "outputs": [
    {
     "data": {
      "image/png": "[encoded data removed]",
      "text/plain": [
       "<Figure size 1200x300 with 1 Axes>"
      ]
     },
     "metadata": {},
     "output_type": "display_data"
    }
   ],
   "source": [
    "import matplotlib.pyplot as plt\n",
    "\n",
    "fig, axs = plt.subplots(1, 1, figsize=(12, 3))\n",
    "sns.barplot(data=results_df, x='Result', y='review_score')\n",
    "# sns.barplot(data=results_df, x='review_score', y='roberta_neu', ax=axs[1])\n",
    "# sns.barplot(data=results_df, x='review_score', y='roberta_neg', ax=axs[2])\n",
    "# axs[0].set_title('Result')\n",
    "# axs[1].set_title('Neutral')\n",
    "# axs[2].set_title('Negative')\n",
    "plt.tight_layout()\n",
    "plt.show()"
   ]
  },
  {
   "cell_type": "code",
   "execution_count": null,
   "metadata": {},
   "outputs": [],
   "source": [
    "results_df.to_csv(\"C:/Users/adria/Documents/Projects/Books/Resources/DataFrames/SentimentAnalysis/200plusRatingsPerUser_60plusRatingsPerBook/results_df_distilbert.csv\",index=False)\n",
    "results_df.to_parquet(\"C:/Users/adria/Documents/Projects/Books/Resources/DataFrames/SentimentAnalysis/200plusRatingsPerUser_60plusRatingsPerBook/results_df_distilbert.parquet\",index=False)"
   ]
  },
  {
   "cell_type": "code",
   "execution_count": null,
   "metadata": {},
   "outputs": [
    {
     "name": "stdout",
     "output_type": "stream",
     "text": [
      "Total number of tokens 13,842 rows: 4704571\n",
      "Total number of tokens 2,999,992 rows: 430839022\n"
     ]
    }
   ],
   "source": [
    "def count_tokens(df):\n",
    "    # Initialize a count variable\n",
    "    token_count = 0\n",
    "\n",
    "    # Iterate over the dataframe rows\n",
    "    for row in df.itertuples():\n",
    "        # Split the text into tokens\n",
    "        tokens = row.review_text.split()\n",
    "\n",
    "        # Update the token count\n",
    "        token_count += len(tokens)\n",
    "\n",
    "    return token_count\n",
    "\n",
    "# Load the dataframe\n",
    "tokens_df = results_df[['review_text']].copy()\n",
    "\n",
    "# Count the tokens in the dataframe\n",
    "token_count = count_tokens(tokens_df)\n",
    "\n",
    "print(\"Total number of tokens 13,842 rows:\", token_count)\n",
    "\n",
    "token_count = count_tokens(ratings_df)\n",
    "\n",
    "print(\"Total number of tokens 2,999,992 rows:\", token_count)"
   ]
  },
  {
   "cell_type": "code",
   "execution_count": null,
   "metadata": {},
   "outputs": [],
   "source": [
    "# results df with Roberta\n",
    "\n",
    "results_df_roberta = pd.read_parquet(\"C:/Users/adria/Documents/Projects/Books/Resources/DataFrames/SentimentAnalysis/200plusRatingsPerUser_60plusRatingsPerBook/results_df.parquet\")"
   ]
  },
  {
   "cell_type": "code",
   "execution_count": null,
   "metadata": {},
   "outputs": [
    {
     "data": {
      "text/html": [
       "<div>\n",
       "<style scoped>\n",
       "    .dataframe tbody tr th:only-of-type {\n",
       "        vertical-align: middle;\n",
       "    }\n",
       "\n",
       "    .dataframe tbody tr th {\n",
       "        vertical-align: top;\n",
       "    }\n",
       "\n",
       "    .dataframe thead th {\n",
       "        text-align: right;\n",
       "    }\n",
       "</style>\n",
       "<table border=\"1\" class=\"dataframe\">\n",
       "  <thead>\n",
       "    <tr style=\"text-align: right;\">\n",
       "      <th></th>\n",
       "      <th>Id</th>\n",
       "      <th>Result</th>\n",
       "      <th>roberta_neg</th>\n",
       "      <th>roberta_neu</th>\n",
       "      <th>roberta_pos</th>\n",
       "      <th>book_id</th>\n",
       "      <th>title</th>\n",
       "      <th>User_id</th>\n",
       "      <th>profileName</th>\n",
       "      <th>review_score</th>\n",
       "      <th>review_text</th>\n",
       "    </tr>\n",
       "  </thead>\n",
       "  <tbody>\n",
       "    <tr>\n",
       "      <th>0</th>\n",
       "      <td>1747</td>\n",
       "      <td>positive</td>\n",
       "      <td>0.004265</td>\n",
       "      <td>0.053986</td>\n",
       "      <td>0.941749</td>\n",
       "      <td>B000N6DDJQ</td>\n",
       "      <td>The Scarlet Letter A Romance</td>\n",
       "      <td>AUM3YMZ0YRJE0</td>\n",
       "      <td>Robert J. Crawford</td>\n",
       "      <td>5.0</td>\n",
       "      <td>WHen I finally started reading this classic, I...</td>\n",
       "    </tr>\n",
       "    <tr>\n",
       "      <th>1</th>\n",
       "      <td>1807</td>\n",
       "      <td>positive</td>\n",
       "      <td>0.011064</td>\n",
       "      <td>0.125440</td>\n",
       "      <td>0.863495</td>\n",
       "      <td>B000N6DDJQ</td>\n",
       "      <td>The Scarlet Letter A Romance</td>\n",
       "      <td>AMKZHBOK7VMQR</td>\n",
       "      <td>R. J. Marsella</td>\n",
       "      <td>5.0</td>\n",
       "      <td>Hawthorne wrote a masterful work of historical...</td>\n",
       "    </tr>\n",
       "    <tr>\n",
       "      <th>2</th>\n",
       "      <td>1820</td>\n",
       "      <td>positive</td>\n",
       "      <td>0.118758</td>\n",
       "      <td>0.562613</td>\n",
       "      <td>0.318629</td>\n",
       "      <td>B000N6DDJQ</td>\n",
       "      <td>The Scarlet Letter A Romance</td>\n",
       "      <td>AWLFVCT9128JV</td>\n",
       "      <td>Dave_42 \"Dave_42\"</td>\n",
       "      <td>4.0</td>\n",
       "      <td>I don't suppose anything can ruin a book more ...</td>\n",
       "    </tr>\n",
       "    <tr>\n",
       "      <th>3</th>\n",
       "      <td>1829</td>\n",
       "      <td>positive</td>\n",
       "      <td>0.542925</td>\n",
       "      <td>0.406122</td>\n",
       "      <td>0.050953</td>\n",
       "      <td>B000N6DDJQ</td>\n",
       "      <td>The Scarlet Letter A Romance</td>\n",
       "      <td>ABN5K7K1TM1QA</td>\n",
       "      <td>Dennis Littrell</td>\n",
       "      <td>5.0</td>\n",
       "      <td>\"All have sinned and fall short of the glory o...</td>\n",
       "    </tr>\n",
       "    <tr>\n",
       "      <th>4</th>\n",
       "      <td>1830</td>\n",
       "      <td>positive</td>\n",
       "      <td>0.360523</td>\n",
       "      <td>0.539366</td>\n",
       "      <td>0.100111</td>\n",
       "      <td>B000N6DDJQ</td>\n",
       "      <td>The Scarlet Letter A Romance</td>\n",
       "      <td>A3IKBHODOTYYHM</td>\n",
       "      <td>fra7299 \"fra7299\"</td>\n",
       "      <td>4.0</td>\n",
       "      <td>I think the many readers who were forced to pa...</td>\n",
       "    </tr>\n",
       "    <tr>\n",
       "      <th>...</th>\n",
       "      <td>...</td>\n",
       "      <td>...</td>\n",
       "      <td>...</td>\n",
       "      <td>...</td>\n",
       "      <td>...</td>\n",
       "      <td>...</td>\n",
       "      <td>...</td>\n",
       "      <td>...</td>\n",
       "      <td>...</td>\n",
       "      <td>...</td>\n",
       "      <td>...</td>\n",
       "    </tr>\n",
       "    <tr>\n",
       "      <th>13837</th>\n",
       "      <td>2999633</td>\n",
       "      <td>positive</td>\n",
       "      <td>0.186010</td>\n",
       "      <td>0.572785</td>\n",
       "      <td>0.241205</td>\n",
       "      <td>B000P91JYW</td>\n",
       "      <td>Jane Eyre</td>\n",
       "      <td>A1D2C0WDCSHUWZ</td>\n",
       "      <td>E. A Solinas \"ea_solinas\"</td>\n",
       "      <td>5.0</td>\n",
       "      <td>It's hard to imagine a better gothic romance t...</td>\n",
       "    </tr>\n",
       "    <tr>\n",
       "      <th>13838</th>\n",
       "      <td>2999638</td>\n",
       "      <td>positive</td>\n",
       "      <td>0.118917</td>\n",
       "      <td>0.479040</td>\n",
       "      <td>0.402043</td>\n",
       "      <td>B000P91JYW</td>\n",
       "      <td>Jane Eyre</td>\n",
       "      <td>AHUT55E980RDR</td>\n",
       "      <td>Neal C. Reynolds</td>\n",
       "      <td>4.0</td>\n",
       "      <td>I gather this is required reading at a lot of ...</td>\n",
       "    </tr>\n",
       "    <tr>\n",
       "      <th>13839</th>\n",
       "      <td>2999641</td>\n",
       "      <td>positive</td>\n",
       "      <td>0.007511</td>\n",
       "      <td>0.075959</td>\n",
       "      <td>0.916531</td>\n",
       "      <td>B000P91JYW</td>\n",
       "      <td>Jane Eyre</td>\n",
       "      <td>A1T17LMQABMBN5</td>\n",
       "      <td>CoffeeGurl</td>\n",
       "      <td>5.0</td>\n",
       "      <td>Charlotte Bronte created quite an admirable he...</td>\n",
       "    </tr>\n",
       "    <tr>\n",
       "      <th>13840</th>\n",
       "      <td>2999646</td>\n",
       "      <td>positive</td>\n",
       "      <td>0.189373</td>\n",
       "      <td>0.449315</td>\n",
       "      <td>0.361312</td>\n",
       "      <td>B000P91JYW</td>\n",
       "      <td>Jane Eyre</td>\n",
       "      <td>AJQ1S39GZBKUG</td>\n",
       "      <td>A. T. A. Oliveira \"A. T. A. Oliveira\"</td>\n",
       "      <td>5.0</td>\n",
       "      <td>Concerning on English classic novels `Jane Eyr...</td>\n",
       "    </tr>\n",
       "    <tr>\n",
       "      <th>13841</th>\n",
       "      <td>2999664</td>\n",
       "      <td>positive</td>\n",
       "      <td>0.086913</td>\n",
       "      <td>0.366172</td>\n",
       "      <td>0.546914</td>\n",
       "      <td>B000P91JYW</td>\n",
       "      <td>Jane Eyre</td>\n",
       "      <td>AQCQ5F0OJXMG9</td>\n",
       "      <td>Crystal Starr Light</td>\n",
       "      <td>5.0</td>\n",
       "      <td>\"I need not sell my soul to buy bliss\"Jane Eyr...</td>\n",
       "    </tr>\n",
       "  </tbody>\n",
       "</table>\n",
       "<p>13842 rows × 11 columns</p>\n",
       "</div>"
      ],
      "text/plain": [
       "            Id    Result  roberta_neg  roberta_neu  roberta_pos     book_id  \\\n",
       "0         1747  positive     0.004265     0.053986     0.941749  B000N6DDJQ   \n",
       "1         1807  positive     0.011064     0.125440     0.863495  B000N6DDJQ   \n",
       "2         1820  positive     0.118758     0.562613     0.318629  B000N6DDJQ   \n",
       "3         1829  positive     0.542925     0.406122     0.050953  B000N6DDJQ   \n",
       "4         1830  positive     0.360523     0.539366     0.100111  B000N6DDJQ   \n",
       "...        ...       ...          ...          ...          ...         ...   \n",
       "13837  2999633  positive     0.186010     0.572785     0.241205  B000P91JYW   \n",
       "13838  2999638  positive     0.118917     0.479040     0.402043  B000P91JYW   \n",
       "13839  2999641  positive     0.007511     0.075959     0.916531  B000P91JYW   \n",
       "13840  2999646  positive     0.189373     0.449315     0.361312  B000P91JYW   \n",
       "13841  2999664  positive     0.086913     0.366172     0.546914  B000P91JYW   \n",
       "\n",
       "                              title         User_id  \\\n",
       "0      The Scarlet Letter A Romance   AUM3YMZ0YRJE0   \n",
       "1      The Scarlet Letter A Romance   AMKZHBOK7VMQR   \n",
       "2      The Scarlet Letter A Romance   AWLFVCT9128JV   \n",
       "3      The Scarlet Letter A Romance   ABN5K7K1TM1QA   \n",
       "4      The Scarlet Letter A Romance  A3IKBHODOTYYHM   \n",
       "...                             ...             ...   \n",
       "13837                     Jane Eyre  A1D2C0WDCSHUWZ   \n",
       "13838                     Jane Eyre   AHUT55E980RDR   \n",
       "13839                     Jane Eyre  A1T17LMQABMBN5   \n",
       "13840                     Jane Eyre   AJQ1S39GZBKUG   \n",
       "13841                     Jane Eyre   AQCQ5F0OJXMG9   \n",
       "\n",
       "                                 profileName  review_score  \\\n",
       "0                         Robert J. Crawford           5.0   \n",
       "1                             R. J. Marsella           5.0   \n",
       "2                          Dave_42 \"Dave_42\"           4.0   \n",
       "3                            Dennis Littrell           5.0   \n",
       "4                          fra7299 \"fra7299\"           4.0   \n",
       "...                                      ...           ...   \n",
       "13837              E. A Solinas \"ea_solinas\"           5.0   \n",
       "13838                       Neal C. Reynolds           4.0   \n",
       "13839                             CoffeeGurl           5.0   \n",
       "13840  A. T. A. Oliveira \"A. T. A. Oliveira\"           5.0   \n",
       "13841                    Crystal Starr Light           5.0   \n",
       "\n",
       "                                             review_text  \n",
       "0      WHen I finally started reading this classic, I...  \n",
       "1      Hawthorne wrote a masterful work of historical...  \n",
       "2      I don't suppose anything can ruin a book more ...  \n",
       "3      \"All have sinned and fall short of the glory o...  \n",
       "4      I think the many readers who were forced to pa...  \n",
       "...                                                  ...  \n",
       "13837  It's hard to imagine a better gothic romance t...  \n",
       "13838  I gather this is required reading at a lot of ...  \n",
       "13839  Charlotte Bronte created quite an admirable he...  \n",
       "13840  Concerning on English classic novels `Jane Eyr...  \n",
       "13841  \"I need not sell my soul to buy bliss\"Jane Eyr...  \n",
       "\n",
       "[13842 rows x 11 columns]"
      ]
     },
     "execution_count": 136,
     "metadata": {},
     "output_type": "execute_result"
    }
   ],
   "source": [
    "results_df_roberta_distilbert = pd.DataFrame.from_dict(res, orient='index', columns=['Result'])\n",
    "results_df_roberta_distilbert = results_df_roberta_distilbert.reset_index().rename(columns={'index':'Id'})\n",
    "results_df_roberta_distilbert = results_df_roberta_distilbert.merge(results_df_roberta, on='Id', how='left')\n",
    "results_df_roberta_distilbert"
   ]
  },
  {
   "cell_type": "code",
   "execution_count": null,
   "metadata": {},
   "outputs": [],
   "source": [
    "results_df_roberta_distilbert.to_parquet(\"C:/Users/adria/Documents/Projects/Books/Resources/DataFrames/SentimentAnalysis/200plusRatingsPerUser_60plusRatingsPerBook/results_df_roberta_distilbert.parquet\",index=False)"
   ]
  },
  {
   "cell_type": "code",
   "execution_count": null,
   "metadata": {},
   "outputs": [],
   "source": [
    "results_df_roberta_distilbert.to_csv(\"C:/Users/adria/Documents/Projects/Books/Resources/DataFrames/SentimentAnalysis/200plusRatingsPerUser_60plusRatingsPerBook/results_df_roberta_distilbert.csv\",index=False)"
   ]
  },
  {
   "cell_type": "code",
   "execution_count": null,
   "metadata": {},
   "outputs": [],
   "source": []
  }
 ],
 "metadata": {
  "kernelspec": {
   "display_name": "python_base",
   "language": "python",
   "name": "python3"
  },
  "language_info": {
   "codemirror_mode": {
    "name": "ipython",
    "version": 3
   },
   "file_extension": ".py",
   "mimetype": "text/x-python",
   "name": "python",
   "nbconvert_exporter": "python",
   "pygments_lexer": "ipython3",
   "version": "3.10.13"
  }
 },
 "nbformat": 4,
 "nbformat_minor": 2
}
